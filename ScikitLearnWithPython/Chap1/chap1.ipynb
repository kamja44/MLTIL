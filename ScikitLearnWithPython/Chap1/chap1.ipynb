{
 "cells": [
  {
   "cell_type": "code",
   "execution_count": 1,
   "id": "initial_id",
   "metadata": {
    "collapsed": true,
    "ExecuteTime": {
     "end_time": "2023-08-03T14:40:45.774454800Z",
     "start_time": "2023-08-03T14:40:44.875347700Z"
    }
   },
   "outputs": [],
   "source": [
    "from IPython.display import display\n",
    "import numpy as np\n",
    "import matplotlib.pyplot as plt\n",
    "import pandas as pd\n",
    "import mglearn"
   ]
  },
  {
   "cell_type": "markdown",
   "source": [
    "지도 학습\n",
    "- 붓꽃의 품종을 정확하게 분류한 데이터를 가지고 있다.\n",
    "분류(Classification)\n",
    "- 몇 가지 선택사항(붓꽃의 품종) 중 하나를 선택한다.\n",
    "- 데이터셋에 있는 붓꽃 데이터는 모두 세 클래스 중 하나에 속하기에, 세 개의 클래스를 분류하는 문제이다.\n",
    "클래스(Class)\n",
    "- 출력 될 수 있는 값(붓꽃의 종류)들\n",
    "레이블(label)\n",
    "- 데이터 포인트 하나(붓꽃 하나)에 대한 기대 출력은 꽃의 품종이다.\n",
    "- 이런 특징 데이터의 포인트에 대한 출력 즉, 품종을 레이블이라고 한다.\n",
    "샘플\n",
    "- 머신러닝에서 각 아이템을 샘플이라고 한다.\n",
    "특성\n",
    "- 머신러닝에서 각 아이템의 속성을 특성이라고 한다.\n",
    "    - 즉, data 배열의 크기는 샘플의 수에 특성의 수를 곱한 값이 된다.  "
   ],
   "metadata": {
    "collapsed": false
   },
   "id": "d15d8074acf2b977"
  },
  {
   "cell_type": "code",
   "execution_count": 2,
   "outputs": [
    {
     "name": "stdout",
     "output_type": "stream",
     "text": [
      "iris_dataset의 키: \n",
      " dict_keys(['data', 'target', 'frame', 'target_names', 'DESCR', 'feature_names', 'filename', 'data_module'])\n"
     ]
    }
   ],
   "source": [
    "from sklearn.datasets import load_iris\n",
    "iris_dataset = load_iris()\n",
    "print(\"iris_dataset의 키: \\n\", iris_dataset.keys())"
   ],
   "metadata": {
    "collapsed": false,
    "ExecuteTime": {
     "end_time": "2023-08-03T14:47:11.218226400Z",
     "start_time": "2023-08-03T14:47:11.200739300Z"
    }
   },
   "id": "6afba4912ec1690e"
  },
  {
   "cell_type": "code",
   "execution_count": 3,
   "outputs": [
    {
     "name": "stdout",
     "output_type": "stream",
     "text": [
      ".. _iris_dataset:\n",
      "\n",
      "Iris plants dataset\n",
      "--------------------\n",
      "\n",
      "**Data Set Characteristics:**\n",
      "\n",
      "    :Number of Instances: 150 (50 in each of three classes)\n",
      "    :Number of Attributes: 4 numeric, pre\n",
      "...\n"
     ]
    }
   ],
   "source": [
    "print(iris_dataset['DESCR'][:193] + \"\\n...\")"
   ],
   "metadata": {
    "collapsed": false,
    "ExecuteTime": {
     "end_time": "2023-08-03T14:47:38.354784400Z",
     "start_time": "2023-08-03T14:47:38.341233200Z"
    }
   },
   "id": "ecafa5bc673d1de2"
  },
  {
   "cell_type": "markdown",
   "source": [
    "모델을 만들 때 쓴 데이터는 평가 목적으로 사용할 수 없다.\n",
    "- 모델이 일반화되지 않을 수 있다.\n",
    "    - 모델이 훈련 데이터를 전부 기억할 수 있기 때문\n",
    "        - 즉, 새로운 데이터에 대해서 잘 작동하지 않는다.\n",
    "- 즉, 모델을 만들 때 훈련 세트(training set)와 테스트 세트(test set)으로 나눈다.\n",
    "    - scikit_learn의 train_test_split 함수를 사용한다.  "
   ],
   "metadata": {
    "collapsed": false
   },
   "id": "6daf4cbeeef0338f"
  },
  {
   "cell_type": "code",
   "execution_count": 6,
   "outputs": [],
   "source": [],
   "metadata": {
    "collapsed": false,
    "ExecuteTime": {
     "end_time": "2023-08-03T14:50:49.959020700Z",
     "start_time": "2023-08-03T14:50:49.951507800Z"
    }
   },
   "id": "8c6d41be6994f3f0"
  },
  {
   "cell_type": "code",
   "execution_count": null,
   "outputs": [],
   "source": [],
   "metadata": {
    "collapsed": false
   },
   "id": "1a1818f8e1c10912"
  }
 ],
 "metadata": {
  "kernelspec": {
   "display_name": "Python 3",
   "language": "python",
   "name": "python3"
  },
  "language_info": {
   "codemirror_mode": {
    "name": "ipython",
    "version": 2
   },
   "file_extension": ".py",
   "mimetype": "text/x-python",
   "name": "python",
   "nbconvert_exporter": "python",
   "pygments_lexer": "ipython2",
   "version": "2.7.6"
  }
 },
 "nbformat": 4,
 "nbformat_minor": 5
}

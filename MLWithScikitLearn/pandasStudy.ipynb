{
 "cells": [
  {
   "cell_type": "code",
   "execution_count": null,
   "metadata": {},
   "outputs": [],
   "source": [
    "'''\n",
    "판다스\n",
    "- 2차원 데이터 처리를 넘파이보다 더 효율적으로 처리한다.\n",
    "- index\n",
    "    - 개별 데이터를 식별하는 key\n",
    "- Series\n",
    "    - 칼럼이 하나인 데이터 구조체\n",
    "- DataFrame\n",
    "    - 칼럼이 여러 개인 데이터 구조체\n",
    "\n",
    "판다스를 사용하기 위해선 우선적으로 데이터프레임으로 변형시켜야한다.\n",
    "'''\n",
    "import pandas as pd"
   ]
  },
  {
   "cell_type": "code",
   "execution_count": null,
   "metadata": {},
   "outputs": [],
   "source": [
    "# csv 파일 읽기\n",
    "titanic_df = pd.read_csv(\"D:/MLLectureData/train.csv\")\n",
    "titanic_df.head(3)"
   ]
  },
  {
   "cell_type": "code",
   "execution_count": null,
   "metadata": {},
   "outputs": [],
   "source": [
    "print(type(titanic_df)) # <class 'pandas.core.frame.DataFrame'>\n",
    "titanic_df"
   ]
  },
  {
   "cell_type": "code",
   "execution_count": null,
   "metadata": {},
   "outputs": [],
   "source": [
    "# shape() -> 행과 열의 개수를 보여준다.\n",
    "print(titanic_df.shape)"
   ]
  },
  {
   "cell_type": "code",
   "execution_count": null,
   "metadata": {},
   "outputs": [],
   "source": [
    "'''\n",
    "DataFrame.info()\n",
    "Feature(열) 정보를 표현한다.\n",
    "'''\n",
    "titanic_df.info()"
   ]
  },
  {
   "cell_type": "code",
   "execution_count": null,
   "metadata": {},
   "outputs": [],
   "source": [
    "'''\n",
    "DataFrame.describe()\n",
    "데이터의 통계적인 수치들을 나타낸다.\n",
    "'''\n",
    "titanic_df.describe()"
   ]
  },
  {
   "cell_type": "code",
   "execution_count": null,
   "metadata": {},
   "outputs": [],
   "source": [
    "'''\n",
    "특정 컬럼 추출\n",
    "DataFrame[\"Feature(컬럼) 이름\"]\n",
    "- 특정 Feature(컬럼)을 Series로 반환한다.\n",
    "    - Series는 특정 Feature(컬럼) 하나를 표현한다.\n",
    "'''\n",
    "pclass = titanic_df[\"Pclass\"]\n",
    "print(pclass)"
   ]
  },
  {
   "cell_type": "code",
   "execution_count": null,
   "metadata": {},
   "outputs": [],
   "source": [
    "'''\n",
    "value_counts()\n",
    "- 값의 유형과 건 수\n",
    "'''\n",
    "print(pclass.value_counts())"
   ]
  },
  {
   "cell_type": "code",
   "execution_count": null,
   "metadata": {},
   "outputs": [],
   "source": [
    "'''\n",
    "1차원 리스트 -> DataFrame 변환\n",
    "'''\n",
    "col_name1 = [\"col1\"]\n",
    "list = [1, 2, 3]\n",
    "df_list1 = pd.DataFrame(list, columns=col_name1)\n",
    "print(df_list1)"
   ]
  },
  {
   "cell_type": "code",
   "execution_count": null,
   "metadata": {},
   "outputs": [],
   "source": [
    "'''\n",
    "1차원 ndarray -> DataFrame 변환\n",
    "'''\n",
    "import numpy as np\n",
    "col_name1 = [\"col1\"]\n",
    "array1 = np.array([1, 2, 3])\n",
    "print(array1.shape)\n",
    "df_array1 = pd.DataFrame(array1, columns = col_name1)\n",
    "print(df_list1)"
   ]
  },
  {
   "cell_type": "code",
   "execution_count": null,
   "metadata": {},
   "outputs": [],
   "source": [
    "'''\n",
    "2차원 리스트 -> DataFrame 변환\n",
    "'''\n",
    "col_name2 = [\"col1\", \"col2\", \"col3\"]\n",
    "list2 = [[1, 2, 3], [11, 12, 13]]\n",
    "df_list2 = pd.DataFrame(list2, columns = col_name2)\n",
    "print(df_list2)\n",
    "'''\n",
    "   col1  col2  col3\n",
    "0     1     2     3\n",
    "1    11    12    13\n",
    "'''\n",
    "\n",
    "'''\n",
    "2차원 ndarray -> DataFrame 변환\n",
    "'''\n",
    "col_name2 = [\"col1\", \"col2\", \"col3\"]\n",
    "array2 = np.array([[1, 2, 3], [11, 12, 13]])\n",
    "print(array2.shape) # (2, 3)\n",
    "df_array2 = pd.DataFrame(array2, columns = col_name2)\n",
    "print(df_array2)\n",
    "'''\n",
    "   col1  col2  col3\n",
    "0     1     2     3\n",
    "1    11    12    13\n",
    "'''"
   ]
  },
  {
   "cell_type": "code",
   "execution_count": null,
   "metadata": {},
   "outputs": [],
   "source": [
    "'''\n",
    "딕셔너리 -> DataFrame\n",
    "딕셔너리 = 키 값 쌍으로 이뤄져 있음\n",
    "- 키\n",
    "    - 컬럼 이름\n",
    "- 값\n",
    "    - 컬럼 데이터\n",
    "'''\n",
    "dict = {\n",
    "    \"col1\" : [1, 11],\n",
    "    \"col2\" : [2, 22],\n",
    "    \"col3\" : [3, 33]\n",
    "}\n",
    "\n",
    "df_dict = pd.DataFrame(dict)\n",
    "print(df_dict)\n",
    "'''\n",
    "   col1  col2  col3\n",
    "0     1     2     3\n",
    "1    11    22    33\n",
    "'''"
   ]
  },
  {
   "cell_type": "code",
   "execution_count": null,
   "metadata": {},
   "outputs": [],
   "source": [
    "'''\n",
    "DataFrame -> ndarray 변환\n",
    "values를 이용하여, DataFrame에서 기존 값을 추출한다.\n",
    "'''\n",
    "array3 = df_dict.values\n",
    "print(type(array3), array3.shape) # <class 'numpy.ndarray'> (2, 3)\n",
    "print(array3)\n",
    "'''\n",
    "[[ 1  2  3]\n",
    " [11 22 33]]\n",
    "'''\n"
   ]
  },
  {
   "cell_type": "code",
   "execution_count": null,
   "metadata": {},
   "outputs": [],
   "source": [
    "'''\n",
    "DataFrame -> 리스트 변환\n",
    "DataFrame을 리스트로 변환하기 위해선, DataFrame을 ndarray로 변환한 후, 리스트로 변환해야 한다.\n",
    "- ndarray를 얻은 후 tolist()를 사용한다.\n",
    "'''\n",
    "list3 = df_dict.values.tolist()\n",
    "print(type(list3)) # <class 'list'>\n",
    "print(list3) # [[1, 2, 3], [11, 22, 33]]"
   ]
  },
  {
   "cell_type": "code",
   "execution_count": null,
   "metadata": {},
   "outputs": [],
   "source": [
    "'''\n",
    "DataFrame -> 딕셔너리 변환\n",
    "- DataFrame의 to_dict(\"list\")사용\n",
    "    - to_dict(\"list\")에서 list의 의미\n",
    "        - 딕셔너리는 키, 값 쌍으로 이뤄져 있다.\n",
    "        - 키, 값 쌍 중 값을 리스트로 나타낸다는 의미이다.\n",
    "'''\n",
    "dict3 = df_dict.to_dict(\"list\")\n",
    "print(type(dict3)) # <class 'dict'>\n",
    "print(dict3) # {'col1': [1, 11], 'col2': [2, 22], 'col3': [3, 33]} -> value들이 list로 표현되었다."
   ]
  },
  {
   "cell_type": "code",
   "execution_count": null,
   "metadata": {},
   "outputs": [],
   "source": [
    "'''\n",
    "판다스의 DataFrame 조작\n",
    "\n",
    "컬럼 \"Age_0\" 추가 및 모든 값을 0으로 할당한다.\n",
    "'''\n",
    "titanic_df[\"Age_0\"] = 0\n",
    "titanic_df.head(3)"
   ]
  },
  {
   "cell_type": "code",
   "execution_count": null,
   "metadata": {},
   "outputs": [],
   "source": [
    "'''\n",
    "기존 컬럼 이용 방법\n",
    "- 컬럼 간의 연산 수행\n",
    "'''\n",
    "titanic_df[\"Age_by_10\"] = titanic_df[\"Age\"] * 10\n",
    "titanic_df[\"Family_No\"] = titanic_df[\"SibSp\"] + titanic_df[\"Parch\"] + 1\n",
    "titanic_df.head(3)"
   ]
  },
  {
   "cell_type": "code",
   "execution_count": null,
   "metadata": {},
   "outputs": [],
   "source": [
    "'''\n",
    "기존 컬럼 값 갱신\n",
    "'''\n",
    "titanic_df[\"Age_by_10\"] = titanic_df[\"Age_by_10\"] + 100\n",
    "titanic_df.head(3)"
   ]
  },
  {
   "cell_type": "code",
   "execution_count": null,
   "metadata": {},
   "outputs": [],
   "source": [
    "'''\n",
    "판다스의 데이터 삭제\n",
    "- 컬럼 삭제, 행 삭제 가능\n",
    "- DataFrame.drop(labels=None, axis=0, index=None, columns=None, level=None, inplace=False, errors=\"raise\")\n",
    "    - axis = 0인 경우 인덱스 번호를 지정하여 삭제한다.\n",
    "    - axis = 1인 경우 컬럼 이름을 지정하여 삭제한다.\n",
    "    - inplace\n",
    "        - 원본 수정 여부를 묻는다. False일 경우 원본은 그대로 유지된다.\n",
    "axis = 0\n",
    "    - 아래쪽 방향 지정 ↓\n",
    "axis = 1\n",
    "    - 오른쪽 방향 지정 →\n",
    "'''\n",
    "drop_df = titanic_df.drop(\"Age_0\", axis=1)\n",
    "drop_df.head(3) # titanic_df에는 Age_0 컬럼이 살아 있다. -> inplace가 False이기 때문"
   ]
  },
  {
   "cell_type": "code",
   "execution_count": null,
   "metadata": {},
   "outputs": [],
   "source": [
    "drop_df = titanic_df.drop([\"Age_0\", \"Age_by_10\", \"Family_No\"], axis=1, inplace = True)\n",
    "print(drop_df) # None\n",
    "titanic_df.head(3)"
   ]
  },
  {
   "cell_type": "code",
   "execution_count": null,
   "metadata": {},
   "outputs": [],
   "source": [
    "'''\n",
    "원본의 행 삭제\n",
    "'''\n",
    "titanic_df.drop([0, 1, 2], axis=0, inplace=True)\n",
    "titanic_df.head(3)"
   ]
  },
  {
   "cell_type": "code",
   "execution_count": null,
   "metadata": {},
   "outputs": [],
   "source": [
    "'''\n",
    "인덱스 객체 추출\n",
    "'''\n",
    "titanic_df = pd.read_csv(\"D:/MLLectureData/train.csv\")\n",
    "indices = titanic_df.index\n",
    "print(indices) # RangeIndex(start=0, stop=891, step=1)\n",
    "print(indices.values)"
   ]
  },
  {
   "cell_type": "code",
   "execution_count": null,
   "metadata": {},
   "outputs": [],
   "source": [
    "'''\n",
    "인덱스 객체\n",
    "\n",
    "인덱스 객체는 읽을 수 있지만, 수정할 수는 없다.\n",
    "'''\n",
    "print(type(indices.values)) # <class 'numpy.ndarray'>\n",
    "print(indices.values.shape) # (891,)\n",
    "print(indices[:5].values) # [0 1 2 3 4]\n",
    "print(indices.values[:5]) # [0 1 2 3 4]\n",
    "print(indices[6]) # 6\n",
    "\n",
    "# indices[0] = 5 -> Error"
   ]
  },
  {
   "cell_type": "code",
   "execution_count": null,
   "metadata": {},
   "outputs": [],
   "source": [
    "'''\n",
    "Series 객체\n",
    "- 컬럼 하나만으로 구성된 객체이다.(인덱스는 미포함 즉, 인덱스 컬럼 포함하면 컬럼 2개)\n",
    "'''\n",
    "\n",
    "series_fair = titanic_df[\"Fare\"]\n",
    "print(series_fair)\n",
    "'''\n",
    "0       7.2500\n",
    "1      71.2833\n",
    "2       7.9250\n",
    "3      53.1000\n",
    "4       8.0500\n",
    "        ...   \n",
    "886    13.0000\n",
    "887    30.0000\n",
    "888    23.4500\n",
    "889    30.0000\n",
    "890     7.7500\n",
    "Name: Fare, Length: 891, dtype: float64\n",
    "'''\n",
    "print(series_fair.max()) # 512.3292\n",
    "print(series_fair.sum()) # 28693.9493\n",
    "print(sum(series_fair)) # 28693.949299999967\n",
    "print((series_fair + 3).head(3))\n",
    "'''\n",
    "0    10.2500\n",
    "1    74.2833\n",
    "2    10.9250\n",
    "Name: Fare, dtype: float64\n",
    "'''"
   ]
  },
  {
   "cell_type": "code",
   "execution_count": null,
   "metadata": {},
   "outputs": [],
   "source": [
    "'''\n",
    "인덱스 리셋\n",
    "- reset_index()\n",
    "    - reset_index()의 inplace 매개변수가 False일 경우, 원본은 그대로 유지한다.\n",
    "- 원래 존재하는 index는 index라는 이름의 컬럼으로 추가된다.\n",
    "    - 새로운 index 컬럼이 생성된다.\n",
    "'''\n",
    "reset_df = titanic_df.reset_index(inplace=False)\n",
    "reset_df.head(3)"
   ]
  },
  {
   "cell_type": "code",
   "execution_count": null,
   "metadata": {},
   "outputs": [],
   "source": [
    "values_counts = titanic_df[\"Pclass\"].value_counts() # value_counts()를 이용한 리턴값은 Series 타입으로 반환된다.\n",
    "print(values_counts)\n",
    "'''\n",
    "Pclass\n",
    "3    491\n",
    "1    216\n",
    "2    184\n",
    "Name: count, dtype: int64\n",
    "'''\n",
    "print(type(values_counts)) # <class 'pandas.core.series.Series'>\n",
    "new_value_counts = values_counts.reset_index(inplace=False)\n",
    "print(new_value_counts)\n",
    "'''\n",
    "   Pclass  count\n",
    "0       3    491\n",
    "1       1    216\n",
    "2       2    184\n",
    "'''\n",
    "print(type(new_value_counts)) # <class 'pandas.core.frame.DataFrame'> 컬럼이 2개(Pclass, count)가 되었으니 Series 타입에서 DataFrame 타입으로 변경되었다.\n"
   ]
  },
  {
   "cell_type": "code",
   "execution_count": null,
   "metadata": {},
   "outputs": [],
   "source": [
    "'''\n",
    "인덱스 컬럼을 생성할때 기존 인덱스는 삭제시키기\n",
    "- reset_index(drop=True)를 사용한다.\n",
    "'''\n",
    "reset_df = titanic_df.reset_index(inplace=False, drop=True)\n",
    "reset_df.head(3)"
   ]
  },
  {
   "cell_type": "code",
   "execution_count": null,
   "metadata": {},
   "outputs": [],
   "source": [
    "'''\n",
    "인덱스 컬럼 리셋(drop = True)\n",
    "'''\n",
    "value_counts = titanic_df[\"Pclass\"].value_counts()\n",
    "print(value_counts)\n",
    "'''\n",
    "Pclass\n",
    "3    491\n",
    "1    216\n",
    "2    184\n",
    "Name: count, dtype: int64\n",
    "'''\n",
    "print(type(value_counts)) # <class 'pandas.core.series.Series'>\n",
    "new_value_counts = value_counts.reset_index(inplace=False, drop = True)\n",
    "print(new_value_counts)\n",
    "'''\n",
    "0    491\n",
    "1    216\n",
    "2    184\n",
    "Name: count, dtype: int64\n",
    "'''\n",
    "print(type(new_value_counts)) # <class 'pandas.core.series.Series'>"
   ]
  },
  {
   "cell_type": "code",
   "execution_count": null,
   "metadata": {},
   "outputs": [],
   "source": [
    "'''\n",
    "DataFrame의 [] 연산자\n",
    "- 컬럼 이름 지정\n",
    "'''\n",
    "titanic_df[\"Pclass\"].head(3)"
   ]
  },
  {
   "cell_type": "code",
   "execution_count": null,
   "metadata": {},
   "outputs": [],
   "source": [
    "titanic_df[[\"Survived\", \"Pclass\"]].head(3)"
   ]
  },
  {
   "cell_type": "code",
   "execution_count": null,
   "metadata": {},
   "outputs": [],
   "source": [
    "'''\n",
    "DataFrame의 [] 연산자\n",
    "- 불리언 인덱스\n",
    "'''\n",
    "titanic_df[titanic_df[\"Pclass\"] == 3].head(3) # titanic_df의 Pclass가 3인 행을 출력한다.\n",
    "\n",
    "# 단일 인덱스 숫자를 사용하면 오류가 발생한다. 단, 슬라이싱은 가능하다.\n",
    "# titanic_df[0]"
   ]
  },
  {
   "cell_type": "code",
   "execution_count": null,
   "metadata": {},
   "outputs": [],
   "source": [
    "# 슬라이싱이 가능하지만, 사용하지 않는 것이 좋다.\n",
    "titanic_df[0:2]"
   ]
  },
  {
   "cell_type": "code",
   "execution_count": null,
   "metadata": {},
   "outputs": [],
   "source": [
    "'''\n",
    "판다스의 위치 기반 인덱싱\n",
    "- DataFrame의 iloc[]\n",
    "'''\n",
    "data = {\n",
    "    \"Name\" : [\"Chulmin\", \"Eunkyung\", \"Jinwoong\", \"Soobeom\"],\n",
    "    \"Year\" : [2011, 2016, 2015, 2015],\n",
    "    \"Gender\" : [\"Male\", \"Female\", \"Male\", \"Male\"]\n",
    "}\n",
    "data_df = pd.DataFrame(data, index = [\"one\", \"two\", \"three\", \"four\"])\n",
    "data_df"
   ]
  },
  {
   "cell_type": "code",
   "execution_count": null,
   "metadata": {},
   "outputs": [],
   "source": [
    "# iloc[]에는 index만 넣을 수 있다, 이름으로 입력하면 오류가 발생한다.\n",
    "\n",
    "# data_df.iloc[0, \"Name\"]\n",
    "\n",
    "# data_df.iloc[\"one\", 0]"
   ]
  },
  {
   "cell_type": "code",
   "execution_count": null,
   "metadata": {},
   "outputs": [],
   "source": [
    "'''\n",
    "DataFrame의 iloc[]은 팬시 인덱싱이 가능하다.\n",
    "'''\n",
    "print(data_df.iloc[[0, 2], 0])\n",
    "'''\n",
    "one       Chulmin\n",
    "three    Jinwoong\n",
    "Name: Name, dtype: object\n",
    "'''\n",
    "print(data_df.iloc[[0, 2], [0, 2]])\n",
    "'''\n",
    "           Name Gender\n",
    "one     Chulmin   Male\n",
    "three  Jinwoong   Male\n",
    "'''"
   ]
  },
  {
   "cell_type": "code",
   "execution_count": null,
   "metadata": {},
   "outputs": [],
   "source": [
    "'''\n",
    "DataFrame의 iloc[]은 슬라이싱이 가능하다.\n",
    "'''\n",
    "print(data_df.iloc[1:3, 0])\n",
    "'''\n",
    "two      Eunkyung\n",
    "three    Jinwoong\n",
    "Name: Name, dtype: object\n",
    "'''\n",
    "print(data_df.iloc[2:, 1:3])\n",
    "'''\n",
    "       Year Gender\n",
    "three  2015   Male\n",
    "four   2015   Male\n",
    "'''"
   ]
  },
  {
   "cell_type": "code",
   "execution_count": null,
   "metadata": {},
   "outputs": [],
   "source": [
    "'''\n",
    "DataFrame의 loc[]\n",
    "- 이름 기반 인덱싱\n",
    "'''\n",
    "print(data_df.loc[\"one\", \"Name\"]) # Chulmin"
   ]
  },
  {
   "cell_type": "code",
   "execution_count": null,
   "metadata": {},
   "outputs": [],
   "source": [
    "'''\n",
    "DataFrame의 loc[]\n",
    "- 이름이 숫자인 경우\n",
    "'''\n",
    "reset_df = data_df.reset_index()\n",
    "reset_df.index = reset_df.index + 1\n",
    "print(reset_df)"
   ]
  },
  {
   "cell_type": "code",
   "execution_count": null,
   "metadata": {},
   "outputs": [],
   "source": [
    "print(reset_df.loc[1, \"Name\"]) # Chulmin\n",
    "# print(reset_df.loc[0, \"Name\"]) Error"
   ]
  },
  {
   "cell_type": "code",
   "execution_count": null,
   "metadata": {},
   "outputs": [],
   "source": [
    "'''\n",
    "DataFrame의 loc[]\n",
    "- 팬시 인덱싱이 가능하다.\n",
    "'''\n",
    "print(data_df.loc[[\"one\", \"three\"], \"Name\"])\n",
    "'''\n",
    "one       Chulmin\n",
    "three    Jinwoong\n",
    "Name: Name, dtype: object\n",
    "'''\n",
    "print(data_df.loc[[\"one\", \"three\"], [\"Name\", \"Gender\"]])\n",
    "'''\n",
    "           Name Gender\n",
    "one     Chulmin   Male\n",
    "three  Jinwoong   Male\n",
    "'''"
   ]
  },
  {
   "cell_type": "code",
   "execution_count": null,
   "metadata": {},
   "outputs": [],
   "source": [
    "'''\n",
    "DataFrame의 loc[]\n",
    "- 슬라이싱이 가능하다.\n",
    "    - 이름 기반이르모 -1을 못할 수도 있다.\n",
    "'''\n",
    "print(data_df.loc[\"one\" : \"three\", \"Name\"])\n",
    "'''\n",
    "one       Chulmin\n",
    "two      Eunkyung\n",
    "three    Jinwoong\n",
    "Name: Name, dtype: object\n",
    "'''\n",
    "print(data_df.loc[\"one\" : \"three\", \"Name\" : \"Year\"])\n",
    "'''\n",
    "           Name  Year\n",
    "one     Chulmin  2011\n",
    "two    Eunkyung  2016\n",
    "three  Jinwoong  2015\n",
    "'''\n"
   ]
  },
  {
   "cell_type": "code",
   "execution_count": null,
   "metadata": {},
   "outputs": [],
   "source": [
    "'''\n",
    "DataFrame의 loc[]\n",
    "- 불리언 인덱싱이 가능하다.\n",
    "'''\n",
    "titanic_boolean = titanic_df[titanic_df[\"Age\"] > 60]\n",
    "print(type(titanic_boolean)) # <class 'pandas.core.frame.DataFrame'>\n",
    "titanic_boolean"
   ]
  },
  {
   "cell_type": "code",
   "execution_count": null,
   "metadata": {},
   "outputs": [],
   "source": [
    "titanic_df[titanic_df[\"Age\"] > 60][[\"Name\", \"Age\"]].head(3) # 불리언 인덱싱 + 팬시 인덱싱"
   ]
  },
  {
   "cell_type": "code",
   "execution_count": null,
   "metadata": {},
   "outputs": [],
   "source": [
    "titanic_df.loc[titanic_df[\"Age\"] > 60, [\"Name\", \"Age\"]].head(3) # 불리언 인덱싱 + 이름 기반 인덱싱 + 팬시 인덱싱"
   ]
  },
  {
   "cell_type": "code",
   "execution_count": null,
   "metadata": {},
   "outputs": [],
   "source": [
    "'''\n",
    "불리언 인덱싱은 다음과 같은 조건 사용이 가능하다.\n",
    "- AND(&), OR(|), NOT(~)\n",
    "'''\n",
    "titanic_df[(titanic_df[\"Age\"] > 60) & (titanic_df[\"Pclass\"] == 1) & (titanic_df[\"Sex\"] == \"female\")]"
   ]
  },
  {
   "cell_type": "code",
   "execution_count": null,
   "metadata": {},
   "outputs": [],
   "source": [
    "cond1 = titanic_df[\"Age\"] > 60\n",
    "cond2 = titanic_df[\"Pclass\"] == 1\n",
    "cond3 = titanic_df[\"Sex\"] == \"female\"\n",
    "titanic_df[cond1 & cond2 & cond3]"
   ]
  },
  {
   "cell_type": "code",
   "execution_count": null,
   "metadata": {},
   "outputs": [],
   "source": [
    "'''\n",
    "판다스의 정렬\n",
    "- by\n",
    "    - 해당 컬럼으로 정렬한다.\n",
    "- ascending\n",
    "    - 오름차순 True(기본값), 내림차순(False)\n",
    "- inplace\n",
    "    - 원본 수정(True), 원본 유지(False)\n",
    "'''\n",
    "titanic_sorted = titanic_df.sort_values(by = [\"Name\"])\n",
    "titanic_sorted.head(3)"
   ]
  },
  {
   "cell_type": "code",
   "execution_count": null,
   "metadata": {},
   "outputs": [],
   "source": [
    "titanic_sorted = titanic_df.sort_values(by=[\"Pclass\", \"Name\"], ascending=False) # Plcass를 기준으로 정렬한 후, Name을 정렬한다.\n",
    "titanic_sorted.head(3)"
   ]
  },
  {
   "cell_type": "code",
   "execution_count": null,
   "metadata": {},
   "outputs": [],
   "source": [
    "'''\n",
    "판다스의 aggregation 함수\n",
    "- min(), max(), sum(), count(), mean() 등의 함수를 의미한다.\n",
    "- aggregation 함수는 비어있는 셀은 계산하지 않는다.(데이터가 존재하는 셀만 계산한다.)\n",
    "'''\n",
    "titanic_df.count() # 모든 컬럼 \n",
    "'''\n",
    "PassengerId    891\n",
    "Survived       891\n",
    "Pclass         891\n",
    "Name           891\n",
    "Sex            891\n",
    "Age            714\n",
    "SibSp          891\n",
    "Parch          891\n",
    "Ticket         891\n",
    "Fare           891\n",
    "Cabin          204\n",
    "Embarked       889\n",
    "dtype: int64\n",
    "'''"
   ]
  },
  {
   "cell_type": "code",
   "execution_count": null,
   "metadata": {},
   "outputs": [],
   "source": [
    "titanic_df[[\"Age\", \"Fare\"]].mean() # 특정 컬럼(Age, Fare)\n",
    "'''\n",
    "Age     29.699118\n",
    "Fare    32.204208\n",
    "dtype: float64\n",
    "'''"
   ]
  },
  {
   "cell_type": "code",
   "execution_count": null,
   "metadata": {},
   "outputs": [],
   "source": [
    "'''\n",
    "groupby()\n",
    "- 그룹으로 묶기\n",
    "'''\n",
    "titanic_groupby = titanic_df.groupby(by=\"Pclass\")\n",
    "print(type(titanic_groupby)) # <class 'pandas.core.groupby.generic.DataFrameGroupBy'>"
   ]
  },
  {
   "cell_type": "code",
   "execution_count": null,
   "metadata": {},
   "outputs": [],
   "source": [
    "titanic_df.groupby(\"Pclass\").count()"
   ]
  },
  {
   "cell_type": "code",
   "execution_count": null,
   "metadata": {},
   "outputs": [],
   "source": [
    "titanic_df.groupby(\"Pclass\")[[\"PassengerId\", \"Survived\"]].count()"
   ]
  },
  {
   "cell_type": "code",
   "execution_count": null,
   "metadata": {},
   "outputs": [],
   "source": [
    "titanic_df.groupby([\"Pclass\", \"Sex\"]).count() # Pclass를 기준으로 그룹으로 묶은 후, Sex를 기준으로 그룹으로 묶는다."
   ]
  },
  {
   "cell_type": "code",
   "execution_count": null,
   "metadata": {},
   "outputs": [],
   "source": [
    "titanic_df.groupby([\"Pclass\", \"Sex\"])[[\"PassengerId\", \"Survived\"]].count()"
   ]
  },
  {
   "cell_type": "code",
   "execution_count": null,
   "metadata": {},
   "outputs": [],
   "source": [
    "# groupby시, 컬럼에 여러 aggregation 함수 적용이 가능하다.\n",
    "titanic_df.groupby(\"Pclass\")[\"Age\"].agg([max, min])"
   ]
  },
  {
   "cell_type": "code",
   "execution_count": null,
   "metadata": {},
   "outputs": [],
   "source": [
    "titanic_df.groupby(\"Pclass\")[[\"Age\", \"Fare\"]].agg([max, min])"
   ]
  },
  {
   "cell_type": "code",
   "execution_count": null,
   "metadata": {},
   "outputs": [],
   "source": [
    "# groupby시, 컬럼마다 다른 aggregation 함수 적용이 가능하다.\n",
    "titanic_df.groupby(\"Pclass\").agg({\"Age\" : \"max\", \"SibSp\" : \"sum\", \"Fare\" : \"mean\"})"
   ]
  },
  {
   "cell_type": "code",
   "execution_count": null,
   "metadata": {},
   "outputs": [],
   "source": [
    "'''\n",
    "결손 데이터\n",
    "- 값이 없는 데이터이다.\n",
    "- 값이 없는 NULL인 경우 -> NaN\n",
    "- 평균, 총합 등 함수 연산 시 제외된다.\n",
    "- NaN 여부 확인은 isna()를 이용하여 확인이 가능하다.\n",
    "'''\n",
    "titanic_df.isna() # False인 경우, 값이 들어있는 경우, True인 경우 값이 없는 경우이다."
   ]
  },
  {
   "cell_type": "code",
   "execution_count": null,
   "metadata": {},
   "outputs": [],
   "source": [
    "# NaN의 개수 : isna().sum()\n",
    "titanic_df.isna().sum()\n",
    "'''\n",
    "PassengerId      0\n",
    "Survived         0\n",
    "Pclass           0\n",
    "Name             0\n",
    "Sex              0\n",
    "Age            177\n",
    "SibSp            0\n",
    "Parch            0\n",
    "Ticket           0\n",
    "Fare             0\n",
    "Cabin          687\n",
    "Embarked         2\n",
    "dtype: int64\n",
    "'''"
   ]
  },
  {
   "cell_type": "code",
   "execution_count": null,
   "metadata": {},
   "outputs": [],
   "source": [
    "# NaN을 fillna()를 이용하여, NaN 값을 다른 값으로 대체가 가능하다.\n",
    "titanic_df[\"Cabin\"] = titanic_df[\"Cabin\"].fillna(\"C000\")\n",
    "titanic_df.head(3)"
   ]
  },
  {
   "cell_type": "code",
   "execution_count": null,
   "metadata": {},
   "outputs": [],
   "source": [
    "titanic_df[\"Age\"] = titanic_df[\"Age\"].fillna(titanic_df[\"Age\"].mean())\n",
    "titanic_df[\"Embarked\"].fillna(\"S\", inplace=True)\n",
    "titanic_df.isna().sum()"
   ]
  },
  {
   "cell_type": "code",
   "execution_count": null,
   "metadata": {},
   "outputs": [],
   "source": [
    "'''\n",
    "apply lambda\n",
    "'''\n",
    "def get_square(a):\n",
    "    return a ** 2\n",
    "\n",
    "print(get_square(3)) # 9\n",
    "\n",
    "lambda_square = lambda x : x**2\n",
    "print(lambda_square(3)) # 9\n"
   ]
  },
  {
   "cell_type": "code",
   "execution_count": null,
   "metadata": {},
   "outputs": [],
   "source": [
    "# list(map(lambda x : x**2, [1, 2,3])) [1, 4, 9] -> list가 이미 선언되어 있기에 에러가 발생함 list가 선언되어 있지 않으면 이 코드도 아래의 코드와 같이 동일하게 동작한다.\n",
    "\n",
    "import builtins\n",
    "print(builtins.list(map(lambda x : x**2, list))) # [1, 4, 9]"
   ]
  },
  {
   "cell_type": "code",
   "execution_count": null,
   "metadata": {},
   "outputs": [],
   "source": [
    "titanic_df[\"Name_len\"] = titanic_df[\"Name\"].apply(lambda x : len(x)) # Name 컬럼에 lambda식을 적용한다.\n",
    "titanic_df[[\"Name\", \"Name_len\"]].head(3)"
   ]
  },
  {
   "cell_type": "code",
   "execution_count": null,
   "metadata": {},
   "outputs": [],
   "source": [
    "titanic_df[\"Child_Adult\"] = titanic_df[\"Age\"].apply(lambda x : \"Child\" if x <= 15 else \"Adult\")\n",
    "titanic_df[[\"Age\", \"Child_Adult\"]].head(8)"
   ]
  },
  {
   "cell_type": "code",
   "execution_count": null,
   "metadata": {},
   "outputs": [],
   "source": [
    "titanic_df[\"Age_cat\"] = titanic_df[\"Age\"].apply(lambda x : \"Child\" if x <= 15 else (\"Adult\" if x <= 60 else \"Elderly\"))\n",
    "titanic_df[\"Age_cat\"].value_counts()\n",
    "'''\n",
    "Age_cat\n",
    "Adult      786\n",
    "Child       83\n",
    "Elderly     22\n",
    "Name: count, dtype: int64\n",
    "'''"
   ]
  },
  {
   "cell_type": "code",
   "execution_count": null,
   "metadata": {},
   "outputs": [],
   "source": [
    "def get_category(age):\n",
    "    cat=\"\"\n",
    "    if age <= 5: cat = \"Baby\"\n",
    "    elif age <= 12: cat = \"Child\"\n",
    "    elif age <= 18: cat = \"Teenager\"\n",
    "    elif age <= 25: cat = \"Student\"\n",
    "    elif age <= 35: cat = \"Young Adult\"\n",
    "    elif age <= 60: cat = \"Adult\"\n",
    "    else: cat = \"Elderly\"\n",
    "    return cat\n",
    "\n",
    "titanic_df[\"Age_cat\"] = titanic_df[\"Age\"].apply(lambda x : get_category(x))\n",
    "titanic_df[[\"Age\", \"Age_cat\"]].head()"
   ]
  },
  {
   "cell_type": "code",
   "execution_count": null,
   "metadata": {},
   "outputs": [],
   "source": []
  }
 ],
 "metadata": {
  "kernelspec": {
   "display_name": "study",
   "language": "python",
   "name": "python3"
  },
  "language_info": {
   "codemirror_mode": {
    "name": "ipython",
    "version": 3
   },
   "file_extension": ".py",
   "mimetype": "text/x-python",
   "name": "python",
   "nbconvert_exporter": "python",
   "pygments_lexer": "ipython3",
   "version": "3.11.5"
  },
  "orig_nbformat": 4
 },
 "nbformat": 4,
 "nbformat_minor": 2
}

{
 "cells": [
  {
   "cell_type": "code",
   "execution_count": 2,
   "metadata": {},
   "outputs": [],
   "source": [
    "import numpy as np"
   ]
  },
  {
   "cell_type": "code",
   "execution_count": 3,
   "metadata": {},
   "outputs": [
    {
     "name": "stdout",
     "output_type": "stream",
     "text": [
      "<class 'numpy.ndarray'>\n",
      "(3,)\n"
     ]
    }
   ],
   "source": [
    "array1 = np.array([1, 2, 3])\n",
    "print(type(array1))\n",
    "print(array1.shape)"
   ]
  },
  {
   "cell_type": "code",
   "execution_count": 4,
   "metadata": {},
   "outputs": [
    {
     "name": "stdout",
     "output_type": "stream",
     "text": [
      "<class 'numpy.ndarray'>\n",
      "(2, 3)\n"
     ]
    }
   ],
   "source": [
    "array2 = np.array([[1, 2, 3], [2, 3, 4]])\n",
    "print(type(array2))\n",
    "print(array2.shape)"
   ]
  },
  {
   "cell_type": "code",
   "execution_count": 5,
   "metadata": {},
   "outputs": [
    {
     "name": "stdout",
     "output_type": "stream",
     "text": [
      "<class 'numpy.ndarray'>\n",
      "(1, 3)\n"
     ]
    }
   ],
   "source": [
    "array3 = np.array([[1, 2, 3]])\n",
    "print(type(array3))\n",
    "print(array3.shape)"
   ]
  },
  {
   "cell_type": "code",
   "execution_count": 6,
   "metadata": {},
   "outputs": [
    {
     "name": "stdout",
     "output_type": "stream",
     "text": [
      "1 2 2\n"
     ]
    }
   ],
   "source": [
    "# dim = 차원을 의미한다. ndim = n차원을 의미한다.\n",
    "print(array1.ndim,array2.ndim,array3.ndim)"
   ]
  },
  {
   "cell_type": "code",
   "execution_count": 7,
   "metadata": {},
   "outputs": [
    {
     "name": "stdout",
     "output_type": "stream",
     "text": [
      "<class 'list'>\n",
      "<class 'numpy.ndarray'>\n",
      "[1 2 3] int32\n"
     ]
    }
   ],
   "source": [
    "list1 = [1, 2, 3]\n",
    "print(type(list1))\n",
    "array1 = np.array(list1)\n",
    "print(type(array1))\n",
    "print(array1, array1.dtype)"
   ]
  },
  {
   "cell_type": "code",
   "execution_count": 8,
   "metadata": {},
   "outputs": [
    {
     "name": "stdout",
     "output_type": "stream",
     "text": [
      "['1' '2' 'test'] <U11\n",
      "[1. 2. 3.] float64\n"
     ]
    }
   ],
   "source": [
    "# 각 항목의 데이터 타입이 다른 경우\n",
    "# 큰 데이터 타입으로 변환한다.\n",
    "list2 = [1, 2, 'test']\n",
    "array2 = np.array(list2)\n",
    "print(array2, array2.dtype)\n",
    "\n",
    "list3 = [1, 2, 3.0]\n",
    "array3 = np.array(list3)\n",
    "print(array3, array3.dtype)"
   ]
  },
  {
   "cell_type": "code",
   "execution_count": 9,
   "metadata": {},
   "outputs": [
    {
     "name": "stdout",
     "output_type": "stream",
     "text": [
      "[1. 2. 3.] float64\n",
      "[1 2 3] int32\n",
      "[1 2 3] int32\n"
     ]
    }
   ],
   "source": [
    "# 각 항목의 데이터 타입을 형 변환\n",
    "# astype()을 이용하여 데이터의 타입을 변환한다.\n",
    "\n",
    "array_int = np.array([1, 2, 3])\n",
    "array_float = array_int.astype(\"float64\") \n",
    "print(array_float, array_float.dtype) # [1. 2. 3.] float64\n",
    "\n",
    "array_int1 = array_float.astype('int32') \n",
    "print(array_int1, array_int1.dtype) # [1 2 3] int32\n",
    "\n",
    "array_float1 = np.array([1.1, 2.1, 3.1])\n",
    "array_int2 = array_float1.astype('int32')\n",
    "print(array_int2, array_int2.dtype) # [1 2 3] int32"
   ]
  },
  {
   "cell_type": "code",
   "execution_count": 10,
   "metadata": {},
   "outputs": [
    {
     "name": "stdout",
     "output_type": "stream",
     "text": [
      "[0 1 2 3 4 5 6 7 8 9]\n",
      "int32 (10,)\n",
      "[5 6 7 8 9]\n",
      "int32 (5,)\n"
     ]
    }
   ],
   "source": [
    "# arange(숫자)\n",
    "# - range와 비슷하게 0부터 숫자 -1까지\n",
    "sequence_array= np.arange(10) # 0부터 9까지\n",
    "print(sequence_array) # [0 1 2 3 4 5 6 7 8 9]\n",
    "print(sequence_array.dtype, sequence_array.shape) # int32 (10,) (10, ) <- 튜플을 의미한다.\n",
    "\n",
    "# arange(숫자1, 숫자2)\n",
    "# - 숫자1부터 숫자2 - 1까지\n",
    "sequence_array2 = np.arange(5, 10)\n",
    "print(sequence_array2) # [5 6 7 8 9]\n",
    "print(sequence_array2.dtype, sequence_array2.shape) # int32 (5,)"
   ]
  },
  {
   "cell_type": "code",
   "execution_count": 11,
   "metadata": {},
   "outputs": [
    {
     "name": "stdout",
     "output_type": "stream",
     "text": [
      "[[0 0]\n",
      " [0 0]\n",
      " [0 0]]\n",
      "int32 (3, 2)\n"
     ]
    }
   ],
   "source": [
    "# zeors\n",
    "# - 모두 0으로 채운 ndarray 반환\n",
    "# - dtype을 입력하지 않으면 기본은 float64\n",
    "zero_array = np.zeros((3, 2), dtype='int32') # 모두 0으로 채워진, 3행 2열의 ndarray를 만든다.\n",
    "print(zero_array)\n",
    "'''\n",
    "[[0 0]\n",
    " [0 0]\n",
    " [0 0]]\n",
    "'''\n",
    "print(zero_array.dtype, zero_array.shape) # int32 (3, 2)"
   ]
  },
  {
   "cell_type": "code",
   "execution_count": 12,
   "metadata": {},
   "outputs": [
    {
     "name": "stdout",
     "output_type": "stream",
     "text": [
      "[[1. 1.]\n",
      " [1. 1.]\n",
      " [1. 1.]]\n",
      "float64 (3, 2)\n"
     ]
    }
   ],
   "source": [
    "'''\n",
    "ones\n",
    "- 모두 1로 채운 ndarray를 반환한다.\n",
    "- dtype을 입력하지 않으면 기본은 float64이다.\n",
    "'''\n",
    "one_array = np.ones((3,2))\n",
    "print(one_array)\n",
    "'''\n",
    "[[1. 1.]\n",
    " [1. 1.]\n",
    " [1. 1.]]\n",
    "'''\n",
    "print(one_array.dtype, one_array.shape) # float64 (3, 2)"
   ]
  },
  {
   "cell_type": "code",
   "execution_count": 14,
   "metadata": {},
   "outputs": [
    {
     "name": "stdout",
     "output_type": "stream",
     "text": [
      "[0 1 2 3 4 5 6 7 8 9]\n",
      "[[0 1 2 3 4]\n",
      " [5 6 7 8 9]]\n",
      "[[0 1]\n",
      " [2 3]\n",
      " [4 5]\n",
      " [6 7]\n",
      " [8 9]]\n"
     ]
    },
    {
     "data": {
      "text/plain": [
       "'\\n[[0 1]\\n [2 3]\\n [4 5]\\n [6 7]\\n [8 9]]\\n'"
      ]
     },
     "execution_count": 14,
     "metadata": {},
     "output_type": "execute_result"
    }
   ],
   "source": [
    "'''\n",
    "reshape\n",
    "- 차원과 크기 변경\n",
    "- 지정한 차원과 크기로 변경하지 못하면 오류가 발생한다.\n",
    "'''\n",
    "\n",
    "array1 = np.arange(10)\n",
    "print(array1) # [0 1 2 3 4 5 6 7 8 9] (1차원)\n",
    "array2 = array1.reshape(2, 5)\n",
    "print(array2)\n",
    "'''(2차원)\n",
    "[[0 1 2 3 4]\n",
    " [5 6 7 8 9]]\n",
    "'''\n",
    "array3 = array1.reshape(5, 2)\n",
    "print(array3)\n",
    "'''\n",
    "[[0 1]\n",
    " [2 3]\n",
    " [4 5]\n",
    " [6 7]\n",
    " [8 9]]\n",
    "'''\n",
    "# array3 = array1.reshape(4, 3) <- array1의 요소의 개수는 10개인데, 4 by 3 즉, 12개의 요소가 필요하기에 에러가 발생한다.\n"
   ]
  },
  {
   "cell_type": "code",
   "execution_count": 16,
   "metadata": {},
   "outputs": [
    {
     "name": "stdout",
     "output_type": "stream",
     "text": [
      "[0 1 2 3 4 5 6 7 8 9]\n",
      "(2, 5)\n",
      "(5, 2)\n"
     ]
    }
   ],
   "source": [
    "'''\n",
    "reshape\n",
    "- 자동으로 처리하기 : -1\n",
    "- reshape를 사용할 때 -1을 사용하면, 자동으로 정렬해준다.\n",
    "'''\n",
    "array1 = np.arange(10)\n",
    "print(array1)\n",
    "array2 = array1.reshape(-1, 5) # 행의 개수는 자동으로, 열의 개수는 5개로 즉, 행은 2가 된다.\n",
    "print(array2.shape)\n",
    "array3 = array1.reshape(5, -1) # 행의 개수는 5개로, 열의 개수는 자동으로 즉, 열은 2가된다.\n",
    "print(array3.shape)"
   ]
  },
  {
   "cell_type": "code",
   "execution_count": 18,
   "metadata": {},
   "outputs": [
    {
     "name": "stdout",
     "output_type": "stream",
     "text": [
      "[[[0 1]\n",
      "  [2 3]]\n",
      "\n",
      " [[4 5]\n",
      "  [6 7]]] (2, 2, 2)\n",
      "[[0]\n",
      " [1]\n",
      " [2]\n",
      " [3]\n",
      " [4]\n",
      " [5]\n",
      " [6]\n",
      " [7]] (8, 1)\n",
      "[[0]\n",
      " [1]\n",
      " [2]\n",
      " [3]\n",
      " [4]\n",
      " [5]\n",
      " [6]\n",
      " [7]] (8, 1)\n"
     ]
    },
    {
     "data": {
      "text/plain": [
       "'\\n[[0]\\n [1]\\n [2]\\n [3]\\n [4]\\n [5]\\n [6]\\n [7]] (8, 1)\\n'"
      ]
     },
     "execution_count": 18,
     "metadata": {},
     "output_type": "execute_result"
    }
   ],
   "source": [
    "array1 = np.arange(8)\n",
    "array3d = array1.reshape((2, 2, 2))\n",
    "print(array3d, array3d.shape)\n",
    "'''\n",
    "[[[0 1]\n",
    "  [2 3]]\n",
    "\n",
    " [[4 5]\n",
    "  [6 7]]] (2, 2, 2)\n",
    "'''\n",
    "array5 = array3d.reshape(-1 ,1)\n",
    "print(array5, array5.shape)\n",
    "'''\n",
    "[[0]\n",
    " [1]\n",
    " [2]\n",
    " [3]\n",
    " [4]\n",
    " [5]\n",
    " [6]\n",
    " [7]] (8, 1)\n",
    "'''\n",
    "array6 = array1.reshape(-1, 1)\n",
    "print(array6, array6.shape)\n",
    "'''\n",
    "[[0]\n",
    " [1]\n",
    " [2]\n",
    " [3]\n",
    " [4]\n",
    " [5]\n",
    " [6]\n",
    " [7]] (8, 1)\n",
    "'''"
   ]
  },
  {
   "cell_type": "code",
   "execution_count": 19,
   "metadata": {},
   "outputs": [
    {
     "name": "stdout",
     "output_type": "stream",
     "text": [
      "[1 2 3 4 5 6 7 8 9]\n",
      "3 <class 'numpy.int32'>\n",
      "9 8\n"
     ]
    }
   ],
   "source": [
    "'''\n",
    "단일 값 추출\n",
    "- []\n",
    "'''\n",
    "array1 = np.arange(1, 10)\n",
    "print(array1) # [1 2 3 4 5 6 7 8 9]\n",
    "value = array1[2]\n",
    "print(value, type(value)) # 3 <class 'numpy.int32'>\n",
    "\n",
    "# 인덱스가 음수이면, 뒤에서부터 계산한다.\n",
    "print(array1[-1], array1[-2]) # 9 8"
   ]
  },
  {
   "cell_type": "code",
   "execution_count": 20,
   "metadata": {},
   "outputs": [
    {
     "name": "stdout",
     "output_type": "stream",
     "text": [
      "[9 2 3 4 5 6 7 8 0]\n"
     ]
    }
   ],
   "source": [
    "'''\n",
    "값 수정\n",
    "'''\n",
    "array1[0] = 9\n",
    "array1[8] = 0\n",
    "print(array1)"
   ]
  },
  {
   "cell_type": "code",
   "execution_count": 21,
   "metadata": {},
   "outputs": [
    {
     "name": "stdout",
     "output_type": "stream",
     "text": [
      "[[1 2 3]\n",
      " [4 5 6]\n",
      " [7 8 9]]\n",
      "1\n",
      "2\n",
      "4\n",
      "9\n"
     ]
    }
   ],
   "source": [
    "# 다차원의 경우\n",
    "array1d = np.arange(1, 10)\n",
    "array2d = array1d.reshape(3, 3)\n",
    "print(array2d)\n",
    "print(array2d[0, 0])\n",
    "print(array2d[0, 1])\n",
    "print(array2d[1, 0])\n",
    "print(array2d[2, 2])\n"
   ]
  },
  {
   "cell_type": "code",
   "execution_count": 29,
   "metadata": {},
   "outputs": [
    {
     "name": "stdout",
     "output_type": "stream",
     "text": [
      "[1 2 3 4 5 6 7 8 9]\n",
      "[1 2 3]\n",
      "<class 'numpy.ndarray'>\n",
      "[1 2 3 4 5 6 7 8 9]\n",
      "[1 2 3]\n",
      "[4 5 6 7 8 9]\n",
      "[1 2 3 4 5 6 7 8 9]\n",
      "[[1 2 3]\n",
      " [4 5 6]\n",
      " [7 8 9]]\n",
      "[[1 2]\n",
      " [4 5]]\n",
      "[[4 5 6]\n",
      " [7 8 9]]\n",
      "[[4 5 6]\n",
      " [7 8 9]]\n",
      "[[1 2 3]\n",
      " [4 5 6]\n",
      " [7 8 9]]\n",
      "[[2 3]\n",
      " [5 6]]\n",
      "[1 4]\n"
     ]
    },
    {
     "data": {
      "text/plain": [
       "' 기존 2차원 배열에서 1차원 배열이 되었다. -> 차원이 줄어들었다.\\n[1 4]\\n'"
      ]
     },
     "execution_count": 29,
     "metadata": {},
     "output_type": "execute_result"
    }
   ],
   "source": [
    "'''\n",
    "슬라이싱\n",
    "- [시작인덱스 : 종료인덱스]:\n",
    "- 시작인덱스부터 종료인덱스 -1까지\n",
    "'''\n",
    "array1 = np.arange(1, 10)\n",
    "print(array1) # [1 2 3 4 5 6 7 8 9]\n",
    "array3 = array1[0:3]\n",
    "print(array3) # [1 2 3]\n",
    "print(type(array3)) # <class 'numpy.ndarray'>\n",
    "'''\n",
    "슬라이싱\n",
    "- 시작 / 종료 인덱스 생략\n",
    "'''\n",
    "array1 = np.arange(1, 10)\n",
    "print(array1) # [1 2 3 4 5 6 7 8 9]\n",
    "array4 = array1[:3]\n",
    "print(array4) # [1 2 3]\n",
    "array5 = array1[3:]\n",
    "print(array5) # [4 5 6 7 8 9]\n",
    "array6 = array1[:]\n",
    "print(array6) # [1 2 3 4 5 6 7 8 9]\n",
    "'''\n",
    "슬라이싱\n",
    "- 다차원의 경우\n",
    "'''\n",
    "array1d = np.arange(1, 10)\n",
    "array2d = array1d.reshape(3, 3)\n",
    "print(array2d)\n",
    "'''\n",
    "[[1 2 3]\n",
    " [4 5 6]\n",
    " [7 8 9]]\n",
    "'''\n",
    "print(array2d[0 : 2, 0 : 2])\n",
    "'''\n",
    "[[1 2]\n",
    " [4 5]]\n",
    "'''\n",
    "print(array2d[1 : 3, 0 : 3])\n",
    "'''\n",
    "[[4 5 6]\n",
    " [7 8 9]]\n",
    "'''\n",
    "print(array2d[1 : 3,   :  ])\n",
    "'''\n",
    "[[4 5 6]\n",
    " [7 8 9]]\n",
    "'''\n",
    "print(array2d[  :  ,   :  ])\n",
    "'''\n",
    "[[1 2 3]\n",
    " [4 5 6]\n",
    " [7 8 9]]\n",
    "'''\n",
    "print(array2d[  : 2, 1 :  ])\n",
    "'''\n",
    "[[2 3]\n",
    " [5 6]]\n",
    "'''\n",
    "print(array2d[  : 2,   0  ]) # 마지막 0은 슬라이싱이 아님, 즉, 기존의 [[1, 2, 3], [4, 5, 6]]에서 첫 번째 열을 선택한다. 즉, [1, 4]가 반환된다.\n",
    "''' 기존 2차원 배열에서 1차원 배열이 되었다. -> 차원이 줄어들었다.\n",
    "[1 4]\n",
    "'''"
   ]
  },
  {
   "cell_type": "code",
   "execution_count": 30,
   "metadata": {},
   "outputs": [
    {
     "name": "stdout",
     "output_type": "stream",
     "text": [
      "[[1 2 3]\n",
      " [4 5 6]\n",
      " [7 8 9]]\n",
      "[1 2 3]\n",
      "[4 5 6]\n",
      "(3, 3)\n",
      "(3,)\n",
      "(3,)\n"
     ]
    }
   ],
   "source": [
    "'''\n",
    "슬라이싱\n",
    "- 다차원의 경우\n",
    "'''\n",
    "array1d = np.arange(1, 10)\n",
    "aray2d = array1d.reshape(3, 3)\n",
    "print(array2d)\n",
    "'''\n",
    "[[1 2 3]\n",
    " [4 5 6]\n",
    " [7 8 9]]\n",
    "'''\n",
    "print(array2d[0]) # [1 2 3] (2차원 -> 1차원 즉, 차원이 줄어든다.)\n",
    "print(array2d[1]) # [4 5 6] (2차원 -> 1차원 즉, 차원이 줄어든다.)\n",
    "print(array2d.shape) # (3, 3) (2차원 -> 1차원 즉, 차원이 줄어든다.)\n",
    "print(array2d[0].shape) # (3,) (2차원 -> 1차원 즉, 차원이 줄어든다.)\n",
    "print(array2d[0].shape) # (3,) (2차원 -> 1차원 즉, 차원이 줄어든다.)"
   ]
  },
  {
   "cell_type": "code",
   "execution_count": 31,
   "metadata": {},
   "outputs": [
    {
     "name": "stdout",
     "output_type": "stream",
     "text": [
      "[[1 2 3]\n",
      " [4 5 6]\n",
      " [7 8 9]]\n",
      "[3 6]\n",
      "[[1 2]\n",
      " [4 5]]\n",
      "[[1 2 3]\n",
      " [4 5 6]]\n",
      "[2 8]\n"
     ]
    }
   ],
   "source": [
    "'''\n",
    "팬시 인덱싱(Fancy Indexing)\n",
    "- 리스트나 ndarray로 인덱스 집합을 지정하면, 해당 인덱스의 값들로 ndarray를 반환한다.\n",
    "'''\n",
    "\n",
    "array1d = np.arange(1, 10)\n",
    "array2d = array1d.reshape(3, 3)\n",
    "print(array2d)\n",
    "'''\n",
    "[[1 2 3]\n",
    " [4 5 6]\n",
    " [7 8 9]]\n",
    "'''\n",
    "array3 = array2d[[0, 1], 2] # 0번째 행과 1번째 행을 추출하고, 추출한 배열에서 2번째 열을 가져온다.\n",
    "print(array3) # [3 6]\n",
    "array4 = array2d[[0, 1], 0 : 2] # 0번째 행과 1번째 행을 추출하고, 추출한 배열에서 0부터 1까지 슬라이싱한다.\n",
    "print(array4)\n",
    "'''\n",
    "[[1 2]\n",
    " [4 5]]\n",
    "'''\n",
    "array5 = array2d[[0, 1]] # 0번째 행과 1번째 행을 추출한다.\n",
    "print(array5)\n",
    "'''\n",
    "[[1 2 3]\n",
    " [4 5 6]]\n",
    "'''\n",
    "array6 = array2d[[0, 2], 1] # 0번째 행과 2번째 행을 추출한 후, 추출한 배열에서 1번째 열을 가져온다.\n",
    "print(array6) # [2 8]"
   ]
  },
  {
   "cell_type": "code",
   "execution_count": 33,
   "metadata": {},
   "outputs": [
    {
     "name": "stdout",
     "output_type": "stream",
     "text": [
      "[6 7 8 9]\n",
      "[False False False False False  True  True  True  True]\n"
     ]
    }
   ],
   "source": [
    "'''\n",
    "불리언 인덱싱\n",
    "- 조건문을 만족하는 항목만 추출한다.\n",
    "'''\n",
    "array1d = np.arange(1, 10)\n",
    "array3 = array1d[array1d > 5]\n",
    "print(array3) # [6 7 8 9]\n",
    "print(array1d > 5) # [False False False False False  True  True  True  True]"
   ]
  },
  {
   "cell_type": "code",
   "execution_count": null,
   "metadata": {},
   "outputs": [],
   "source": [
    "'''\n",
    "정렬 부터 시작(34분 56초)\n",
    "'''"
   ]
  }
 ],
 "metadata": {
  "kernelspec": {
   "display_name": "study",
   "language": "python",
   "name": "python3"
  },
  "language_info": {
   "codemirror_mode": {
    "name": "ipython",
    "version": 3
   },
   "file_extension": ".py",
   "mimetype": "text/x-python",
   "name": "python",
   "nbconvert_exporter": "python",
   "pygments_lexer": "ipython3",
   "version": "3.9.17"
  },
  "orig_nbformat": 4
 },
 "nbformat": 4,
 "nbformat_minor": 2
}

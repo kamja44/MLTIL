{
 "cells": [
  {
   "cell_type": "code",
   "execution_count": 1,
   "id": "initial_id",
   "metadata": {
    "collapsed": true,
    "ExecuteTime": {
     "end_time": "2023-08-14T01:00:10.242762600Z",
     "start_time": "2023-08-14T01:00:06.237478600Z"
    }
   },
   "outputs": [],
   "source": [
    "import numpy as np\n",
    "\n",
    "my_arr = np.arange(1_000_000)\n",
    "\n",
    "my_list = list(range(1_000_000))"
   ]
  },
  {
   "cell_type": "code",
   "execution_count": 2,
   "outputs": [
    {
     "name": "stdout",
     "output_type": "stream",
     "text": [
      "1.31 ms ± 103 µs per loop (mean ± std. dev. of 7 runs, 1,000 loops each)\n"
     ]
    }
   ],
   "source": [
    "%timeit my_arr2 = my_arr * 2"
   ],
   "metadata": {
    "collapsed": false,
    "ExecuteTime": {
     "end_time": "2023-08-14T01:00:17.618029500Z",
     "start_time": "2023-08-14T01:00:06.743126100Z"
    }
   },
   "id": "ade3ed506ae4feeb"
  },
  {
   "cell_type": "code",
   "execution_count": 3,
   "outputs": [
    {
     "name": "stdout",
     "output_type": "stream",
     "text": [
      "54.7 ms ± 2.53 ms per loop (mean ± std. dev. of 7 runs, 10 loops each)\n"
     ]
    }
   ],
   "source": [
    "%timeit my_list2 = [x * 2 for x in my_list]"
   ],
   "metadata": {
    "collapsed": false,
    "ExecuteTime": {
     "end_time": "2023-08-14T01:00:22.284544900Z",
     "start_time": "2023-08-14T01:00:17.615037900Z"
    }
   },
   "id": "f9edf159874c468e"
  },
  {
   "cell_type": "code",
   "execution_count": 4,
   "outputs": [],
   "source": [
    "data = np.array([[1.5, -0.1, 3], [0, -3, 6.5]])"
   ],
   "metadata": {
    "collapsed": false,
    "ExecuteTime": {
     "end_time": "2023-08-14T01:00:22.330422500Z",
     "start_time": "2023-08-14T01:00:22.286539900Z"
    }
   },
   "id": "d293ead706c521d2"
  },
  {
   "cell_type": "code",
   "execution_count": 5,
   "outputs": [
    {
     "data": {
      "text/plain": "array([[ 1.5, -0.1,  3. ],\n       [ 0. , -3. ,  6.5]])"
     },
     "execution_count": 5,
     "metadata": {},
     "output_type": "execute_result"
    }
   ],
   "source": [
    "data"
   ],
   "metadata": {
    "collapsed": false,
    "ExecuteTime": {
     "end_time": "2023-08-14T01:00:22.356394900Z",
     "start_time": "2023-08-14T01:00:22.310477500Z"
    }
   },
   "id": "bbcbe57d1212ff12"
  },
  {
   "cell_type": "code",
   "execution_count": 6,
   "outputs": [
    {
     "data": {
      "text/plain": "array([[ 15.,  -1.,  30.],\n       [  0., -30.,  65.]])"
     },
     "execution_count": 6,
     "metadata": {},
     "output_type": "execute_result"
    }
   ],
   "source": [
    "data * 10"
   ],
   "metadata": {
    "collapsed": false,
    "ExecuteTime": {
     "end_time": "2023-08-14T01:00:22.386283400Z",
     "start_time": "2023-08-14T01:00:22.317458300Z"
    }
   },
   "id": "98c76089095dab00"
  },
  {
   "cell_type": "code",
   "execution_count": 7,
   "outputs": [
    {
     "data": {
      "text/plain": "array([[ 3. , -0.2,  6. ],\n       [ 0. , -6. , 13. ]])"
     },
     "execution_count": 7,
     "metadata": {},
     "output_type": "execute_result"
    }
   ],
   "source": [
    "data + data"
   ],
   "metadata": {
    "collapsed": false,
    "ExecuteTime": {
     "end_time": "2023-08-14T01:00:22.392267500Z",
     "start_time": "2023-08-14T01:00:22.333415400Z"
    }
   },
   "id": "3a44450f7c88f126"
  },
  {
   "cell_type": "markdown",
   "source": [
    "ndarray의 모든 원소는 같은 자료형이여야 한다.\n",
    "\n",
    "모든 배열은, 각 차원의 크기를 알려주는 shape 튜플과 배열에 저장된 자료형을 알려주는 dtype 객체를 갖는다."
   ],
   "metadata": {
    "collapsed": false
   },
   "id": "12fef50af6c981da"
  },
  {
   "cell_type": "code",
   "execution_count": 8,
   "outputs": [
    {
     "data": {
      "text/plain": "(2, 3)"
     },
     "execution_count": 8,
     "metadata": {},
     "output_type": "execute_result"
    }
   ],
   "source": [
    "data.shape"
   ],
   "metadata": {
    "collapsed": false,
    "ExecuteTime": {
     "end_time": "2023-08-14T01:00:22.488628100Z",
     "start_time": "2023-08-14T01:00:22.351377700Z"
    }
   },
   "id": "c2c5836309829ab8"
  },
  {
   "cell_type": "code",
   "execution_count": 9,
   "outputs": [
    {
     "data": {
      "text/plain": "dtype('float64')"
     },
     "execution_count": 9,
     "metadata": {},
     "output_type": "execute_result"
    }
   ],
   "source": [
    "data.dtype"
   ],
   "metadata": {
    "collapsed": false,
    "ExecuteTime": {
     "end_time": "2023-08-14T01:00:22.489626Z",
     "start_time": "2023-08-14T01:00:22.365339900Z"
    }
   },
   "id": "dd1bc95872c80b69"
  },
  {
   "cell_type": "markdown",
   "source": [
    "ndarray 생성하기"
   ],
   "metadata": {
    "collapsed": false
   },
   "id": "b7348234e36a6bbf"
  },
  {
   "cell_type": "code",
   "execution_count": 10,
   "outputs": [
    {
     "data": {
      "text/plain": "array([6. , 7.6, 8. , 0. , 1. ])"
     },
     "execution_count": 10,
     "metadata": {},
     "output_type": "execute_result"
    }
   ],
   "source": [
    "data1 = [6, 7.6, 8, 0, 1]\n",
    "\n",
    "arr1 = np.array(data1)\n",
    "\n",
    "arr1"
   ],
   "metadata": {
    "collapsed": false,
    "ExecuteTime": {
     "end_time": "2023-08-14T01:00:22.543325900Z",
     "start_time": "2023-08-14T01:00:22.381297Z"
    }
   },
   "id": "c587e9b7a012deb9"
  },
  {
   "cell_type": "code",
   "execution_count": 11,
   "outputs": [
    {
     "data": {
      "text/plain": "array([[1, 2, 3, 4],\n       [5, 6, 7, 8]])"
     },
     "execution_count": 11,
     "metadata": {},
     "output_type": "execute_result"
    }
   ],
   "source": [
    "data2 = [[1,2,3,4], [5,6,7,8]]\n",
    "\n",
    "arr2 = np.array(data2)\n",
    "arr2"
   ],
   "metadata": {
    "collapsed": false,
    "ExecuteTime": {
     "end_time": "2023-08-14T01:00:22.543325900Z",
     "start_time": "2023-08-14T01:00:22.398251800Z"
    }
   },
   "id": "7101c63477a96148"
  },
  {
   "cell_type": "code",
   "execution_count": 12,
   "outputs": [
    {
     "data": {
      "text/plain": "2"
     },
     "execution_count": 12,
     "metadata": {},
     "output_type": "execute_result"
    }
   ],
   "source": [
    "arr2.ndim"
   ],
   "metadata": {
    "collapsed": false,
    "ExecuteTime": {
     "end_time": "2023-08-14T01:00:22.567260700Z",
     "start_time": "2023-08-14T01:00:22.413211700Z"
    }
   },
   "id": "eb8bdad8cb186092"
  },
  {
   "cell_type": "code",
   "execution_count": 13,
   "outputs": [
    {
     "data": {
      "text/plain": "(2, 4)"
     },
     "execution_count": 13,
     "metadata": {},
     "output_type": "execute_result"
    }
   ],
   "source": [
    "arr2.shape"
   ],
   "metadata": {
    "collapsed": false,
    "ExecuteTime": {
     "end_time": "2023-08-14T01:00:22.568257100Z",
     "start_time": "2023-08-14T01:00:22.427174700Z"
    }
   },
   "id": "3274159110298b14"
  },
  {
   "cell_type": "markdown",
   "source": [
    "numpy.array는 새로운 배열을 생성하는 여러 함수를 갖고 있다.\n",
    "- zeros\n",
    "    - 주어진 길이에 0이 들어 있는 배열을 생성한다.\n",
    "- ones\n",
    "    - 주어진 길이에 1이 들어 있는 배열을 생성한다.\n",
    "- empty\n",
    "    - 초기화 되지 않은 배열을 생성한다.    \n",
    "    - numpy.empty가 0으로 초기화된 배열을 반환하리라 가정하는 것은 안전하지 않다.\n",
    "        - 이 함수는 초기화되지 않은 메모리를 반환하므로, 0이 아닌 가비지 값을 포함할 수 있다.\n",
    "        - 데이터를 새로 채우기 위해 배열을 생성하는 경우에만 empty를 사용해야 한다.      "
   ],
   "metadata": {
    "collapsed": false
   },
   "id": "fbbb421f6f3e72b7"
  },
  {
   "cell_type": "code",
   "execution_count": 14,
   "outputs": [
    {
     "data": {
      "text/plain": "array([0., 0., 0., 0., 0., 0., 0., 0., 0., 0.])"
     },
     "execution_count": 14,
     "metadata": {},
     "output_type": "execute_result"
    }
   ],
   "source": [
    "np.zeros(10)"
   ],
   "metadata": {
    "collapsed": false,
    "ExecuteTime": {
     "end_time": "2023-08-14T01:00:22.569254700Z",
     "start_time": "2023-08-14T01:00:22.445742600Z"
    }
   },
   "id": "68019cfdc88d7cf0"
  },
  {
   "cell_type": "code",
   "execution_count": 15,
   "outputs": [
    {
     "data": {
      "text/plain": "array([[0., 0., 0., 0., 0., 0.],\n       [0., 0., 0., 0., 0., 0.],\n       [0., 0., 0., 0., 0., 0.]])"
     },
     "execution_count": 15,
     "metadata": {},
     "output_type": "execute_result"
    }
   ],
   "source": [
    "np.zeros((3, 6))"
   ],
   "metadata": {
    "collapsed": false,
    "ExecuteTime": {
     "end_time": "2023-08-14T01:00:22.570252400Z",
     "start_time": "2023-08-14T01:00:22.458708Z"
    }
   },
   "id": "193f4f16aca69b6c"
  },
  {
   "cell_type": "code",
   "execution_count": 16,
   "outputs": [
    {
     "data": {
      "text/plain": "array([[[1.31910331e-311, 2.76676762e-322],\n        [0.00000000e+000, 0.00000000e+000],\n        [1.13073288e+277, 1.16095484e-028]],\n\n       [[3.65093134e+233, 1.96567554e-062],\n        [7.78025586e-143, 2.91237123e+257],\n        [4.71294503e+257, 1.41732751e+295]]])"
     },
     "execution_count": 16,
     "metadata": {},
     "output_type": "execute_result"
    }
   ],
   "source": [
    "np.empty((2, 3, 2))"
   ],
   "metadata": {
    "collapsed": false,
    "ExecuteTime": {
     "end_time": "2023-08-14T01:00:22.595185300Z",
     "start_time": "2023-08-14T01:00:22.474665500Z"
    }
   },
   "id": "6c0c266003f2523e"
  },
  {
   "cell_type": "markdown",
   "source": [
    "arange는 파이썬의 range 함수의 배열 버전이다.\n",
    "- 넘파이는 산술 연산에 초점이 맞춰져 있기 땜누에, 자료형을 명시하지 않았다면 float64(부동소수점)가 된다."
   ],
   "metadata": {
    "collapsed": false
   },
   "id": "56323d601c541fb1"
  },
  {
   "cell_type": "code",
   "execution_count": 17,
   "outputs": [
    {
     "data": {
      "text/plain": "array([ 0,  1,  2,  3,  4,  5,  6,  7,  8,  9, 10, 11, 12, 13, 14])"
     },
     "execution_count": 17,
     "metadata": {},
     "output_type": "execute_result"
    }
   ],
   "source": [
    "np.arange(15)"
   ],
   "metadata": {
    "collapsed": false,
    "ExecuteTime": {
     "end_time": "2023-08-14T01:00:22.613139300Z",
     "start_time": "2023-08-14T01:00:22.490624600Z"
    }
   },
   "id": "502e77070e018c2e"
  },
  {
   "cell_type": "code",
   "execution_count": 18,
   "outputs": [
    {
     "data": {
      "text/plain": "dtype('float64')"
     },
     "execution_count": 18,
     "metadata": {},
     "output_type": "execute_result"
    }
   ],
   "source": [
    "arr1 = np.array([1, 2, 3], dtype=np.float64)\n",
    "arr2 = np.array([1, 2, 3], dtype=np.int32)\n",
    "arr1.dtype\n"
   ],
   "metadata": {
    "collapsed": false,
    "ExecuteTime": {
     "end_time": "2023-08-14T01:00:22.739008200Z",
     "start_time": "2023-08-14T01:00:22.509007800Z"
    }
   },
   "id": "23bf0540ec3ca7cf"
  },
  {
   "cell_type": "code",
   "execution_count": 19,
   "outputs": [
    {
     "data": {
      "text/plain": "dtype('int32')"
     },
     "execution_count": 19,
     "metadata": {},
     "output_type": "execute_result"
    }
   ],
   "source": [
    "arr2.dtype"
   ],
   "metadata": {
    "collapsed": false,
    "ExecuteTime": {
     "end_time": "2023-08-14T01:00:22.767900400Z",
     "start_time": "2023-08-14T01:00:22.522969300Z"
    }
   },
   "id": "f174dc3c99b1fe5"
  },
  {
   "cell_type": "markdown",
   "source": [
    "ndarray의 astype 메서드를 사용하여, 배열의 dtype을 다른 형으로 명시적으로 변환(cast)가능 하다.\n",
    "- 만일, 부동소수점수를 정수형으로 변환하면, 소수점 아래 자리는 버려진다.\n",
    "- astype을 호출하면 새로운 dtype이 이전 dtype과 동일하더라도, 항상 새로운 배열을 생성(데이터를 복사)한다."
   ],
   "metadata": {
    "collapsed": false
   },
   "id": "4991b4ad900236ea"
  },
  {
   "cell_type": "code",
   "execution_count": 20,
   "outputs": [
    {
     "data": {
      "text/plain": "dtype('int32')"
     },
     "execution_count": 20,
     "metadata": {},
     "output_type": "execute_result"
    }
   ],
   "source": [
    "arr = np.array([1, 2, 3, 4, 5])\n",
    "\n",
    "arr.dtype"
   ],
   "metadata": {
    "collapsed": false,
    "ExecuteTime": {
     "end_time": "2023-08-14T01:00:22.822753500Z",
     "start_time": "2023-08-14T01:00:22.537342400Z"
    }
   },
   "id": "8b36c1751816c57"
  },
  {
   "cell_type": "code",
   "execution_count": 21,
   "outputs": [
    {
     "data": {
      "text/plain": "dtype('float64')"
     },
     "execution_count": 21,
     "metadata": {},
     "output_type": "execute_result"
    }
   ],
   "source": [
    "float_arr = arr.astype(np.float64)\n",
    "\n",
    "float_arr.dtype"
   ],
   "metadata": {
    "collapsed": false,
    "ExecuteTime": {
     "end_time": "2023-08-14T01:00:22.845692500Z",
     "start_time": "2023-08-14T01:00:22.555292800Z"
    }
   },
   "id": "710b91ae385ac0c2"
  },
  {
   "cell_type": "markdown",
   "source": [
    "넘파이 배열의 산술 연산\n",
    "- 배열은 for 문을 작성하지 않고, 데이터를 일괄 처리할 수 있어 매우 중요하다.\n",
    "    - 이를 벡터화(vectorization)라고 부르며, 크기가 동일한 배열 간의 산술 연산은 배열의 각 원소 단위로 적용된다. "
   ],
   "metadata": {
    "collapsed": false
   },
   "id": "a398d3330f876134"
  },
  {
   "cell_type": "code",
   "execution_count": 22,
   "outputs": [
    {
     "data": {
      "text/plain": "array([[1., 2., 3.],\n       [4., 5., 6.]])"
     },
     "execution_count": 22,
     "metadata": {},
     "output_type": "execute_result"
    }
   ],
   "source": [
    "arr = np.array([[1., 2., 3.], [4., 5., 6.]])\n",
    "arr"
   ],
   "metadata": {
    "collapsed": false,
    "ExecuteTime": {
     "end_time": "2023-08-14T01:00:22.909522800Z",
     "start_time": "2023-08-14T01:00:22.569254700Z"
    }
   },
   "id": "a510f6ba41360161"
  },
  {
   "cell_type": "code",
   "execution_count": 23,
   "outputs": [
    {
     "data": {
      "text/plain": "array([[ 1.,  4.,  9.],\n       [16., 25., 36.]])"
     },
     "execution_count": 23,
     "metadata": {},
     "output_type": "execute_result"
    }
   ],
   "source": [
    "arr*arr"
   ],
   "metadata": {
    "collapsed": false,
    "ExecuteTime": {
     "end_time": "2023-08-14T01:00:22.943460Z",
     "start_time": "2023-08-14T01:00:22.585214300Z"
    }
   },
   "id": "b110fab28090a03a"
  },
  {
   "cell_type": "code",
   "execution_count": 24,
   "outputs": [
    {
     "data": {
      "text/plain": "array([[0., 0., 0.],\n       [0., 0., 0.]])"
     },
     "execution_count": 24,
     "metadata": {},
     "output_type": "execute_result"
    }
   ],
   "source": [
    "arr - arr"
   ],
   "metadata": {
    "collapsed": false,
    "ExecuteTime": {
     "end_time": "2023-08-14T01:00:22.957418500Z",
     "start_time": "2023-08-14T01:00:22.603165100Z"
    }
   },
   "id": "9fcd3a44fb1bdcbc"
  },
  {
   "cell_type": "markdown",
   "source": [
    "스칼라 인수가 포함된 산술 연산의 경우, 배열 내의 모든 원소에 스칼라 인수가 적용된다.\n",
    "- 스칼라는 방향은 없지만, 실수 공간에서 크기를 나타내는 값을 말한다.\n",
    "    - 즉, 상수라고 생각해도 된다.\n",
    "        - 실수 전체집합에서 속하는 특정 값을 스칼라라고 한다. "
   ],
   "metadata": {
    "collapsed": false
   },
   "id": "1558f66dfa2a675b"
  },
  {
   "cell_type": "code",
   "execution_count": 25,
   "outputs": [
    {
     "data": {
      "text/plain": "array([[1.        , 0.5       , 0.33333333],\n       [0.25      , 0.2       , 0.16666667]])"
     },
     "execution_count": 25,
     "metadata": {},
     "output_type": "execute_result"
    }
   ],
   "source": [
    "1 / arr"
   ],
   "metadata": {
    "collapsed": false,
    "ExecuteTime": {
     "end_time": "2023-08-14T01:00:22.958392800Z",
     "start_time": "2023-08-14T01:00:22.617129200Z"
    }
   },
   "id": "8731515466effcef"
  },
  {
   "cell_type": "code",
   "execution_count": 26,
   "outputs": [
    {
     "data": {
      "text/plain": "array([[ 1.,  4.,  9.],\n       [16., 25., 36.]])"
     },
     "execution_count": 26,
     "metadata": {},
     "output_type": "execute_result"
    }
   ],
   "source": [
    "arr ** 2"
   ],
   "metadata": {
    "collapsed": false,
    "ExecuteTime": {
     "end_time": "2023-08-14T01:00:22.969361200Z",
     "start_time": "2023-08-14T01:00:22.633085700Z"
    }
   },
   "id": "c46a7044d18bf8b8"
  },
  {
   "cell_type": "markdown",
   "source": [
    "크기가 동일한 배열 간의 비교 연산은, 불리안 배열을 반환한다."
   ],
   "metadata": {
    "collapsed": false
   },
   "id": "a5ee8f642184f8fd"
  },
  {
   "cell_type": "code",
   "execution_count": 27,
   "outputs": [
    {
     "data": {
      "text/plain": "array([[ 0.,  4.,  1.],\n       [ 7.,  2., 12.]])"
     },
     "execution_count": 27,
     "metadata": {},
     "output_type": "execute_result"
    }
   ],
   "source": [
    "arr2 = np.array([[0., 4., 1.], [7., 2., 12.]])\n",
    "arr2"
   ],
   "metadata": {
    "collapsed": false,
    "ExecuteTime": {
     "end_time": "2023-08-14T01:00:22.970358900Z",
     "start_time": "2023-08-14T01:00:22.648044300Z"
    }
   },
   "id": "7059b696b9f3ffd7"
  },
  {
   "cell_type": "code",
   "execution_count": 28,
   "outputs": [
    {
     "data": {
      "text/plain": "array([[False,  True, False],\n       [ True, False,  True]])"
     },
     "execution_count": 28,
     "metadata": {},
     "output_type": "execute_result"
    }
   ],
   "source": [
    "arr2 > arr"
   ],
   "metadata": {
    "collapsed": false,
    "ExecuteTime": {
     "end_time": "2023-08-14T01:00:22.971355900Z",
     "start_time": "2023-08-14T01:00:22.665646500Z"
    }
   },
   "id": "22a90e9be1c7cd37"
  },
  {
   "cell_type": "markdown",
   "source": [
    "색인과 슬라이싱 기초\n",
    "- 데이터의 부분집합이나, 개별 원소를 선택하는 수많은 방법이 존재한다.\n",
    "- 1차원 배열은 표면적으로 파이썬의 리스트와 유사하게 작동하므로 매우 간단하다."
   ],
   "metadata": {
    "collapsed": false
   },
   "id": "f18326f98fb9debe"
  },
  {
   "cell_type": "code",
   "execution_count": 29,
   "outputs": [
    {
     "data": {
      "text/plain": "array([0, 1, 2, 3, 4, 5, 6, 7, 8, 9])"
     },
     "execution_count": 29,
     "metadata": {},
     "output_type": "execute_result"
    }
   ],
   "source": [
    "arr = np.arange(10)\n",
    "arr"
   ],
   "metadata": {
    "collapsed": false,
    "ExecuteTime": {
     "end_time": "2023-08-14T01:00:22.972354100Z",
     "start_time": "2023-08-14T01:00:22.679608400Z"
    }
   },
   "id": "4d2f093cd8dfb5d"
  },
  {
   "cell_type": "code",
   "execution_count": 30,
   "outputs": [
    {
     "data": {
      "text/plain": "5"
     },
     "execution_count": 30,
     "metadata": {},
     "output_type": "execute_result"
    }
   ],
   "source": [
    "arr[5]"
   ],
   "metadata": {
    "collapsed": false,
    "ExecuteTime": {
     "end_time": "2023-08-14T01:00:22.972354100Z",
     "start_time": "2023-08-14T01:00:22.696564800Z"
    }
   },
   "id": "f24c18087bcd7e31"
  },
  {
   "cell_type": "code",
   "execution_count": 31,
   "outputs": [
    {
     "data": {
      "text/plain": "array([5, 6, 7])"
     },
     "execution_count": 31,
     "metadata": {},
     "output_type": "execute_result"
    }
   ],
   "source": [
    "arr[5:8]"
   ],
   "metadata": {
    "collapsed": false,
    "ExecuteTime": {
     "end_time": "2023-08-14T01:00:22.974377300Z",
     "start_time": "2023-08-14T01:00:22.711522600Z"
    }
   },
   "id": "bbe36396b03fbae9"
  },
  {
   "cell_type": "code",
   "execution_count": 32,
   "outputs": [],
   "source": [
    "arr[5:8] = 12"
   ],
   "metadata": {
    "collapsed": false,
    "ExecuteTime": {
     "end_time": "2023-08-14T01:00:22.979336900Z",
     "start_time": "2023-08-14T01:00:22.727480800Z"
    }
   },
   "id": "2685fdb0902e96d2"
  },
  {
   "cell_type": "code",
   "execution_count": 33,
   "outputs": [
    {
     "data": {
      "text/plain": "array([ 0,  1,  2,  3,  4, 12, 12, 12,  8,  9])"
     },
     "execution_count": 33,
     "metadata": {},
     "output_type": "execute_result"
    }
   ],
   "source": [
    "arr"
   ],
   "metadata": {
    "collapsed": false,
    "ExecuteTime": {
     "end_time": "2023-08-14T01:00:22.993300800Z",
     "start_time": "2023-08-14T01:00:22.744002400Z"
    }
   },
   "id": "aa76b4744cedb3af"
  },
  {
   "cell_type": "markdown",
   "source": [
    "arr[5:8] = 12로 배열 슬라이스에 스칼라 값을 대입하면, 12가 선택 영역 전체로 전파된다.\n",
    "- 이를 브로드캐스팅이라고 표현한다.\n",
    "- 변경된 값이 원본 배열에 반영된다. 즉, 값을 복사한 후 새로운 배열을 생성하는 것이 아닌 원본 배열이 파괴된다."
   ],
   "metadata": {
    "collapsed": false
   },
   "id": "acd363634b4e8a77"
  },
  {
   "cell_type": "code",
   "execution_count": 34,
   "outputs": [
    {
     "data": {
      "text/plain": "array([12, 12, 12])"
     },
     "execution_count": 34,
     "metadata": {},
     "output_type": "execute_result"
    }
   ],
   "source": [
    "arr_slice = arr[5:8]\n",
    "\n",
    "arr_slice"
   ],
   "metadata": {
    "collapsed": false,
    "ExecuteTime": {
     "end_time": "2023-08-14T01:00:23.197386200Z",
     "start_time": "2023-08-14T01:00:22.759923600Z"
    }
   },
   "id": "2d81ecff16bec4e7"
  },
  {
   "cell_type": "code",
   "execution_count": 35,
   "outputs": [
    {
     "data": {
      "text/plain": "array([    0,     1,     2,     3,     4,    12, 12345,    12,     8,\n           9])"
     },
     "execution_count": 35,
     "metadata": {},
     "output_type": "execute_result"
    }
   ],
   "source": [
    "arr_slice[1] = 12345\n",
    "arr"
   ],
   "metadata": {
    "collapsed": false,
    "ExecuteTime": {
     "end_time": "2023-08-14T01:00:23.227333900Z",
     "start_time": "2023-08-14T01:00:22.775879800Z"
    }
   },
   "id": "30a5db542db120f3"
  },
  {
   "cell_type": "markdown",
   "source": [
    "만일, ndarray 슬라이스의 복사본을 얻고 싶다면, arr[5:8].copy()로 명시적으로 배열을 복사해야 한다.\n",
    "- 판다스도 이런 식으로 동작한다."
   ],
   "metadata": {
    "collapsed": false
   },
   "id": "17337d0ba131f878"
  },
  {
   "cell_type": "markdown",
   "source": [
    "다차원 배열을 다룰 때는 좀 더 많은 옵션이 있다.\n",
    "2차원 배열에서 각 색인에 해당하는 원소는 스칼라 값이 아닌 1차원 배열이다."
   ],
   "metadata": {
    "collapsed": false
   },
   "id": "74250091a7ba2320"
  },
  {
   "cell_type": "code",
   "execution_count": 36,
   "outputs": [
    {
     "data": {
      "text/plain": "array([7, 8, 9])"
     },
     "execution_count": 36,
     "metadata": {},
     "output_type": "execute_result"
    }
   ],
   "source": [
    "arr2d = np.array([[1,2,3], [4,5,6], [7,8,9]])\n",
    "\n",
    "arr2d[2]"
   ],
   "metadata": {
    "collapsed": false,
    "ExecuteTime": {
     "end_time": "2023-08-14T01:00:23.227333900Z",
     "start_time": "2023-08-14T01:00:22.789841500Z"
    }
   },
   "id": "b7184676af5f6dbe"
  },
  {
   "cell_type": "markdown",
   "source": [
    "즉, 개별 원소는 재귀적으로 접근해야 한다.\n",
    "- 하지만 이는 매우 귀찮은 작업이므로 쉼표로 구분된 색인 리스트를 넘기면 된다.\n",
    "- 즉, 아래의 두 표현은 동일하다."
   ],
   "metadata": {
    "collapsed": false
   },
   "id": "6d10d17c8caae14b"
  },
  {
   "cell_type": "code",
   "execution_count": 37,
   "outputs": [
    {
     "data": {
      "text/plain": "3"
     },
     "execution_count": 37,
     "metadata": {},
     "output_type": "execute_result"
    }
   ],
   "source": [
    "arr2d[0][2]"
   ],
   "metadata": {
    "collapsed": false,
    "ExecuteTime": {
     "end_time": "2023-08-14T01:00:23.228331300Z",
     "start_time": "2023-08-14T01:00:22.806796600Z"
    }
   },
   "id": "fce34da452dce498"
  },
  {
   "cell_type": "code",
   "execution_count": 38,
   "outputs": [
    {
     "data": {
      "text/plain": "3"
     },
     "execution_count": 38,
     "metadata": {},
     "output_type": "execute_result"
    }
   ],
   "source": [
    "arr2d[0, 2]"
   ],
   "metadata": {
    "collapsed": false,
    "ExecuteTime": {
     "end_time": "2023-08-14T01:00:23.257253700Z",
     "start_time": "2023-08-14T01:00:22.819763100Z"
    }
   },
   "id": "fbde293086a34f00"
  },
  {
   "cell_type": "markdown",
   "source": [
    "다차원 배열에서 마지막 색인을 생략하면, 반환되는 객체는 상위 차원의 데이터를 모두 포함한 한 차원 낮은 ndarray가 반한된다.\n",
    "2 x 2 x 3 크기의 배열 arr3d가 있다고 가정하자,"
   ],
   "metadata": {
    "collapsed": false
   },
   "id": "ff96953768bf0be7"
  },
  {
   "cell_type": "code",
   "execution_count": 39,
   "outputs": [
    {
     "data": {
      "text/plain": "array([[[ 1,  2,  3],\n        [ 4,  5,  6]],\n\n       [[ 7,  8,  9],\n        [10, 11, 12]]])"
     },
     "execution_count": 39,
     "metadata": {},
     "output_type": "execute_result"
    }
   ],
   "source": [
    "arr3d = np.array([[[1, 2, 3], [4, 5, 6]], [[7, 8, 9], [10, 11, 12]]])\n",
    "arr3d"
   ],
   "metadata": {
    "collapsed": false,
    "ExecuteTime": {
     "end_time": "2023-08-14T01:00:23.277201400Z",
     "start_time": "2023-08-14T01:00:22.836717200Z"
    }
   },
   "id": "40008e466e6bee51"
  },
  {
   "cell_type": "code",
   "execution_count": 40,
   "outputs": [
    {
     "data": {
      "text/plain": "array([[1, 2, 3],\n       [4, 5, 6]])"
     },
     "execution_count": 40,
     "metadata": {},
     "output_type": "execute_result"
    }
   ],
   "source": [
    "# arr3d[0]은 2 x 3 크기의 배열이다.\n",
    "arr3d[0]"
   ],
   "metadata": {
    "collapsed": false,
    "ExecuteTime": {
     "end_time": "2023-08-14T01:00:23.277201400Z",
     "start_time": "2023-08-14T01:00:22.869628300Z"
    }
   },
   "id": "8663a2cdd12c5f59"
  },
  {
   "cell_type": "markdown",
   "source": [
    "arr3d[0]에는 스칼라 값과 배열 모두 할당할 수 있다."
   ],
   "metadata": {
    "collapsed": false
   },
   "id": "992da2508e80ff70"
  },
  {
   "cell_type": "code",
   "execution_count": 41,
   "outputs": [
    {
     "data": {
      "text/plain": "array([[[42, 42, 42],\n        [42, 42, 42]],\n\n       [[ 7,  8,  9],\n        [10, 11, 12]]])"
     },
     "execution_count": 41,
     "metadata": {},
     "output_type": "execute_result"
    }
   ],
   "source": [
    "old_values = arr3d[0].copy()\n",
    "arr3d[0] = 42\n",
    "arr3d"
   ],
   "metadata": {
    "collapsed": false,
    "ExecuteTime": {
     "end_time": "2023-08-14T01:00:23.278198500Z",
     "start_time": "2023-08-14T01:00:22.876609800Z"
    }
   },
   "id": "583d9703c09eb307"
  },
  {
   "cell_type": "code",
   "execution_count": 42,
   "outputs": [
    {
     "data": {
      "text/plain": "array([[[ 1,  2,  3],\n        [ 4,  5,  6]],\n\n       [[ 7,  8,  9],\n        [10, 11, 12]]])"
     },
     "execution_count": 42,
     "metadata": {},
     "output_type": "execute_result"
    }
   ],
   "source": [
    "arr3d[0] = old_values\n",
    "arr3d"
   ],
   "metadata": {
    "collapsed": false,
    "ExecuteTime": {
     "end_time": "2023-08-14T01:00:23.278198500Z",
     "start_time": "2023-08-14T01:00:22.884590Z"
    }
   },
   "id": "6d8e9ea60a52a839"
  },
  {
   "cell_type": "code",
   "execution_count": 43,
   "outputs": [
    {
     "data": {
      "text/plain": "array([7, 8, 9])"
     },
     "execution_count": 43,
     "metadata": {},
     "output_type": "execute_result"
    }
   ],
   "source": [
    "arr3d[1, 0]"
   ],
   "metadata": {
    "collapsed": false,
    "ExecuteTime": {
     "end_time": "2023-08-14T01:00:23.309115100Z",
     "start_time": "2023-08-14T01:00:22.900546900Z"
    }
   },
   "id": "e5b7d2ba24bb264"
  },
  {
   "cell_type": "markdown",
   "source": [
    "파이썬의 리스트 같은 1차원 객체처럼, ndarray도 익숙한 문법으로 슬라이싱할 수 있다.\n",
    "- 2차원 배열 arr2d를 생각해보자, 이 배열을 슬라이싱하는 방법은 조금 다르다."
   ],
   "metadata": {
    "collapsed": false
   },
   "id": "bd3a26bbf025c68a"
  },
  {
   "cell_type": "code",
   "execution_count": 44,
   "outputs": [
    {
     "data": {
      "text/plain": "array([[1, 2, 3],\n       [4, 5, 6],\n       [7, 8, 9]])"
     },
     "execution_count": 44,
     "metadata": {},
     "output_type": "execute_result"
    }
   ],
   "source": [
    "arr2d"
   ],
   "metadata": {
    "collapsed": false,
    "ExecuteTime": {
     "end_time": "2023-08-14T01:00:23.309115100Z",
     "start_time": "2023-08-14T01:00:22.931462800Z"
    }
   },
   "id": "87852b99b5be88f1"
  },
  {
   "cell_type": "code",
   "execution_count": 45,
   "outputs": [
    {
     "data": {
      "text/plain": "array([[1, 2, 3],\n       [4, 5, 6]])"
     },
     "execution_count": 45,
     "metadata": {},
     "output_type": "execute_result"
    }
   ],
   "source": [
    "arr2d[:2]"
   ],
   "metadata": {
    "collapsed": false,
    "ExecuteTime": {
     "end_time": "2023-08-14T01:00:23.346017600Z",
     "start_time": "2023-08-14T01:00:22.932460200Z"
    }
   },
   "id": "866f494bbad2626f"
  },
  {
   "cell_type": "markdown",
   "source": [
    "첫 번째 축인 0번 축을 기준으로 슬라이싱되었다.\n",
    "- 슬라이스는 축을 따라 선택 영역 내의 원소를 선택한다.\n",
    "- arr2d[:2]는 arr2d의 시작부터, 두 번째 행까지 선택한다는 뜻이다.\n",
    "- 색인을 여러개 넘겨서 다차원을 슬라이싱할 수도 있다. "
   ],
   "metadata": {
    "collapsed": false
   },
   "id": "158dde5e0c785880"
  },
  {
   "cell_type": "code",
   "execution_count": 46,
   "outputs": [
    {
     "data": {
      "text/plain": "array([[2, 3],\n       [5, 6]])"
     },
     "execution_count": 46,
     "metadata": {},
     "output_type": "execute_result"
    }
   ],
   "source": [
    "arr2d[:2, 1:]"
   ],
   "metadata": {
    "collapsed": false,
    "ExecuteTime": {
     "end_time": "2023-08-14T01:00:23.359979Z",
     "start_time": "2023-08-14T01:00:22.947454Z"
    }
   },
   "id": "eec829f9e603a903"
  },
  {
   "cell_type": "markdown",
   "source": [
    "위와 같이 슬라이싱을 하면, 항상 동일한 차원의 배열 뷰를 얻게 된다.\n",
    "- 정수 색인과 슬라이스를 함께 사용하면, 한 차원 낮은 슬라이스를 얻을 수 있다."
   ],
   "metadata": {
    "collapsed": false
   },
   "id": "22b723855e58a842"
  },
  {
   "cell_type": "code",
   "execution_count": 47,
   "outputs": [
    {
     "data": {
      "text/plain": "array([4, 5])"
     },
     "execution_count": 47,
     "metadata": {},
     "output_type": "execute_result"
    }
   ],
   "source": [
    "# 예를 들어 두 번째 행의 처음 두 열만 선택하고 싶다면, 아래처럼 슬라이싱 하면 된다.\n",
    "lower_dim_slice = arr2d[1, :2]\n",
    "lower_dim_slice"
   ],
   "metadata": {
    "collapsed": false,
    "ExecuteTime": {
     "end_time": "2023-08-14T01:00:23.462704100Z",
     "start_time": "2023-08-14T01:00:22.965372200Z"
    }
   },
   "id": "c959738dc100ad87"
  },
  {
   "cell_type": "markdown",
   "source": [
    "위에서 arr2d는 2차원 배열이지만, lower_dim_slice는 1차원이고, 축 크기가 하나인 튜플의 모양이다."
   ],
   "metadata": {
    "collapsed": false
   },
   "id": "59040a1afdb67ece"
  },
  {
   "cell_type": "code",
   "execution_count": 48,
   "outputs": [
    {
     "data": {
      "text/plain": "(2,)"
     },
     "execution_count": 48,
     "metadata": {},
     "output_type": "execute_result"
    }
   ],
   "source": [
    "lower_dim_slice.shape"
   ],
   "metadata": {
    "collapsed": false,
    "ExecuteTime": {
     "end_time": "2023-08-14T01:00:23.472677700Z",
     "start_time": "2023-08-14T01:00:22.978339900Z"
    }
   },
   "id": "e7d6a3b4201f5632"
  },
  {
   "cell_type": "code",
   "execution_count": 49,
   "outputs": [
    {
     "data": {
      "text/plain": "array([3, 6])"
     },
     "execution_count": 49,
     "metadata": {},
     "output_type": "execute_result"
    }
   ],
   "source": [
    "# 이와 유사하게 처음 두 행에서 세 번째 열만 선택하고 싶다면 아래처럼 할 수 있다.\n",
    "arr2d[:2, 2]"
   ],
   "metadata": {
    "collapsed": false,
    "ExecuteTime": {
     "end_time": "2023-08-14T01:00:23.494619200Z",
     "start_time": "2023-08-14T01:00:22.994297600Z"
    }
   },
   "id": "1e4a1adf04bfc05d"
  },
  {
   "cell_type": "markdown",
   "source": [
    "열만 사용한다면, 전체 축을 선택한다는 의미이므로, 원래 차원의 슬라이스를 얻게 된다."
   ],
   "metadata": {
    "collapsed": false
   },
   "id": "11b8b216ba32368d"
  },
  {
   "cell_type": "code",
   "execution_count": 50,
   "outputs": [
    {
     "data": {
      "text/plain": "array([[1],\n       [4],\n       [7]])"
     },
     "execution_count": 50,
     "metadata": {},
     "output_type": "execute_result"
    }
   ],
   "source": [
    "arr2d[:, :1]"
   ],
   "metadata": {
    "collapsed": false,
    "ExecuteTime": {
     "end_time": "2023-08-14T01:00:23.494619200Z",
     "start_time": "2023-08-14T01:00:23.013245900Z"
    }
   },
   "id": "d7f536c1ed5acf6"
  },
  {
   "cell_type": "code",
   "execution_count": 51,
   "outputs": [],
   "source": [
    "names = np.array([\"Bob\", \"Joe\", \"Will\", \"Bob\", \"Will\", \"Joe\", \"Joe\"])\n",
    "\n",
    "data = np.array([[4,7], [0, 2], [-5, 6], [0, 0], [1, 2], [-12, -4], [3, 4]])"
   ],
   "metadata": {
    "collapsed": false,
    "ExecuteTime": {
     "end_time": "2023-08-14T01:00:23.495616300Z",
     "start_time": "2023-08-14T01:00:23.027207100Z"
    }
   },
   "id": "d6bbae22942aeff7"
  },
  {
   "cell_type": "code",
   "execution_count": 52,
   "outputs": [
    {
     "data": {
      "text/plain": "array(['Bob', 'Joe', 'Will', 'Bob', 'Will', 'Joe', 'Joe'], dtype='<U4')"
     },
     "execution_count": 52,
     "metadata": {},
     "output_type": "execute_result"
    }
   ],
   "source": [
    "names"
   ],
   "metadata": {
    "collapsed": false,
    "ExecuteTime": {
     "end_time": "2023-08-14T01:00:23.496613700Z",
     "start_time": "2023-08-14T01:00:23.041169200Z"
    }
   },
   "id": "cfdd515043953fc"
  },
  {
   "cell_type": "code",
   "execution_count": 53,
   "outputs": [
    {
     "data": {
      "text/plain": "array([[  4,   7],\n       [  0,   2],\n       [ -5,   6],\n       [  0,   0],\n       [  1,   2],\n       [-12,  -4],\n       [  3,   4]])"
     },
     "execution_count": 53,
     "metadata": {},
     "output_type": "execute_result"
    }
   ],
   "source": [
    "data"
   ],
   "metadata": {
    "collapsed": false,
    "ExecuteTime": {
     "end_time": "2023-08-14T01:00:23.497611Z",
     "start_time": "2023-08-14T01:00:23.057127100Z"
    }
   },
   "id": "a09722a662cbd6a1"
  },
  {
   "cell_type": "markdown",
   "source": [
    "각 이름은 data 배열의 각 행에 대응한다고 가정한다.\n",
    "만약 전체 행에서 \"Bob\"과 동일한 이름을 선택하려면, 산술 연산과 마찬가지로 배열에 대한 비교 연산(== 같은)도 벡터화된다.\n",
    "즉, names를 \"Bob\" 문자열과 비교하면 불리언 배열이 반환된다."
   ],
   "metadata": {
    "collapsed": false
   },
   "id": "e15c629e3d3c594e"
  },
  {
   "cell_type": "code",
   "execution_count": 54,
   "outputs": [
    {
     "data": {
      "text/plain": "array([ True, False, False,  True, False, False, False])"
     },
     "execution_count": 54,
     "metadata": {},
     "output_type": "execute_result"
    }
   ],
   "source": [
    "names == \"Bob\""
   ],
   "metadata": {
    "collapsed": false,
    "ExecuteTime": {
     "end_time": "2023-08-14T01:00:23.497611Z",
     "start_time": "2023-08-14T01:00:23.073084700Z"
    }
   },
   "id": "f444cd27b84f4cfc"
  },
  {
   "cell_type": "code",
   "execution_count": 55,
   "outputs": [
    {
     "data": {
      "text/plain": "array([[4, 7],\n       [0, 0]])"
     },
     "execution_count": 55,
     "metadata": {},
     "output_type": "execute_result"
    }
   ],
   "source": [
    "# 불리언 배열은 배열의 색인으로 사용할 수 있다.\n",
    "data[names == \"Bob\"]"
   ],
   "metadata": {
    "collapsed": false,
    "ExecuteTime": {
     "end_time": "2023-08-14T01:00:23.498608Z",
     "start_time": "2023-08-14T01:00:23.091043700Z"
    }
   },
   "id": "f6c64e0cb7a76b86"
  },
  {
   "cell_type": "code",
   "execution_count": 56,
   "outputs": [
    {
     "data": {
      "text/plain": "array([[7],\n       [0]])"
     },
     "execution_count": 56,
     "metadata": {},
     "output_type": "execute_result"
    }
   ],
   "source": [
    "data[names == \"Bob\", 1:]"
   ],
   "metadata": {
    "collapsed": false,
    "ExecuteTime": {
     "end_time": "2023-08-14T01:00:23.514565500Z",
     "start_time": "2023-08-14T01:00:23.105141500Z"
    }
   },
   "id": "a81bf0730bf9a395"
  },
  {
   "cell_type": "code",
   "execution_count": 57,
   "outputs": [
    {
     "data": {
      "text/plain": "array([7, 0])"
     },
     "execution_count": 57,
     "metadata": {},
     "output_type": "execute_result"
    }
   ],
   "source": [
    "data[names == \"Bob\", 1]"
   ],
   "metadata": {
    "collapsed": false,
    "ExecuteTime": {
     "end_time": "2023-08-14T01:00:23.514565500Z",
     "start_time": "2023-08-14T01:00:23.121097800Z"
    }
   },
   "id": "ab7b4e456918a87f"
  },
  {
   "cell_type": "code",
   "execution_count": 58,
   "outputs": [
    {
     "data": {
      "text/plain": "array([False,  True,  True, False,  True,  True,  True])"
     },
     "execution_count": 58,
     "metadata": {},
     "output_type": "execute_result"
    }
   ],
   "source": [
    "# \"Bob\"이 아닌 항목을 모두 선택하려면, != 연산자를 사용하거나, ~를 사용해서 조건부를 부인하면 된다.\n",
    "names != \"Bob\""
   ],
   "metadata": {
    "collapsed": false,
    "ExecuteTime": {
     "end_time": "2023-08-14T01:00:23.515562900Z",
     "start_time": "2023-08-14T01:00:23.138052600Z"
    }
   },
   "id": "52253c69a6e83fb4"
  },
  {
   "cell_type": "code",
   "execution_count": 59,
   "outputs": [
    {
     "data": {
      "text/plain": "array([False,  True,  True, False,  True,  True,  True])"
     },
     "execution_count": 59,
     "metadata": {},
     "output_type": "execute_result"
    }
   ],
   "source": [
    "~(names == \"Bob\")"
   ],
   "metadata": {
    "collapsed": false,
    "ExecuteTime": {
     "end_time": "2023-08-14T01:00:23.516560200Z",
     "start_time": "2023-08-14T01:00:23.155009100Z"
    }
   },
   "id": "fb49e5e2f7a3fdc"
  },
  {
   "cell_type": "code",
   "execution_count": 60,
   "outputs": [
    {
     "data": {
      "text/plain": "array([[  0,   2],\n       [ -5,   6],\n       [  1,   2],\n       [-12,  -4],\n       [  3,   4]])"
     },
     "execution_count": 60,
     "metadata": {},
     "output_type": "execute_result"
    }
   ],
   "source": [
    "data[~(names == \"Bob\")]"
   ],
   "metadata": {
    "collapsed": false,
    "ExecuteTime": {
     "end_time": "2023-08-14T01:00:23.516560200Z",
     "start_time": "2023-08-14T01:00:23.169967900Z"
    }
   },
   "id": "8c0de66197447507"
  },
  {
   "cell_type": "markdown",
   "source": [
    "세 가지 이름 중, 두 가지 이름을 선택하려면 &(and)와 |(or) 같은 논리 연산자를 사용하여 여러 개의 불리언 조건을 사용하면 된다.\n",
    "- 파이썬 예약어인 and와 or은 불리언 배열에서 사용할 수 없다.\n",
    "    - and와 or 대신 &와 |를 사용한다. "
   ],
   "metadata": {
    "collapsed": false
   },
   "id": "b8059d264163f998"
  },
  {
   "cell_type": "code",
   "execution_count": 61,
   "outputs": [
    {
     "data": {
      "text/plain": "array([ True, False,  True,  True,  True, False, False])"
     },
     "execution_count": 61,
     "metadata": {},
     "output_type": "execute_result"
    }
   ],
   "source": [
    "mask = (names == \"Bob\") | (names == \"Will\")\n",
    "\n",
    "mask"
   ],
   "metadata": {
    "collapsed": false,
    "ExecuteTime": {
     "end_time": "2023-08-14T01:00:23.521547Z",
     "start_time": "2023-08-14T01:00:23.185924900Z"
    }
   },
   "id": "9e9fdaadbae2f9a2"
  },
  {
   "cell_type": "markdown",
   "source": [
    "불리언 색인을 이용하여 데이터를 선택하면, 반환되는 배열의 내용이 바뀌지 않더라도 항상 데이터 복사가 발생한다.\n",
    "\n",
    "불리언 배열에 값을 대입하면 오른쪽에 있는 불리언 배열의 값이 True인 위치로 대체하여 작동한다.\n",
    "- data에 저장된 모든 음수를 0으로 대입하려면 아래와 같이 수행한다."
   ],
   "metadata": {
    "collapsed": false
   },
   "id": "9fdb9e3a302a8aa7"
  },
  {
   "cell_type": "code",
   "execution_count": 62,
   "outputs": [
    {
     "data": {
      "text/plain": "array([[4, 7],\n       [0, 2],\n       [0, 6],\n       [0, 0],\n       [1, 2],\n       [0, 0],\n       [3, 4]])"
     },
     "execution_count": 62,
     "metadata": {},
     "output_type": "execute_result"
    }
   ],
   "source": [
    "data[data < 0] = 0\n",
    "\n",
    "data"
   ],
   "metadata": {
    "collapsed": false,
    "ExecuteTime": {
     "end_time": "2023-08-14T01:00:23.521547Z",
     "start_time": "2023-08-14T01:00:23.200406600Z"
    }
   },
   "id": "fb5c0d748ac85133"
  },
  {
   "cell_type": "code",
   "execution_count": 63,
   "outputs": [
    {
     "data": {
      "text/plain": "array([[7, 7],\n       [0, 2],\n       [7, 7],\n       [7, 7],\n       [7, 7],\n       [0, 0],\n       [3, 4]])"
     },
     "execution_count": 63,
     "metadata": {},
     "output_type": "execute_result"
    }
   ],
   "source": [
    "# 1차원 불리언 배열을 사용하여, 전체 행이나 열의 값을 대입할 수 있다.\n",
    "data[names != \"Joe\"] = 7\n",
    "\n",
    "data"
   ],
   "metadata": {
    "collapsed": false,
    "ExecuteTime": {
     "end_time": "2023-08-14T01:00:23.919482100Z",
     "start_time": "2023-08-14T01:00:23.216368100Z"
    }
   },
   "id": "7da30fcbe3935e95"
  },
  {
   "cell_type": "markdown",
   "source": [
    "팬시 색인(fancy indexing)\n",
    "- 정수 배열을 사용한 색은을 설명하기 위해 넘파이에서 차용한 단어이다.\n",
    "\n",
    "8 x 4 크기의 배열이 있다고 가정하자."
   ],
   "metadata": {
    "collapsed": false
   },
   "id": "823f3257f4d62660"
  },
  {
   "cell_type": "code",
   "execution_count": 64,
   "outputs": [
    {
     "data": {
      "text/plain": "array([[0., 0., 0., 0.],\n       [1., 1., 1., 1.],\n       [2., 2., 2., 2.],\n       [3., 3., 3., 3.],\n       [4., 4., 4., 4.],\n       [5., 5., 5., 5.],\n       [6., 6., 6., 6.],\n       [7., 7., 7., 7.]])"
     },
     "execution_count": 64,
     "metadata": {},
     "output_type": "execute_result"
    }
   ],
   "source": [
    "arr = np.zeros((8, 4))\n",
    "\n",
    "for i in range(8):\n",
    "    arr[i] = i\n",
    "\n",
    "arr"
   ],
   "metadata": {
    "collapsed": false,
    "ExecuteTime": {
     "end_time": "2023-08-14T01:00:23.920479500Z",
     "start_time": "2023-08-14T01:00:23.233318400Z"
    }
   },
   "id": "6de654c53a8faca5"
  },
  {
   "cell_type": "markdown",
   "source": [
    "특정한 순서로, 행의 하위집합을 선택하고 싶다면 원하는 순서가 명시된 정수가 담긴 ndarray나 리스트를 넘기면 된다."
   ],
   "metadata": {
    "collapsed": false
   },
   "id": "16333408213da56d"
  },
  {
   "cell_type": "code",
   "execution_count": 65,
   "outputs": [
    {
     "data": {
      "text/plain": "array([[4., 4., 4., 4.],\n       [3., 3., 3., 3.],\n       [0., 0., 0., 0.],\n       [6., 6., 6., 6.]])"
     },
     "execution_count": 65,
     "metadata": {},
     "output_type": "execute_result"
    }
   ],
   "source": [
    "arr[[4, 3, 0, 6]]"
   ],
   "metadata": {
    "collapsed": false,
    "ExecuteTime": {
     "end_time": "2023-08-14T01:00:23.944415300Z",
     "start_time": "2023-08-14T01:00:23.247280800Z"
    }
   },
   "id": "c893e6fb41ffff85"
  },
  {
   "cell_type": "markdown",
   "source": [
    "다차원 색인 배열을 넘기면 조금 다르게 작동한다.\n",
    "각 색인 튜플에 대응하는 1차원 배열이 선택된다."
   ],
   "metadata": {
    "collapsed": false
   },
   "id": "b0b63dcc72e64b07"
  },
  {
   "cell_type": "code",
   "execution_count": 66,
   "outputs": [
    {
     "data": {
      "text/plain": "array([[ 0,  1,  2,  3],\n       [ 4,  5,  6,  7],\n       [ 8,  9, 10, 11],\n       [12, 13, 14, 15],\n       [16, 17, 18, 19],\n       [20, 21, 22, 23],\n       [24, 25, 26, 27],\n       [28, 29, 30, 31]])"
     },
     "execution_count": 66,
     "metadata": {},
     "output_type": "execute_result"
    }
   ],
   "source": [
    "arr = np.arange(32).reshape((8, 4))\n",
    "\n",
    "arr "
   ],
   "metadata": {
    "collapsed": false,
    "ExecuteTime": {
     "end_time": "2023-08-14T01:00:23.977327700Z",
     "start_time": "2023-08-14T01:00:23.263238Z"
    }
   },
   "id": "728a57d7f7bd575e"
  },
  {
   "cell_type": "code",
   "execution_count": 67,
   "outputs": [
    {
     "data": {
      "text/plain": "array([ 4, 23, 29, 10])"
     },
     "execution_count": 67,
     "metadata": {},
     "output_type": "execute_result"
    }
   ],
   "source": [
    "arr[[1,5,7,2], [0,3,1,2]]"
   ],
   "metadata": {
    "collapsed": false,
    "ExecuteTime": {
     "end_time": "2023-08-14T01:00:23.995279700Z",
     "start_time": "2023-08-14T01:00:23.281190600Z"
    }
   },
   "id": "2de85b8748a5ba"
  },
  {
   "cell_type": "markdown",
   "source": [
    "색인으로 음수를 사용하면, 끝에서부터 행을 선택한다."
   ],
   "metadata": {
    "collapsed": false
   },
   "id": "8422040539f1d7eb"
  },
  {
   "cell_type": "code",
   "execution_count": 68,
   "outputs": [
    {
     "data": {
      "text/plain": "array([[20, 21, 22, 23],\n       [12, 13, 14, 15],\n       [ 4,  5,  6,  7]])"
     },
     "execution_count": 68,
     "metadata": {},
     "output_type": "execute_result"
    }
   ],
   "source": [
    "arr[[-3, -5, -7]]"
   ],
   "metadata": {
    "collapsed": false,
    "ExecuteTime": {
     "end_time": "2023-08-14T01:00:24.000295300Z",
     "start_time": "2023-08-14T01:00:23.296150200Z"
    }
   },
   "id": "bd07a9ad9e7f3131"
  },
  {
   "cell_type": "markdown",
   "source": [
    "배열이 몇 차원이든지, 팬시 색인의 결과는 항상 1차원이다."
   ],
   "metadata": {
    "collapsed": false
   },
   "id": "925b823269ffba44"
  },
  {
   "cell_type": "code",
   "execution_count": 69,
   "outputs": [
    {
     "data": {
      "text/plain": "array([[ 4,  7,  5,  6],\n       [20, 23, 21, 22],\n       [28, 31, 29, 30],\n       [ 8, 11,  9, 10]])"
     },
     "execution_count": 69,
     "metadata": {},
     "output_type": "execute_result"
    }
   ],
   "source": [
    "arr[[1, 5, 7, 2]][:, [0, 3, 1, 2]]\n",
    "# 위의 arr[[1,5,7,2], [0,3,1,2]]의 결과는 행렬의 행과 열에 대응하는 사각형 모양의 값이 아니다.\n",
    "# 행렬의 행과 열에 대응하는 사각형 모양의 값을 나타내기 위해선 위와 같이 코드를 작성한다."
   ],
   "metadata": {
    "collapsed": false,
    "ExecuteTime": {
     "end_time": "2023-08-14T01:00:24.029218Z",
     "start_time": "2023-08-14T01:00:23.311110300Z"
    }
   },
   "id": "3505e4531bb2b712"
  },
  {
   "cell_type": "markdown",
   "source": [
    "팬시 색인은 슬라이싱과는 달리, 선택된 데이터를 새로운 배열로 복사한다.\n",
    "팬시 색인으로 값을 대입하면 색인된 값이 변경된다."
   ],
   "metadata": {
    "collapsed": false
   },
   "id": "dcc312078a2c5b26"
  },
  {
   "cell_type": "code",
   "execution_count": 70,
   "outputs": [
    {
     "data": {
      "text/plain": "array([ 4, 23, 29, 10])"
     },
     "execution_count": 70,
     "metadata": {},
     "output_type": "execute_result"
    }
   ],
   "source": [
    "arr[[1, 5, 7, 2], [0, 3, 1, 2]]"
   ],
   "metadata": {
    "collapsed": false,
    "ExecuteTime": {
     "end_time": "2023-08-14T01:00:24.029218Z",
     "start_time": "2023-08-14T01:00:23.327069400Z"
    }
   },
   "id": "ee9a6fcd1a86a579"
  },
  {
   "cell_type": "code",
   "execution_count": 71,
   "outputs": [
    {
     "data": {
      "text/plain": "array([[ 0,  1,  2,  3],\n       [ 0,  5,  6,  7],\n       [ 8,  9,  0, 11],\n       [12, 13, 14, 15],\n       [16, 17, 18, 19],\n       [20, 21, 22,  0],\n       [24, 25, 26, 27],\n       [28,  0, 30, 31]])"
     },
     "execution_count": 71,
     "metadata": {},
     "output_type": "execute_result"
    }
   ],
   "source": [
    "arr[[1, 5, 7, 2], [0, 3, 1, 2]] = 0\n",
    "\n",
    "arr"
   ],
   "metadata": {
    "collapsed": false,
    "ExecuteTime": {
     "end_time": "2023-08-14T01:00:24.063097900Z",
     "start_time": "2023-08-14T01:00:23.342027600Z"
    }
   },
   "id": "992ea7dba76c98c9"
  },
  {
   "cell_type": "markdown",
   "source": [
    "팬시 색인은 슬라이싱과는 달리, 선택된 데이터를 새로운 배열로 복사한다.\n",
    "팬시 색인으로 값을 대입하면, 색인된 값이 변경된다."
   ],
   "metadata": {
    "collapsed": false
   },
   "id": "e79e2a4d4a7eaf66"
  },
  {
   "cell_type": "markdown",
   "source": [
    "배열 전치와 축 바꾸기\n",
    "- 배열 전치(transpose)는 데이터를 복사하지 않고, 데이터의 모양이 바뀐 뷰를 반환하는 특별한 기능이다.\n",
    "- ndarray는 transpose 메서드와 T라는 이름의 특수한 속성을 갖는다."
   ],
   "metadata": {
    "collapsed": false
   },
   "id": "7727fea5eac2b263"
  },
  {
   "cell_type": "code",
   "execution_count": 72,
   "outputs": [
    {
     "data": {
      "text/plain": "array([[ 0,  1,  2,  3,  4],\n       [ 5,  6,  7,  8,  9],\n       [10, 11, 12, 13, 14]])"
     },
     "execution_count": 72,
     "metadata": {},
     "output_type": "execute_result"
    }
   ],
   "source": [
    "arr = np.arange(15).reshape((3, 5))\n",
    "arr"
   ],
   "metadata": {
    "collapsed": false,
    "ExecuteTime": {
     "end_time": "2023-08-14T01:00:24.072074Z",
     "start_time": "2023-08-14T01:00:23.357984100Z"
    }
   },
   "id": "939d9fa57c78817"
  },
  {
   "cell_type": "code",
   "execution_count": 73,
   "outputs": [
    {
     "data": {
      "text/plain": "array([[ 0,  5, 10],\n       [ 1,  6, 11],\n       [ 2,  7, 12],\n       [ 3,  8, 13],\n       [ 4,  9, 14]])"
     },
     "execution_count": 73,
     "metadata": {},
     "output_type": "execute_result"
    }
   ],
   "source": [
    "arr.T"
   ],
   "metadata": {
    "collapsed": false,
    "ExecuteTime": {
     "end_time": "2023-08-14T01:00:24.073071300Z",
     "start_time": "2023-08-14T01:00:23.374939300Z"
    }
   },
   "id": "5c4e29859887abea"
  },
  {
   "cell_type": "markdown",
   "source": [
    "행렬을 계산할 때 자주 사용하게 될 행렬의 내적은 numpy.dot을 이용해서 구한다."
   ],
   "metadata": {
    "collapsed": false
   },
   "id": "6cc530e82e3f594b"
  },
  {
   "cell_type": "code",
   "execution_count": 74,
   "outputs": [
    {
     "data": {
      "text/plain": "array([[ 0,  1,  0],\n       [ 1,  2, -2],\n       [ 6,  3,  2],\n       [-1,  0, -1],\n       [ 1,  0,  1]])"
     },
     "execution_count": 74,
     "metadata": {},
     "output_type": "execute_result"
    }
   ],
   "source": [
    "arr = np.array([[0, 1, 0], [1, 2, -2], [6, 3, 2], [-1, 0, -1], [1, 0, 1]])\n",
    "arr"
   ],
   "metadata": {
    "collapsed": false,
    "ExecuteTime": {
     "end_time": "2023-08-14T01:00:24.073071300Z",
     "start_time": "2023-08-14T01:00:23.391893700Z"
    }
   },
   "id": "a0e00b6f199f1921"
  },
  {
   "cell_type": "code",
   "execution_count": 75,
   "outputs": [
    {
     "data": {
      "text/plain": "array([[39, 20, 12],\n       [20, 14,  2],\n       [12,  2, 10]])"
     },
     "execution_count": 75,
     "metadata": {},
     "output_type": "execute_result"
    }
   ],
   "source": [
    "np.dot(arr.T, arr)"
   ],
   "metadata": {
    "collapsed": false,
    "ExecuteTime": {
     "end_time": "2023-08-14T01:00:24.073071300Z",
     "start_time": "2023-08-14T01:00:23.407851200Z"
    }
   },
   "id": "64efcead7abf90aa"
  },
  {
   "cell_type": "markdown",
   "source": [
    "@연산자는 행렬 곱셈을 수행하는 또 다른 방법이다."
   ],
   "metadata": {
    "collapsed": false
   },
   "id": "f52ae2e5965aa29b"
  },
  {
   "cell_type": "code",
   "execution_count": 76,
   "outputs": [
    {
     "data": {
      "text/plain": "array([[39, 20, 12],\n       [20, 14,  2],\n       [12,  2, 10]])"
     },
     "execution_count": 76,
     "metadata": {},
     "output_type": "execute_result"
    }
   ],
   "source": [
    "arr.T @ arr"
   ],
   "metadata": {
    "collapsed": false,
    "ExecuteTime": {
     "end_time": "2023-08-14T01:00:24.074068700Z",
     "start_time": "2023-08-14T01:00:23.422811300Z"
    }
   },
   "id": "f0e05e62a6f62805"
  },
  {
   "cell_type": "markdown",
   "source": [
    ".T 속성을 이용하는 간단한 전치는 축을 뒤바꾸는 특별한 경우이다.\n",
    "ndarray에는 swapaxes라는 메서드를 통해, 두 개의 축 번호를 받아서 배열을 뒤바꾼다."
   ],
   "metadata": {
    "collapsed": false
   },
   "id": "4b7f90f76f50bd59"
  },
  {
   "cell_type": "code",
   "execution_count": 77,
   "outputs": [
    {
     "data": {
      "text/plain": "array([[ 0,  1,  0],\n       [ 1,  2, -2],\n       [ 6,  3,  2],\n       [-1,  0, -1],\n       [ 1,  0,  1]])"
     },
     "execution_count": 77,
     "metadata": {},
     "output_type": "execute_result"
    }
   ],
   "source": [
    "arr"
   ],
   "metadata": {
    "collapsed": false,
    "ExecuteTime": {
     "end_time": "2023-08-14T01:00:24.075066Z",
     "start_time": "2023-08-14T01:00:23.439766Z"
    }
   },
   "id": "3f24fc4258c56cc4"
  },
  {
   "cell_type": "code",
   "execution_count": 78,
   "outputs": [
    {
     "data": {
      "text/plain": "array([[ 0,  1,  6, -1,  1],\n       [ 1,  2,  3,  0,  0],\n       [ 0, -2,  2, -1,  1]])"
     },
     "execution_count": 78,
     "metadata": {},
     "output_type": "execute_result"
    }
   ],
   "source": [
    "arr.swapaxes(0, 1)"
   ],
   "metadata": {
    "collapsed": false,
    "ExecuteTime": {
     "end_time": "2023-08-14T01:00:24.093017800Z",
     "start_time": "2023-08-14T01:00:23.455724700Z"
    }
   },
   "id": "9877a05e7bd5d16"
  },
  {
   "cell_type": "code",
   "execution_count": 79,
   "outputs": [
    {
     "data": {
      "text/plain": "array([[ 0,  1,  6, -1,  1],\n       [ 1,  2,  3,  0,  0],\n       [ 0, -2,  2, -1,  1]])"
     },
     "execution_count": 79,
     "metadata": {},
     "output_type": "execute_result"
    }
   ],
   "source": [
    "arr.T"
   ],
   "metadata": {
    "collapsed": false,
    "ExecuteTime": {
     "end_time": "2023-08-14T01:00:24.107977900Z",
     "start_time": "2023-08-14T01:00:23.470682900Z"
    }
   },
   "id": "a007376ffaf11ba6"
  },
  {
   "cell_type": "markdown",
   "source": [
    "난수 생성\n",
    "numpy.random 모듈은 파이썬 내장 random 모듈을 보강해 다양한 종류의 확률분포로부터 효과적으로 표본값을 생성하는 데 주로 사용한다.\n",
    "- 예를 들어, numpy.random.standard_normal을 사용하여 표준정규분포로부터 4x4 크기의 표본을 생성할 수 있다."
   ],
   "metadata": {
    "collapsed": false
   },
   "id": "e402317799d66b09"
  },
  {
   "cell_type": "code",
   "execution_count": 80,
   "outputs": [
    {
     "data": {
      "text/plain": "array([[ 1.76769339e+00, -7.98031271e-01,  4.60556501e-02,\n         1.48677028e+00],\n       [ 1.22323220e-01, -6.27644140e-01,  6.12539605e-01,\n        -9.46639345e-02],\n       [-1.10978324e+00,  5.39304579e-01, -3.89218379e-04,\n         6.84049433e-01],\n       [-4.60383506e-01,  6.52568108e-01,  5.67825785e-01,\n        -2.86612000e-01]])"
     },
     "execution_count": 80,
     "metadata": {},
     "output_type": "execute_result"
    }
   ],
   "source": [
    "samples = np.random.standard_normal(size=(4,4))\n",
    "samples"
   ],
   "metadata": {
    "collapsed": false,
    "ExecuteTime": {
     "end_time": "2023-08-14T01:00:24.203722100Z",
     "start_time": "2023-08-14T01:00:23.486641100Z"
    }
   },
   "id": "439c844354746ddb"
  },
  {
   "cell_type": "markdown",
   "source": [
    "파이썬 내장 random 모듈은 한 번에 하나의 값만 생성한다.\n",
    "numpy의 random은 매우 큰 표본을 생성하지만, 파이썬 내장 모듈보다 수십배 이상 빠르다."
   ],
   "metadata": {
    "collapsed": false
   },
   "id": "d93fc674f0a91041"
  },
  {
   "cell_type": "code",
   "execution_count": 81,
   "outputs": [
    {
     "name": "stdout",
     "output_type": "stream",
     "text": [
      "582 ms ± 22.3 ms per loop (mean ± std. dev. of 7 runs, 1 loop each)\n"
     ]
    }
   ],
   "source": [
    "from random import normalvariate\n",
    "N = 1_000_000\n",
    "%timeit samples = [normalvariate(0, 1) for _ in range(N)]"
   ],
   "metadata": {
    "collapsed": false,
    "ExecuteTime": {
     "end_time": "2023-08-14T01:00:28.251892Z",
     "start_time": "2023-08-14T01:00:23.515562900Z"
    }
   },
   "id": "c6e018cfba1b012d"
  },
  {
   "cell_type": "code",
   "execution_count": 82,
   "outputs": [
    {
     "name": "stdout",
     "output_type": "stream",
     "text": [
      "21.7 ms ± 2.95 ms per loop (mean ± std. dev. of 7 runs, 10 loops each)\n"
     ]
    }
   ],
   "source": [
    "%timeit np.random.standard_normal(N)"
   ],
   "metadata": {
    "collapsed": false,
    "ExecuteTime": {
     "end_time": "2023-08-14T01:00:30.004217500Z",
     "start_time": "2023-08-14T01:00:28.251892Z"
    }
   },
   "id": "ed3d94d38b764ae2"
  },
  {
   "cell_type": "markdown",
   "source": [
    "이러한 난수는 엄밀하게 말하면, 진정한 난수가 아니며 유사난수(pseudorandom)라고 부른다.\n",
    "난수 생성기의 시드(seed)값에 따라 정해진 난수를 알고릳듬으로 생성하기 때문이다.\n",
    "numpy.random.standard_normal 같은 함수는 numpy.random 모듈의 기본 난수 생성기를 사용하지만, 사용할 생성기를 명시적으로 설정할 수 있다. "
   ],
   "metadata": {
    "collapsed": false
   },
   "id": "e0acbaeb13901f2a"
  },
  {
   "cell_type": "code",
   "execution_count": 83,
   "outputs": [],
   "source": [
    "rng = np.random.default_rng(seed=12345)\n",
    "\n",
    "data = rng.standard_normal((2, 3))"
   ],
   "metadata": {
    "collapsed": false,
    "ExecuteTime": {
     "end_time": "2023-08-14T01:00:30.020160300Z",
     "start_time": "2023-08-14T01:00:30.002209900Z"
    }
   },
   "id": "3e60db7029655280"
  },
  {
   "cell_type": "markdown",
   "source": [
    "seed 인수는 난수 생성기의 초기 상태를 결정하며, rng 객체가 데이터를 생성할 때마다 상태가 변경된다.\n",
    "생성기 객체인 rng는 numpy.random 모듈을 사용할 수 있는 다른 코드와도 분리되어 있다."
   ],
   "metadata": {
    "collapsed": false
   },
   "id": "add8ec7505360b61"
  },
  {
   "cell_type": "code",
   "execution_count": 84,
   "outputs": [
    {
     "data": {
      "text/plain": "numpy.random._generator.Generator"
     },
     "execution_count": 84,
     "metadata": {},
     "output_type": "execute_result"
    }
   ],
   "source": [
    "type(rng)"
   ],
   "metadata": {
    "collapsed": false,
    "ExecuteTime": {
     "end_time": "2023-08-14T01:00:30.124880Z",
     "start_time": "2023-08-14T01:00:30.019163200Z"
    }
   },
   "id": "f13a8a5808141a19"
  },
  {
   "cell_type": "markdown",
   "source": [
    "넘파이 난수 생성 메서드\n",
    "- permutation\n",
    "    - 주어진 크기의 임의 순열을 반환하거나 주어진 리스트 순서를 뒤섞는다. \n",
    "- shuffle\n",
    "    - 리스트나 배열의 순서를 뒤섞는다. \n",
    "- integers\n",
    "    - 주어진 상하한값 내에서 임의의 정숫값 몇 개를 뽑는다. \n",
    "- standard_normal\n",
    "    - 평균 0, 표준편차 1의 정규분포에서 표본을 추출한다. \n",
    "- binomial\n",
    "    - 이항분포에서 표본을 추출한다. \n",
    "- normal\n",
    "    - 정규분포(가우시안)에서 표본을 추출한다. \n",
    "- beta\n",
    "    - 베타 분포에서 표본을 추출한다. \n",
    "- chisquare\n",
    "    - 카이제곱 분포에서 표본을 추출한다. \n",
    "- gamma\n",
    "    - 감마 분포에서 표본을 추출한다. \n",
    "- uniform\n",
    "    - 균등[0, 1) 분포에서 표본을 추출한다. "
   ],
   "metadata": {
    "collapsed": false
   },
   "id": "a3f0f1866320e899"
  },
  {
   "cell_type": "markdown",
   "source": [
    "유니버설 함수: 배열의 각 원소를 빠르게 처리하는 함수\n",
    "- ufunc라고도 부른다.\n",
    "- ndarray 안의 데이터 원소별로 연산을 수행하는 함수이다.\n",
    "- 유니버설 함수(universal)는 하나 이상의 스칼라 값을 받아서, 하나 이상의 스칼라 결괏값을 반환하는 간단한 함수를 빠르게 수행하는 벡터화된 래퍼 함수라고 생각하면 된다.\n",
    "- 많은 ufunc는 numpy.sqrt나 numpy.exp 같은 간단한 변형을 전체 원소에 적용할 수 있다."
   ],
   "metadata": {
    "collapsed": false
   },
   "id": "41dd00ba5f4c61e6"
  },
  {
   "cell_type": "code",
   "execution_count": 85,
   "outputs": [
    {
     "data": {
      "text/plain": "array([0, 1, 2, 3, 4, 5, 6, 7, 8, 9])"
     },
     "execution_count": 85,
     "metadata": {},
     "output_type": "execute_result"
    }
   ],
   "source": [
    "arr = np.arange(10)\n",
    "arr"
   ],
   "metadata": {
    "collapsed": false,
    "ExecuteTime": {
     "end_time": "2023-08-14T01:00:30.131861500Z",
     "start_time": "2023-08-14T01:00:30.033125800Z"
    }
   },
   "id": "25a46016ecb39410"
  },
  {
   "cell_type": "code",
   "execution_count": 86,
   "outputs": [
    {
     "data": {
      "text/plain": "array([0.        , 1.        , 1.41421356, 1.73205081, 2.        ,\n       2.23606798, 2.44948974, 2.64575131, 2.82842712, 3.        ])"
     },
     "execution_count": 86,
     "metadata": {},
     "output_type": "execute_result"
    }
   ],
   "source": [
    "np.sqrt(arr)"
   ],
   "metadata": {
    "collapsed": false,
    "ExecuteTime": {
     "end_time": "2023-08-14T01:00:30.133856200Z",
     "start_time": "2023-08-14T01:00:30.051078500Z"
    }
   },
   "id": "f2ec3bc81408c678"
  },
  {
   "cell_type": "code",
   "execution_count": 87,
   "outputs": [
    {
     "data": {
      "text/plain": "array([1.00000000e+00, 2.71828183e+00, 7.38905610e+00, 2.00855369e+01,\n       5.45981500e+01, 1.48413159e+02, 4.03428793e+02, 1.09663316e+03,\n       2.98095799e+03, 8.10308393e+03])"
     },
     "execution_count": 87,
     "metadata": {},
     "output_type": "execute_result"
    }
   ],
   "source": [
    "np.exp(arr)"
   ],
   "metadata": {
    "collapsed": false,
    "ExecuteTime": {
     "end_time": "2023-08-14T01:00:30.133856200Z",
     "start_time": "2023-08-14T01:00:30.067034800Z"
    }
   },
   "id": "19539aff7bc881dc"
  },
  {
   "cell_type": "markdown",
   "source": [
    "위의 함수들은 단항(unary) 유니버설 함수이다.\n",
    "numpy.add나 numpy.maximum처럼 2개의 매개변수를 취해서 단일 배열을 반환하는 함수는 이항(binary) 유니버설 함수이다."
   ],
   "metadata": {
    "collapsed": false
   },
   "id": "a5b78237ad661d93"
  },
  {
   "cell_type": "code",
   "execution_count": 88,
   "outputs": [],
   "source": [
    "x = rng.standard_normal(8)\n",
    "y = rng.standard_normal(8)"
   ],
   "metadata": {
    "collapsed": false,
    "ExecuteTime": {
     "end_time": "2023-08-14T01:00:30.134853300Z",
     "start_time": "2023-08-14T01:00:30.080998300Z"
    }
   },
   "id": "853c2b7ca55afbab"
  },
  {
   "cell_type": "code",
   "execution_count": 89,
   "outputs": [
    {
     "data": {
      "text/plain": "array([-1.3677927 ,  0.6488928 ,  0.36105811, -1.95286306,  2.34740965,\n        0.96849691, -0.75938718,  0.90219827])"
     },
     "execution_count": 89,
     "metadata": {},
     "output_type": "execute_result"
    }
   ],
   "source": [
    "x"
   ],
   "metadata": {
    "collapsed": false,
    "ExecuteTime": {
     "end_time": "2023-08-14T01:00:30.134853300Z",
     "start_time": "2023-08-14T01:00:30.098949900Z"
    }
   },
   "id": "4d3b254c450e78df"
  },
  {
   "cell_type": "code",
   "execution_count": 90,
   "outputs": [
    {
     "data": {
      "text/plain": "array([-0.46695317, -0.06068952,  0.78884434, -1.25666813,  0.57585751,\n        1.39897899,  1.32229806, -0.29969852])"
     },
     "execution_count": 90,
     "metadata": {},
     "output_type": "execute_result"
    }
   ],
   "source": [
    "y"
   ],
   "metadata": {
    "collapsed": false,
    "ExecuteTime": {
     "end_time": "2023-08-14T01:00:30.156794600Z",
     "start_time": "2023-08-14T01:00:30.112915600Z"
    }
   },
   "id": "292c2bb2903bc141"
  },
  {
   "cell_type": "code",
   "execution_count": 91,
   "outputs": [
    {
     "data": {
      "text/plain": "array([-0.46695317,  0.6488928 ,  0.78884434, -1.25666813,  2.34740965,\n        1.39897899,  1.32229806,  0.90219827])"
     },
     "execution_count": 91,
     "metadata": {},
     "output_type": "execute_result"
    }
   ],
   "source": [
    "np.maximum(x, y)"
   ],
   "metadata": {
    "collapsed": false,
    "ExecuteTime": {
     "end_time": "2023-08-14T01:00:30.231595200Z",
     "start_time": "2023-08-14T01:00:30.127872600Z"
    }
   },
   "id": "42046a05d7631bc4"
  },
  {
   "cell_type": "markdown",
   "source": [
    "흔하지는 않지만, 여러 개의 배열을 반환하는 유니버설 함수도 있다.\n",
    "numpy.modf는 파이썬 내장 함수인 math.modf의 벡터화 버전이며, 부수를 받아서 몫과 나머지를 함께 반환한다."
   ],
   "metadata": {
    "collapsed": false
   },
   "id": "8560f20831f9aa4a"
  },
  {
   "cell_type": "code",
   "execution_count": 92,
   "outputs": [
    {
     "data": {
      "text/plain": "array([ 4.51459671, -8.10791367, -0.7909463 ,  2.24741966, -6.71800536,\n       -0.40843795,  8.62369966])"
     },
     "execution_count": 92,
     "metadata": {},
     "output_type": "execute_result"
    }
   ],
   "source": [
    "arr = rng.standard_normal(7) * 5\n",
    "arr"
   ],
   "metadata": {
    "collapsed": false,
    "ExecuteTime": {
     "end_time": "2023-08-14T01:00:30.337450300Z",
     "start_time": "2023-08-14T01:00:30.144826800Z"
    }
   },
   "id": "ad37ce58795416b4"
  },
  {
   "cell_type": "code",
   "execution_count": 93,
   "outputs": [],
   "source": [
    "remainder, whole_part = np.modf(arr)"
   ],
   "metadata": {
    "collapsed": false,
    "ExecuteTime": {
     "end_time": "2023-08-14T01:00:30.337450300Z",
     "start_time": "2023-08-14T01:00:30.161781300Z"
    }
   },
   "id": "fae6e596ea294dc4"
  },
  {
   "cell_type": "code",
   "execution_count": 94,
   "outputs": [
    {
     "data": {
      "text/plain": "array([ 0.51459671, -0.10791367, -0.7909463 ,  0.24741966, -0.71800536,\n       -0.40843795,  0.62369966])"
     },
     "execution_count": 94,
     "metadata": {},
     "output_type": "execute_result"
    }
   ],
   "source": [
    "remainder"
   ],
   "metadata": {
    "collapsed": false,
    "ExecuteTime": {
     "end_time": "2023-08-14T01:00:30.337450300Z",
     "start_time": "2023-08-14T01:00:30.175744300Z"
    }
   },
   "id": "29274a8436276ee2"
  },
  {
   "cell_type": "code",
   "execution_count": 95,
   "outputs": [
    {
     "data": {
      "text/plain": "array([ 4., -8., -0.,  2., -6., -0.,  8.])"
     },
     "execution_count": 95,
     "metadata": {},
     "output_type": "execute_result"
    }
   ],
   "source": [
    "whole_part"
   ],
   "metadata": {
    "collapsed": false,
    "ExecuteTime": {
     "end_time": "2023-08-14T01:00:30.352411100Z",
     "start_time": "2023-08-14T01:00:30.191736600Z"
    }
   },
   "id": "3b3b5620837adaa9"
  },
  {
   "cell_type": "markdown",
   "source": [
    "유니버설 함수는 선택적으로 out 인수를 사용하여, 계산 결과를 새로운 배열로 만들지 않고 기존 배열에 할당할 수 있다."
   ],
   "metadata": {
    "collapsed": false
   },
   "id": "3abd57cdbd44e358"
  },
  {
   "cell_type": "code",
   "execution_count": 96,
   "outputs": [
    {
     "data": {
      "text/plain": "array([ 4.51459671, -8.10791367, -0.7909463 ,  2.24741966, -6.71800536,\n       -0.40843795,  8.62369966])"
     },
     "execution_count": 96,
     "metadata": {},
     "output_type": "execute_result"
    }
   ],
   "source": [
    "arr"
   ],
   "metadata": {
    "collapsed": false,
    "ExecuteTime": {
     "end_time": "2023-08-14T01:00:30.352411100Z",
     "start_time": "2023-08-14T01:00:30.208657600Z"
    }
   },
   "id": "b7c19502d94d8cb2"
  },
  {
   "cell_type": "code",
   "execution_count": 97,
   "outputs": [],
   "source": [
    "out = np.zeros_like(arr)"
   ],
   "metadata": {
    "collapsed": false,
    "ExecuteTime": {
     "end_time": "2023-08-14T01:00:30.374353200Z",
     "start_time": "2023-08-14T01:00:30.223615700Z"
    }
   },
   "id": "6955678d2d0141a0"
  },
  {
   "cell_type": "code",
   "execution_count": 98,
   "outputs": [
    {
     "data": {
      "text/plain": "array([ 5.51459671, -7.10791367,  0.2090537 ,  3.24741966, -5.71800536,\n        0.59156205,  9.62369966])"
     },
     "execution_count": 98,
     "metadata": {},
     "output_type": "execute_result"
    }
   ],
   "source": [
    "np.add(arr, 1)"
   ],
   "metadata": {
    "collapsed": false,
    "ExecuteTime": {
     "end_time": "2023-08-14T01:00:30.374353200Z",
     "start_time": "2023-08-14T01:00:30.239573400Z"
    }
   },
   "id": "69ff1c6a6c38e9da"
  },
  {
   "cell_type": "code",
   "execution_count": 99,
   "outputs": [
    {
     "data": {
      "text/plain": "array([ 5.51459671, -7.10791367,  0.2090537 ,  3.24741966, -5.71800536,\n        0.59156205,  9.62369966])"
     },
     "execution_count": 99,
     "metadata": {},
     "output_type": "execute_result"
    }
   ],
   "source": [
    "np.add(arr, 1, out=out)"
   ],
   "metadata": {
    "collapsed": false,
    "ExecuteTime": {
     "end_time": "2023-08-14T01:00:30.375350600Z",
     "start_time": "2023-08-14T01:00:30.255532Z"
    }
   },
   "id": "1dafc0cdb9e1a95f"
  },
  {
   "cell_type": "code",
   "execution_count": 100,
   "outputs": [
    {
     "data": {
      "text/plain": "array([ 5.51459671, -7.10791367,  0.2090537 ,  3.24741966, -5.71800536,\n        0.59156205,  9.62369966])"
     },
     "execution_count": 100,
     "metadata": {},
     "output_type": "execute_result"
    }
   ],
   "source": [
    "out"
   ],
   "metadata": {
    "collapsed": false,
    "ExecuteTime": {
     "end_time": "2023-08-14T01:00:30.375350600Z",
     "start_time": "2023-08-14T01:00:30.273483500Z"
    }
   },
   "id": "9e47713bed2d7e7f"
  },
  {
   "cell_type": "markdown",
   "source": [
    "단항 유니버설 함수\n",
    "- abs, fabs\n",
    "    - 각 원소(정수, 부동소수점수, 복소수)의 절댓값을 구한다.\n",
    "    - 복소수가 아닌 경우에는 빠른 연산을 위해 fabs를 사용한다. \n",
    "- sqrt\n",
    "    - 각 원소의 제곱근을 계산한다.\n",
    "        - arr ** 0.5와 동일하다. \n",
    "- square\n",
    "    - 각 원소의 제곱을 계산한다.\n",
    "    - arr ** 2와 동일하다. \n",
    "- exp\n",
    "    - 각 원소에서 지수 ex를 계산한다. \n",
    "- log, log10, log2, log1p\n",
    "    - 각각 자연로그, 로그 10, 로그 2, 로그(1+x) \n",
    "- sign\n",
    "    - 각 원소의 부호를 계산한다.\n",
    "    - 1(양수), 0(영), -1(음수) \n",
    "- ceil\n",
    "    - 각 원소의 소수부를 올린다. \n",
    "- floor\n",
    "    - 각 원소의 소수부를 내린다. \n",
    "- rint\n",
    "    - 각 원소의 소수부를 반올림한다.\n",
    "    - dtype은 유지된다. \n",
    "- modf\n",
    "    - 각 원소의 몫과 나머지를 각각의 배열로 반환한다. \n",
    "- isnan\n",
    "    - 각 원소가 숫자가 아닌지(NaN)를 나타내는 불리언 배열을 반환한다. \n",
    "- isfinite, isinf\n",
    "    - 각 배열의 각 원소가 유한한지(non-inf, non-NaN) 무한한지 나타내는 불리언 배열을 반환한다. \n",
    "- cos, cosh, sin, sinh, tan, tanh\n",
    "    - 일반 삼각함수와 쌍곡선삼각함수이다. \n",
    "- arccos, arccosh, arcsin, arcsinh, arctan, arctanh\n",
    "    - 역삼각함수이다.   \n",
    "- logical_not\n",
    "    - 각 원소의 논리 부정(not) 값을 계산한다.\n",
    "    - ~arr과 동일하다.   "
   ],
   "metadata": {
    "collapsed": false
   },
   "id": "c8ba2caf920212a1"
  },
  {
   "cell_type": "markdown",
   "source": [
    "이항 유니버설 함수\n",
    "- add\n",
    "    - 두 배열에서 같은 위치의 원소끼리 더한다. \n",
    "- subtract\n",
    "    - 첫 번째 배열의 원소에서 두 번째 배열의 원소를 뺀다. \n",
    "- multiply\n",
    "    - 배열의 원소끼리 곱한다. \n",
    "- divide, floor_divide\n",
    "    - 첫 번째 배열의 원소를 두 번째 배열의 원소로 나눈다.\n",
    "    - floor_divide는 몫만 취한다. \n",
    "- power\n",
    "    - 첫 번째 배열의 원소를 두 번째 배열의 원소만큼 제곱한다. \n",
    "- maximum, fmax\n",
    "    - 각 배열의 두 원소 중 큰 값을 반환한다.\n",
    "    - fmax는 NaN을 무시한다. \n",
    "- minimum, fmin\n",
    "    - 각 배열의 두 원소 중 작은 값을 반환한다.\n",
    "    - fmin는 NaN을 무시한다.  \n",
    "- mod\n",
    "    - 첫 번째 배열의 원소를 두 번째 배열의 원소로 나눈 나머지를 구한다. \n",
    "- copysign\n",
    "    - 첫 번째 배열의 원소의 기호를 두 번째 배열의 원소의 기호로 바꾼다. \n",
    "- greater, greater_equal, less, less_equal, equal, not_equal\n",
    "    - 각 두 원소 간의 >, >=, <, <=, ==, != 비교 연산 결과를 불리언 배열로 반환한다. \n",
    "- logical_and\n",
    "    - 각 두 원소 간의 AND(&) 논리 연산 결과를 반환한다. \n",
    "- logical_or\n",
    "    - 각 두 원소 간의 OR(|) 논리 연산 결과를 반환한다. \n",
    "- logical_xor\n",
    "    - 각 두 원소 간의 XOR(^) 논리 연산 결과를 반환한다. "
   ],
   "metadata": {
    "collapsed": false
   },
   "id": "969ef889f0fff310"
  },
  {
   "cell_type": "markdown",
   "source": [
    "배열을 이용한 배열 기반 프로그래밍\n",
    "\n",
    "벡터화\n",
    "- 배열 연산을 사용해서, 반복문을 명시적으로 제거하는 기법이다.\n",
    "- 벡터화된 배열에 대한 산술 연산은 순수 파이썬 연산에 비해 매우 빠르다. \n",
    "\n",
    "numpy.meshgrid 함수는 두 개의 1차원 배열을 받아서 모든 (x, y) 픽을 만들 수 있는 2차원 배열 2개를 반환한다."
   ],
   "metadata": {
    "collapsed": false
   },
   "id": "ce3223479a95182a"
  },
  {
   "cell_type": "code",
   "execution_count": 101,
   "outputs": [
    {
     "data": {
      "text/plain": "array([[-5.  , -5.  , -5.  , ..., -5.  , -5.  , -5.  ],\n       [-4.99, -4.99, -4.99, ..., -4.99, -4.99, -4.99],\n       [-4.98, -4.98, -4.98, ..., -4.98, -4.98, -4.98],\n       ...,\n       [ 4.97,  4.97,  4.97, ...,  4.97,  4.97,  4.97],\n       [ 4.98,  4.98,  4.98, ...,  4.98,  4.98,  4.98],\n       [ 4.99,  4.99,  4.99, ...,  4.99,  4.99,  4.99]])"
     },
     "execution_count": 101,
     "metadata": {},
     "output_type": "execute_result"
    }
   ],
   "source": [
    "points = np.arange(-5, 5, 0.01) # -5부터 4.99까지 0.01씩 증가하는 값의 배열\n",
    "\n",
    "xs, ys = np.meshgrid(points, points)\n",
    "\n",
    "ys"
   ],
   "metadata": {
    "collapsed": false,
    "ExecuteTime": {
     "end_time": "2023-08-14T01:00:30.376347800Z",
     "start_time": "2023-08-14T01:00:30.287583600Z"
    }
   },
   "id": "bcc4660f87db07cf"
  },
  {
   "cell_type": "code",
   "execution_count": 102,
   "outputs": [
    {
     "data": {
      "text/plain": "array([[7.07106781, 7.06400028, 7.05693985, ..., 7.04988652, 7.05693985,\n        7.06400028],\n       [7.06400028, 7.05692568, 7.04985815, ..., 7.04279774, 7.04985815,\n        7.05692568],\n       [7.05693985, 7.04985815, 7.04278354, ..., 7.03571603, 7.04278354,\n        7.04985815],\n       ...,\n       [7.04988652, 7.04279774, 7.03571603, ..., 7.0286414 , 7.03571603,\n        7.04279774],\n       [7.05693985, 7.04985815, 7.04278354, ..., 7.03571603, 7.04278354,\n        7.04985815],\n       [7.06400028, 7.05692568, 7.04985815, ..., 7.04279774, 7.04985815,\n        7.05692568]])"
     },
     "execution_count": 102,
     "metadata": {},
     "output_type": "execute_result"
    }
   ],
   "source": [
    "# 이제, 그리드상의 두 점을 가지고 간단하게 계산해 볼 수 있다.\n",
    "z = np.sqrt(xs ** 2 + ys ** 2)\n",
    "\n",
    "z"
   ],
   "metadata": {
    "collapsed": false,
    "ExecuteTime": {
     "end_time": "2023-08-14T01:00:30.376347800Z",
     "start_time": "2023-08-14T01:00:30.304539100Z"
    }
   },
   "id": "917bc2b2ce4f9869"
  },
  {
   "cell_type": "code",
   "execution_count": 103,
   "outputs": [
    {
     "data": {
      "text/plain": "Text(0.5, 1.0, 'Image plot of $\\\\sqrt{x^2 + y^2}$ for a grid of values')"
     },
     "execution_count": 103,
     "metadata": {},
     "output_type": "execute_result"
    },
    {
     "data": {
      "text/plain": "<Figure size 640x480 with 2 Axes>",
      "image/png": "[encoded data removed]"
     },
     "metadata": {},
     "output_type": "display_data"
    }
   ],
   "source": [
    "# matplotlib를 이용해서, 2차원 배열을 시각화한다.\n",
    "import matplotlib.pyplot as plt\n",
    "plt.imshow(z, cmap = plt.cm.gray, extent=[-5, 5, -5, 5])\n",
    "plt.colorbar()\n",
    "plt.title(\"Image plot of $\\sqrt{x^2 + y^2}$ for a grid of values\")\n",
    "# IPython에서 작업하는 경우 plt.close(\"all\")을 실행하여, 열려 있는 모든 플롯 창을 닫을 수 있다."
   ],
   "metadata": {
    "collapsed": false,
    "ExecuteTime": {
     "end_time": "2023-08-14T01:00:31.637205200Z",
     "start_time": "2023-08-14T01:00:30.319498500Z"
    }
   },
   "id": "7cceda271b76895f"
  },
  {
   "cell_type": "markdown",
   "source": [
    "numpy.where\n",
    "- x if 조건 else y 같은 삼항식의 벡터화된 버전이다."
   ],
   "metadata": {
    "collapsed": false
   },
   "id": "7b1213eab22d35de"
  },
  {
   "cell_type": "code",
   "execution_count": 104,
   "outputs": [
    {
     "data": {
      "text/plain": "[1.1, 2.2, 1.3, 1.4, 2.5]"
     },
     "execution_count": 104,
     "metadata": {},
     "output_type": "execute_result"
    }
   ],
   "source": [
    "xarr = np.array([1.1, 1.2, 1.3, 1.4, 1.5])\n",
    "yarr = np.array([2.1, 2.2, 2.3, 2.4, 2.5])\n",
    "cond = np.array([True, False, True, True, False])\n",
    "# cond 값이 True 일 때는 xarr의 값을 취하고, 반대로 yarr의 값을 취하고 싶다면, 아래와 같이 리스트 표기법을 작성한다.\n",
    "result = [(x if c else y) for x, y, c in zip(xarr, yarr, cond)]\n",
    "result"
   ],
   "metadata": {
    "collapsed": false,
    "ExecuteTime": {
     "end_time": "2023-08-14T01:00:31.658149Z",
     "start_time": "2023-08-14T01:00:31.636207500Z"
    }
   },
   "id": "a5f53caf83d507c0"
  },
  {
   "cell_type": "code",
   "execution_count": 105,
   "outputs": [
    {
     "data": {
      "text/plain": "array([1.1, 2.2, 1.3, 1.4, 2.5])"
     },
     "execution_count": 105,
     "metadata": {},
     "output_type": "execute_result"
    }
   ],
   "source": [
    "# 위의 리스트 표기법은 순수 파이썬으로 수행되기에, 큰 배열을 빠르게 처리하지 못한다.\n",
    "# 위의 방식은 다차원 배열에서 사용할 수 없다.\n",
    "# numpy.where를 사용하면, 아주 간결하게 작성할 수 있다.\n",
    "result = np.where(cond, xarr, yarr)\n",
    "result"
   ],
   "metadata": {
    "collapsed": false,
    "ExecuteTime": {
     "end_time": "2023-08-14T01:00:31.820713900Z",
     "start_time": "2023-08-14T01:00:31.651167200Z"
    }
   },
   "id": "d2dce9f722e371ff"
  },
  {
   "cell_type": "markdown",
   "source": [
    "numpy.where의 두 번째와 세 번째 인수는 배열이 아니여도 괜찮다.\n",
    "- 둘 중 하나 혹은 둘 다 스칼라 값이더라도 작동한다.\n",
    "- 데이터 분석에서는, 다른 배열에 기반한 새로운 배열을 생성하기 위해 일반적으로 where를 사용한다."
   ],
   "metadata": {
    "collapsed": false
   },
   "id": "8d40e437f37d8f4"
  },
  {
   "cell_type": "code",
   "execution_count": 106,
   "outputs": [
    {
     "data": {
      "text/plain": "array([[ 2.61815943,  0.77736134,  0.8286332 , -0.95898831],\n       [-1.20938829, -1.41229201,  0.54154683,  0.7519394 ],\n       [-0.65876032, -1.22867499,  0.25755777,  0.31290292],\n       [-0.13081169,  1.26998312, -0.09296246, -0.06615089]])"
     },
     "execution_count": 106,
     "metadata": {},
     "output_type": "execute_result"
    }
   ],
   "source": [
    "# numpy.where를 이용하여 임의로 생성된 데이터가 있는 행렬이 있고, 모든 양수는 2로, 모든 음수는 -2로 바꾼다.\n",
    "arr = rng.standard_normal((4,4))\n",
    "arr"
   ],
   "metadata": {
    "collapsed": false,
    "ExecuteTime": {
     "end_time": "2023-08-14T01:00:31.820713900Z",
     "start_time": "2023-08-14T01:00:31.666127700Z"
    }
   },
   "id": "c36614e826a6c899"
  },
  {
   "cell_type": "code",
   "execution_count": 107,
   "outputs": [
    {
     "data": {
      "text/plain": "array([[ True,  True,  True, False],\n       [False, False,  True,  True],\n       [False, False,  True,  True],\n       [False,  True, False, False]])"
     },
     "execution_count": 107,
     "metadata": {},
     "output_type": "execute_result"
    }
   ],
   "source": [
    "arr > 0"
   ],
   "metadata": {
    "collapsed": false,
    "ExecuteTime": {
     "end_time": "2023-08-14T01:00:31.821711200Z",
     "start_time": "2023-08-14T01:00:31.700036800Z"
    }
   },
   "id": "bb94eff0d283ba2d"
  },
  {
   "cell_type": "code",
   "execution_count": 108,
   "outputs": [
    {
     "data": {
      "text/plain": "array([[ 2,  2,  2, -2],\n       [-2, -2,  2,  2],\n       [-2, -2,  2,  2],\n       [-2,  2, -2, -2]])"
     },
     "execution_count": 108,
     "metadata": {},
     "output_type": "execute_result"
    }
   ],
   "source": [
    "np.where(arr > 0, 2, -2)"
   ],
   "metadata": {
    "collapsed": false,
    "ExecuteTime": {
     "end_time": "2023-08-14T01:00:31.821711200Z",
     "start_time": "2023-08-14T01:00:31.701034400Z"
    }
   },
   "id": "54d1197ef71362a8"
  },
  {
   "cell_type": "code",
   "execution_count": 109,
   "outputs": [
    {
     "data": {
      "text/plain": "array([[ 2.        ,  2.        ,  2.        , -0.95898831],\n       [-1.20938829, -1.41229201,  2.        ,  2.        ],\n       [-0.65876032, -1.22867499,  2.        ,  2.        ],\n       [-0.13081169,  2.        , -0.09296246, -0.06615089]])"
     },
     "execution_count": 109,
     "metadata": {},
     "output_type": "execute_result"
    }
   ],
   "source": [
    "# numpy.where를 사용할 때 스칼라 값과 배열을 조합할 수 있따.\n",
    "# 예를 들어, arr의 모든 양수를 2로 바꿀 수 있다.\n",
    "np.where(arr > 0, 2, arr)"
   ],
   "metadata": {
    "collapsed": false,
    "ExecuteTime": {
     "end_time": "2023-08-14T01:00:31.822709100Z",
     "start_time": "2023-08-14T01:00:31.713002300Z"
    }
   },
   "id": "ea4856e52bfcfdba"
  },
  {
   "cell_type": "markdown",
   "source": [
    "수학 메서드와 통계 메서드\n",
    "- 배열 전체 혹은, 배열의 한 축에 속하는 자료에서 통계를 계산하는 수학 함수는 배열 클래스의 메서드로 사요ㅕㅇ할 수 있다.\n",
    "- numpy.sum 같은 넘파이 함수를 사용할 때는 첫 번째 인수로 계산하려는 배열을 넘겨주어야 한다. "
   ],
   "metadata": {
    "collapsed": false
   },
   "id": "6af3b0e96345de18"
  },
  {
   "cell_type": "code",
   "execution_count": 110,
   "outputs": [
    {
     "data": {
      "text/plain": "array([[-1.10821447,  0.13595685,  1.34707776,  0.06114402],\n       [ 0.0709146 ,  0.43365454,  0.27748366,  0.53025239],\n       [ 0.53672097,  0.61835001, -0.79501746,  0.30003095],\n       [-1.60270159,  0.26679883, -1.26162378, -0.07127081],\n       [ 0.47404973, -0.41485376,  0.0977165 , -1.64041784]])"
     },
     "execution_count": 110,
     "metadata": {},
     "output_type": "execute_result"
    }
   ],
   "source": [
    "# 임의의 정규분포 데이터를 생성하고 집계한다.\n",
    "arr = rng.standard_normal((5, 4))\n",
    "\n",
    "arr"
   ],
   "metadata": {
    "collapsed": false,
    "ExecuteTime": {
     "end_time": "2023-08-14T01:00:31.822709100Z",
     "start_time": "2023-08-14T01:00:31.728959900Z"
    }
   },
   "id": "fdfe19f2caf7c64e"
  },
  {
   "cell_type": "code",
   "execution_count": 111,
   "outputs": [
    {
     "data": {
      "text/plain": "-0.08719744457434529"
     },
     "execution_count": 111,
     "metadata": {},
     "output_type": "execute_result"
    }
   ],
   "source": [
    "arr.mean()"
   ],
   "metadata": {
    "collapsed": false,
    "ExecuteTime": {
     "end_time": "2023-08-14T01:00:31.822709100Z",
     "start_time": "2023-08-14T01:00:31.744916600Z"
    }
   },
   "id": "7f1ed162cb5d30b0"
  },
  {
   "cell_type": "code",
   "execution_count": 112,
   "outputs": [
    {
     "data": {
      "text/plain": "-0.08719744457434529"
     },
     "execution_count": 112,
     "metadata": {},
     "output_type": "execute_result"
    }
   ],
   "source": [
    "np.mean(arr)"
   ],
   "metadata": {
    "collapsed": false,
    "ExecuteTime": {
     "end_time": "2023-08-14T01:00:31.828694100Z",
     "start_time": "2023-08-14T01:00:31.760874200Z"
    }
   },
   "id": "e03c96e3e7a2a6fc"
  },
  {
   "cell_type": "code",
   "execution_count": 113,
   "outputs": [
    {
     "data": {
      "text/plain": "-1.743948891486906"
     },
     "execution_count": 113,
     "metadata": {},
     "output_type": "execute_result"
    }
   ],
   "source": [
    "arr.sum()"
   ],
   "metadata": {
    "collapsed": false,
    "ExecuteTime": {
     "end_time": "2023-08-14T01:00:31.829692Z",
     "start_time": "2023-08-14T01:00:31.775834100Z"
    }
   },
   "id": "1748c40c313797bf"
  },
  {
   "cell_type": "markdown",
   "source": [
    "mean이나, sum 같은 함수는 선택적으로 axis 인수를 받아서, 해당 axis에 대한 통계를 계산하고 한 차수 낮은 배열을 반환한다.\n",
    "- arr.mean(axis=1)은 모든 열의 평균을 구하라는 의미이다.\n",
    "- arr.sum(axis=0)은 행의 합을 구하라는 의미이다."
   ],
   "metadata": {
    "collapsed": false
   },
   "id": "745f1e6a055562bc"
  },
  {
   "cell_type": "code",
   "execution_count": 114,
   "outputs": [
    {
     "data": {
      "text/plain": "array([ 0.10899104,  0.3280763 ,  0.16502112, -0.66719934, -0.37087634])"
     },
     "execution_count": 114,
     "metadata": {},
     "output_type": "execute_result"
    }
   ],
   "source": [
    "arr.mean(axis=1)"
   ],
   "metadata": {
    "collapsed": false,
    "ExecuteTime": {
     "end_time": "2023-08-14T01:00:31.830689500Z",
     "start_time": "2023-08-14T01:00:31.792788600Z"
    }
   },
   "id": "5bc8cf36e9f90aea"
  },
  {
   "cell_type": "code",
   "execution_count": 115,
   "outputs": [
    {
     "data": {
      "text/plain": "array([-1.62923076,  1.03990647, -0.33436331, -0.82026129])"
     },
     "execution_count": 115,
     "metadata": {},
     "output_type": "execute_result"
    }
   ],
   "source": [
    "arr.sum(axis=0)"
   ],
   "metadata": {
    "collapsed": false,
    "ExecuteTime": {
     "end_time": "2023-08-14T01:00:31.932441Z",
     "start_time": "2023-08-14T01:00:31.807749800Z"
    }
   },
   "id": "2d4b1a2f31131967"
  },
  {
   "cell_type": "markdown",
   "source": [
    "cumsum과 cumport 메서드는 중간 계산을 담고 있는 배열을 반환한다."
   ],
   "metadata": {
    "collapsed": false
   },
   "id": "72f181b4d3e78cbe"
  },
  {
   "cell_type": "code",
   "execution_count": 116,
   "outputs": [
    {
     "data": {
      "text/plain": "array([ 0,  1,  3,  6, 10, 15, 21, 28])"
     },
     "execution_count": 116,
     "metadata": {},
     "output_type": "execute_result"
    }
   ],
   "source": [
    "arr = np.array([0, 1, 2, 3, 4, 5, 6, 7])\n",
    "arr.cumsum()"
   ],
   "metadata": {
    "collapsed": false,
    "ExecuteTime": {
     "end_time": "2023-08-14T01:00:31.997168500Z",
     "start_time": "2023-08-14T01:00:31.825702500Z"
    }
   },
   "id": "e6a10b2e0fe75d7b"
  },
  {
   "cell_type": "markdown",
   "source": [
    "다차원 배열에서 cumsum 같은 누적 함수는 크기가 동일한 배열을 반환한다.\n",
    "- 하지만, 축을 지정해 부분적으로 계산하면 낮은 차수의 슬라이스를 반환한다."
   ],
   "metadata": {
    "collapsed": false
   },
   "id": "865314904993df22"
  },
  {
   "cell_type": "code",
   "execution_count": 117,
   "outputs": [
    {
     "data": {
      "text/plain": "array([[0, 1, 2],\n       [3, 4, 5],\n       [6, 7, 8]])"
     },
     "execution_count": 117,
     "metadata": {},
     "output_type": "execute_result"
    }
   ],
   "source": [
    "arr = np.array([[0, 1, 2], [3, 4, 5], [6, 7, 8]])\n",
    "arr"
   ],
   "metadata": {
    "collapsed": false,
    "ExecuteTime": {
     "end_time": "2023-08-14T01:00:32.132712600Z",
     "start_time": "2023-08-14T01:00:31.840662600Z"
    }
   },
   "id": "c5d786313ce2d05d"
  },
  {
   "cell_type": "markdown",
   "source": [
    "arr.cumsum(axis=0)은 행의 누적합을 구한다.\n",
    "arr.cumsum(axis=1)은 열의 누적합을 구한다."
   ],
   "metadata": {
    "collapsed": false
   },
   "id": "bc0656f3499f3cd0"
  },
  {
   "cell_type": "code",
   "execution_count": 118,
   "outputs": [
    {
     "data": {
      "text/plain": "array([[ 0,  1,  2],\n       [ 3,  5,  7],\n       [ 9, 12, 15]])"
     },
     "execution_count": 118,
     "metadata": {},
     "output_type": "execute_result"
    }
   ],
   "source": [
    "arr.cumsum(axis=0)"
   ],
   "metadata": {
    "collapsed": false,
    "ExecuteTime": {
     "end_time": "2023-08-14T01:03:32.777803900Z",
     "start_time": "2023-08-14T01:03:32.624923500Z"
    }
   },
   "id": "fcc668127db64070"
  },
  {
   "cell_type": "code",
   "execution_count": 119,
   "outputs": [
    {
     "data": {
      "text/plain": "array([[ 0,  1,  3],\n       [ 3,  7, 12],\n       [ 6, 13, 21]])"
     },
     "execution_count": 119,
     "metadata": {},
     "output_type": "execute_result"
    }
   ],
   "source": [
    "arr.cumsum(axis=1)"
   ],
   "metadata": {
    "collapsed": false,
    "ExecuteTime": {
     "end_time": "2023-08-14T01:04:06.206254400Z",
     "start_time": "2023-08-14T01:04:06.096385500Z"
    }
   },
   "id": "da75013cea0f06ca"
  },
  {
   "cell_type": "markdown",
   "source": [
    "기본 계열 통계 메서드\n",
    "- sum\n",
    "    - 배열 전체 혹은 특정 축에 대한 모든 원소의 합을 계산한다.\n",
    "        - 크기가 0인 배열의 sum 결과는 0이다. \n",
    "- mean\n",
    "    - 산술 평균을 구한다.\n",
    "    - 크기가 0인 배열의 mean 결과는 NaN이다. \n",
    "- std, var\n",
    "    - 각각 표준편차(std)와 분산(var)을 구한다.\n",
    "    - 선택적으로 자유도를 줄 수 있으며, 분모의 기본값은 n이다. \n",
    "- min, max\n",
    "    - 최솟값과 최댓값 \n",
    "- argmin, argmax\n",
    "    - 최소 원소의 색인값과 최대 원소의 색인값이다. \n",
    "- cumsum\n",
    "    - 0부터 시작하는 각 원소의 누적합이다. \n",
    "- cumprod\n",
    "    - 1부터 시작하는 각 원소의 누적곱이다. \n"
   ],
   "metadata": {
    "collapsed": false
   },
   "id": "32a9a19a6e0bfc26"
  },
  {
   "cell_type": "markdown",
   "source": [
    "불리언 배열을 위한 메서드\n",
    "- 이전 메서드의 불리언 값은 1(True) 또는 0(False)으로 강제된다.\n",
    "- 따라서 불리언 배열에서 sum 메서드를 실행하면 True인 원소의 개수가 반환된다. "
   ],
   "metadata": {
    "collapsed": false
   },
   "id": "151687071fda754f"
  },
  {
   "cell_type": "code",
   "execution_count": 120,
   "outputs": [
    {
     "data": {
      "text/plain": "48"
     },
     "execution_count": 120,
     "metadata": {},
     "output_type": "execute_result"
    }
   ],
   "source": [
    "arr = rng.standard_normal(100)\n",
    "(arr > 0).sum() # 양수인 값의 개수"
   ],
   "metadata": {
    "collapsed": false,
    "ExecuteTime": {
     "end_time": "2023-08-14T01:18:42.994079100Z",
     "start_time": "2023-08-14T01:18:42.884755Z"
    }
   },
   "id": "df12e5dcf7f722af"
  },
  {
   "cell_type": "code",
   "execution_count": 121,
   "outputs": [
    {
     "data": {
      "text/plain": "52"
     },
     "execution_count": 121,
     "metadata": {},
     "output_type": "execute_result"
    }
   ],
   "source": [
    "(arr <= 0).sum() # 0 이하인 값의 개수"
   ],
   "metadata": {
    "collapsed": false,
    "ExecuteTime": {
     "end_time": "2023-08-14T01:18:56.968311500Z",
     "start_time": "2023-08-14T01:18:56.874108900Z"
    }
   },
   "id": "919ae3ccc5b98b44"
  },
  {
   "cell_type": "markdown",
   "source": [
    "any 메서드는 하나 이상의 True 값이 있는지 검사한다.\n",
    "all 메서드는 모든 원소가 True 인지 검사한다."
   ],
   "metadata": {
    "collapsed": false
   },
   "id": "634caf52429a103d"
  },
  {
   "cell_type": "code",
   "execution_count": 122,
   "outputs": [
    {
     "data": {
      "text/plain": "True"
     },
     "execution_count": 122,
     "metadata": {},
     "output_type": "execute_result"
    }
   ],
   "source": [
    "bools = np.array([False, False, True, False])\n",
    "bools.any()"
   ],
   "metadata": {
    "collapsed": false,
    "ExecuteTime": {
     "end_time": "2023-08-14T01:20:37.116386900Z",
     "start_time": "2023-08-14T01:20:36.943188300Z"
    }
   },
   "id": "9bd7d80503694732"
  },
  {
   "cell_type": "code",
   "execution_count": 123,
   "outputs": [
    {
     "data": {
      "text/plain": "False"
     },
     "execution_count": 123,
     "metadata": {},
     "output_type": "execute_result"
    }
   ],
   "source": [
    "bools.all()"
   ],
   "metadata": {
    "collapsed": false,
    "ExecuteTime": {
     "end_time": "2023-08-14T01:20:41.071189500Z",
     "start_time": "2023-08-14T01:20:40.976964900Z"
    }
   },
   "id": "d2257ddfd4330a71"
  },
  {
   "cell_type": "markdown",
   "source": [
    "위 메서드는 불리언 배열이 아니어도 작동하며, 0이 아닌 원소는 모두 True로 간주한다."
   ],
   "metadata": {
    "collapsed": false
   },
   "id": "7e8a41a37dbca6db"
  },
  {
   "cell_type": "markdown",
   "source": [
    "정렬\n",
    "- 파이썬의 내장 리스트 자료형처럼, 넘파이 배열 역시 sort 메서드를 이용하여 정렬할 수 있다."
   ],
   "metadata": {
    "collapsed": false
   },
   "id": "b4f01a661884daf3"
  },
  {
   "cell_type": "code",
   "execution_count": 124,
   "outputs": [
    {
     "data": {
      "text/plain": "array([ 0.07726066, -0.68391322, -0.72083767,  1.12062282, -0.05481416,\n       -0.08241372])"
     },
     "execution_count": 124,
     "metadata": {},
     "output_type": "execute_result"
    }
   ],
   "source": [
    "arr = rng.standard_normal(6)\n",
    "arr"
   ],
   "metadata": {
    "collapsed": false,
    "ExecuteTime": {
     "end_time": "2023-08-14T01:27:16.826721500Z",
     "start_time": "2023-08-14T01:27:16.716845100Z"
    }
   },
   "id": "2c6f71b8c27645c7"
  },
  {
   "cell_type": "code",
   "execution_count": 126,
   "outputs": [],
   "source": [
    "arr.sort()"
   ],
   "metadata": {
    "collapsed": false,
    "ExecuteTime": {
     "end_time": "2023-08-14T01:27:29.208580200Z",
     "start_time": "2023-08-14T01:27:29.065864300Z"
    }
   },
   "id": "c32ad9b57184b97b"
  },
  {
   "cell_type": "code",
   "execution_count": 127,
   "outputs": [
    {
     "data": {
      "text/plain": "array([-0.72083767, -0.68391322, -0.08241372, -0.05481416,  0.07726066,\n        1.12062282])"
     },
     "execution_count": 127,
     "metadata": {},
     "output_type": "execute_result"
    }
   ],
   "source": [
    "arr"
   ],
   "metadata": {
    "collapsed": false,
    "ExecuteTime": {
     "end_time": "2023-08-14T01:27:33.515175200Z",
     "start_time": "2023-08-14T01:27:33.405341600Z"
    }
   },
   "id": "222bcfcb541b5e32"
  },
  {
   "cell_type": "markdown",
   "source": [
    "다차원 배열을 정렬할 때는 sort 메서드에 넘긴 축의 값에 따라 1차원 부분을 정렬한다."
   ],
   "metadata": {
    "collapsed": false
   },
   "id": "c649f2706ab10efd"
  },
  {
   "cell_type": "code",
   "execution_count": 128,
   "outputs": [
    {
     "data": {
      "text/plain": "array([[ 0.9359865 ,  1.23853712,  1.27279553],\n       [ 0.40589222, -0.05032522,  0.28931754],\n       [ 0.17930568,  1.39748056,  0.29204679],\n       [ 0.63840567, -0.02788771,  1.37105185],\n       [-2.05280763,  0.38050908,  0.75539067]])"
     },
     "execution_count": 128,
     "metadata": {},
     "output_type": "execute_result"
    }
   ],
   "source": [
    "arr = rng.standard_normal((5, 3))\n",
    "arr"
   ],
   "metadata": {
    "collapsed": false,
    "ExecuteTime": {
     "end_time": "2023-08-14T01:28:22.122187100Z",
     "start_time": "2023-08-14T01:28:22.012318300Z"
    }
   },
   "id": "bd8f3a70c25b3115"
  },
  {
   "cell_type": "markdown",
   "source": [
    "arr.sort(axis=0) 구문은 각 열의 값을 정렬한다.\n",
    "arr.sort(axis=1) 구문은 각 행의 값을 정렬한다."
   ],
   "metadata": {
    "collapsed": false
   },
   "id": "5f450bcdaaa7bfde"
  },
  {
   "cell_type": "code",
   "execution_count": 129,
   "outputs": [],
   "source": [
    "arr.sort(axis=0)"
   ],
   "metadata": {
    "collapsed": false,
    "ExecuteTime": {
     "end_time": "2023-08-14T01:29:00.511876300Z",
     "start_time": "2023-08-14T01:29:00.402034500Z"
    }
   },
   "id": "7d9fac71fa41e5d7"
  },
  {
   "cell_type": "code",
   "execution_count": 130,
   "outputs": [
    {
     "data": {
      "text/plain": "array([[-2.05280763, -0.05032522,  0.28931754],\n       [ 0.17930568, -0.02788771,  0.29204679],\n       [ 0.40589222,  0.38050908,  0.75539067],\n       [ 0.63840567,  1.23853712,  1.27279553],\n       [ 0.9359865 ,  1.39748056,  1.37105185]])"
     },
     "execution_count": 130,
     "metadata": {},
     "output_type": "execute_result"
    }
   ],
   "source": [
    "arr"
   ],
   "metadata": {
    "collapsed": false,
    "ExecuteTime": {
     "end_time": "2023-08-14T01:29:03.490054700Z",
     "start_time": "2023-08-14T01:29:03.380182100Z"
    }
   },
   "id": "81d0016c5e16892e"
  },
  {
   "cell_type": "code",
   "execution_count": 131,
   "outputs": [],
   "source": [
    "arr.sort(axis=1)"
   ],
   "metadata": {
    "collapsed": false,
    "ExecuteTime": {
     "end_time": "2023-08-14T01:29:16.035264300Z",
     "start_time": "2023-08-14T01:29:15.925403Z"
    }
   },
   "id": "9a8fdf98269414fd"
  },
  {
   "cell_type": "code",
   "execution_count": 132,
   "outputs": [
    {
     "data": {
      "text/plain": "array([[-2.05280763, -0.05032522,  0.28931754],\n       [-0.02788771,  0.17930568,  0.29204679],\n       [ 0.38050908,  0.40589222,  0.75539067],\n       [ 0.63840567,  1.23853712,  1.27279553],\n       [ 0.9359865 ,  1.37105185,  1.39748056]])"
     },
     "execution_count": 132,
     "metadata": {},
     "output_type": "execute_result"
    }
   ],
   "source": [
    "arr"
   ],
   "metadata": {
    "collapsed": false,
    "ExecuteTime": {
     "end_time": "2023-08-14T01:29:17.418775800Z",
     "start_time": "2023-08-14T01:29:17.308919300Z"
    }
   },
   "id": "275d1ccfda76461f"
  },
  {
   "cell_type": "markdown",
   "source": [
    "numpy.sort 메서드는 배열을 직접 변경하지 않고, 정렬된 결과를 가지고 있는 복사본을 반환한다.\n",
    "- 파이썬의 내장 함수의 sorted와 유사하다."
   ],
   "metadata": {
    "collapsed": false
   },
   "id": "83a41d1be805fbda"
  },
  {
   "cell_type": "code",
   "execution_count": 133,
   "outputs": [
    {
     "data": {
      "text/plain": "array([-10,  -3,   0,   1,   5,   7])"
     },
     "execution_count": 133,
     "metadata": {},
     "output_type": "execute_result"
    }
   ],
   "source": [
    "arr2 = np.array([5, -10, 7, 1, 0, -3])\n",
    "\n",
    "sorted_arr2 = np.sort(arr2)\n",
    "\n",
    "sorted_arr2"
   ],
   "metadata": {
    "collapsed": false,
    "ExecuteTime": {
     "end_time": "2023-08-14T01:34:24.253905700Z",
     "start_time": "2023-08-14T01:34:24.081081100Z"
    }
   },
   "id": "7de0d8299a83addf"
  },
  {
   "cell_type": "markdown",
   "source": [
    "집합 관련 함수\n",
    "- 넘파이는 1차원 ndarray를 위한 몇 가지 기본적인 집합 연산을 제공한다.\n",
    "- 가장 자주 사용하는 함수는 배열 내에서 중복된 원소를 제거하고 남은 원소를 정렬된 형태로 반환하는 numpy.unique다."
   ],
   "metadata": {
    "collapsed": false
   },
   "id": "576e3e4a522a0150"
  },
  {
   "cell_type": "code",
   "execution_count": 134,
   "outputs": [
    {
     "data": {
      "text/plain": "array(['Bob', 'Joe', 'Will'], dtype='<U4')"
     },
     "execution_count": 134,
     "metadata": {},
     "output_type": "execute_result"
    }
   ],
   "source": [
    "names = np.array([\"Bob\", \"Will\", \"Joe\", \"Bob\", \"Will\", \"Joe\", \"Joe\"])\n",
    "\n",
    "np.unique(names)"
   ],
   "metadata": {
    "collapsed": false,
    "ExecuteTime": {
     "end_time": "2023-08-14T01:36:04.514569800Z",
     "start_time": "2023-08-14T01:36:04.404734300Z"
    }
   },
   "id": "3d63671b462e8074"
  },
  {
   "cell_type": "code",
   "execution_count": 135,
   "outputs": [
    {
     "data": {
      "text/plain": "array([1, 2, 3, 4])"
     },
     "execution_count": 135,
     "metadata": {},
     "output_type": "execute_result"
    }
   ],
   "source": [
    "ints = np.array([3, 3, 3, 2, 2, 1, 1, 4, 4])\n",
    "np.unique(ints)"
   ],
   "metadata": {
    "collapsed": false,
    "ExecuteTime": {
     "end_time": "2023-08-14T01:36:34.161828Z",
     "start_time": "2023-08-14T01:36:34.036310900Z"
    }
   },
   "id": "d1f288755775c6b1"
  },
  {
   "cell_type": "code",
   "execution_count": 136,
   "outputs": [
    {
     "data": {
      "text/plain": "['Bob', 'Joe', 'Will']"
     },
     "execution_count": 136,
     "metadata": {},
     "output_type": "execute_result"
    }
   ],
   "source": [
    "# numpy.unique를 순수 파이썬으로 구현하면 다음과 같다.\n",
    "sorted(set(names))"
   ],
   "metadata": {
    "collapsed": false,
    "ExecuteTime": {
     "end_time": "2023-08-14T01:36:58.570566600Z",
     "start_time": "2023-08-14T01:36:58.398249400Z"
    }
   },
   "id": "8dd330c29b37bf7f"
  },
  {
   "cell_type": "markdown",
   "source": [
    "numpy.in1d는 인수로 받은 배열의 원소가 기존 배열에 포함되는지 검사한 후 불리언 배열로 반환한다."
   ],
   "metadata": {
    "collapsed": false
   },
   "id": "13cb869b26e258fa"
  },
  {
   "cell_type": "code",
   "execution_count": 137,
   "outputs": [
    {
     "data": {
      "text/plain": "array([ True, False, False,  True,  True, False,  True])"
     },
     "execution_count": 137,
     "metadata": {},
     "output_type": "execute_result"
    }
   ],
   "source": [
    "values = np.array([6, 0, 0, 3, 2, 5, 6])\n",
    "\n",
    "np.in1d(values, [2, 3, 6])"
   ],
   "metadata": {
    "collapsed": false,
    "ExecuteTime": {
     "end_time": "2023-08-14T01:41:03.928539900Z",
     "start_time": "2023-08-14T01:41:03.818737200Z"
    }
   },
   "id": "293633d23126f582"
  },
  {
   "cell_type": "markdown",
   "source": [
    "배열 집합 연산\n",
    "- unique(x)\n",
    "    - 배열 x에서 중복된 원소를 제거한 뒤 정렬해 반환한다. \n",
    "- intersect1d(x, y)\n",
    "    - 배열 x와 y에 공통적으로 존재하는 원소를 정렬해 반환한다. \n",
    "- union1d(x, y)\n",
    "    - 두 배열의 합집합을 반환한다. \n",
    "- in1d(x, y)\n",
    "    - x의 원소가 y의 원소에 포함되는지 나타내는 불리언 배열을 반환한다. \n",
    "- setdiff1d(x, y)\n",
    "    - x와 y의 차집합을 반환한다. \n",
    "- setxor1d(x, y)\n",
    "    - 한 배열에는 포함되지만, 두 배열 모두에는 포함되지 않는 원소들의 집합인 대칭차집합을 반환한다. "
   ],
   "metadata": {
    "collapsed": false
   },
   "id": "aee4dbde30ed5d94"
  },
  {
   "cell_type": "markdown",
   "source": [
    "배열 데이터의 파일 입출력\n",
    "- 넘파이는 디스크에서 텍스트나 바이너리 형식의 데이터를 불러오거나 저장할 수 있따.\n",
    "- 대부분의 텍스트나 표 형식으 데이터는 판다스나 다른 도구로 처리하는 편을 선호하므로, 여기서는 넘파이의 내장 이진 형식에 대해서만 살펴본다."
   ],
   "metadata": {
    "collapsed": false
   },
   "id": "57ec2090f7f62cec"
  },
  {
   "cell_type": "markdown",
   "source": [
    "numpy.save와 numpy.load는 배열 데이터를 효과적으로 디스크에 저장하고 불러오는 함수이다.\n",
    "배열은 기본적으로 압축되지 않은 원시(raw) 바이너리 형식의 .npy 파일로 저장된다."
   ],
   "metadata": {
    "collapsed": false
   },
   "id": "3276ab42058db297"
  },
  {
   "cell_type": "code",
   "execution_count": 138,
   "outputs": [],
   "source": [
    "arr = np.arange(10)\n",
    "\n",
    "np.save(\"some_array\", arr)"
   ],
   "metadata": {
    "collapsed": false,
    "ExecuteTime": {
     "end_time": "2023-08-14T01:47:05.760956900Z",
     "start_time": "2023-08-14T01:47:05.651072100Z"
    }
   },
   "id": "b76f40c6ff3133a8"
  },
  {
   "cell_type": "markdown",
   "source": [
    "저장되는 파일 경로가 .npy로 끝나지 않으면, 자동적으로 확장자가 추가된다.\n",
    "- 이렇게 저장된 배열은 numpy.load를 이용하여 불러온다."
   ],
   "metadata": {
    "collapsed": false
   },
   "id": "8116cd18f63820eb"
  },
  {
   "cell_type": "code",
   "execution_count": 139,
   "outputs": [
    {
     "data": {
      "text/plain": "array([0, 1, 2, 3, 4, 5, 6, 7, 8, 9])"
     },
     "execution_count": 139,
     "metadata": {},
     "output_type": "execute_result"
    }
   ],
   "source": [
    "np.load(\"some_array.npy\")"
   ],
   "metadata": {
    "collapsed": false,
    "ExecuteTime": {
     "end_time": "2023-08-14T01:47:42.304897300Z",
     "start_time": "2023-08-14T01:47:42.195037300Z"
    }
   },
   "id": "19ce68c3a172d6e8"
  },
  {
   "cell_type": "markdown",
   "source": [
    "numpy.savez 함수를 이용하면, 여러 개의 배열을 압축된 형식으로 저장할 수 있다.\n",
    "저장하려는 배열은 키워들 인수 형태로 전달한다."
   ],
   "metadata": {
    "collapsed": false
   },
   "id": "d54d5075e243536f"
  },
  {
   "cell_type": "code",
   "execution_count": 141,
   "outputs": [],
   "source": [
    "np.savez(\"array_archive.npz\", a = arr, b = arr)"
   ],
   "metadata": {
    "collapsed": false,
    "ExecuteTime": {
     "end_time": "2023-08-14T01:48:40.417679900Z",
     "start_time": "2023-08-14T01:48:40.370337600Z"
    }
   },
   "id": "80ce42f6ec2db3b4"
  },
  {
   "cell_type": "markdown",
   "source": [
    ".npz 파일을 불러올 때는 각 배열을 필요할 때 불러올 수 있도록 딕셔너리 형태의 객체에 저장한다."
   ],
   "metadata": {
    "collapsed": false
   },
   "id": "379e5506701f9a6c"
  },
  {
   "cell_type": "code",
   "execution_count": 142,
   "outputs": [
    {
     "data": {
      "text/plain": "array([0, 1, 2, 3, 4, 5, 6, 7, 8, 9])"
     },
     "execution_count": 142,
     "metadata": {},
     "output_type": "execute_result"
    }
   ],
   "source": [
    "arch = np.load(\"array_archive.npz\")\n",
    "\n",
    "arch[\"b\"]"
   ],
   "metadata": {
    "collapsed": false,
    "ExecuteTime": {
     "end_time": "2023-08-14T01:49:21.646179900Z",
     "start_time": "2023-08-14T01:49:21.411281900Z"
    }
   },
   "id": "deeb4ac74d07d7d2"
  },
  {
   "cell_type": "markdown",
   "source": [
    "압축이 잘되는 형식의 데이터라면, numpy.savez_compressed를 사용한다."
   ],
   "metadata": {
    "collapsed": false
   },
   "id": "ec474d920d458b06"
  },
  {
   "cell_type": "code",
   "execution_count": 143,
   "outputs": [],
   "source": [
    "np.savez_compressed(\"arrays_compressed.npz\", a = arr, b = arr)"
   ],
   "metadata": {
    "collapsed": false,
    "ExecuteTime": {
     "end_time": "2023-08-14T01:50:10.352952600Z",
     "start_time": "2023-08-14T01:50:10.227048500Z"
    }
   },
   "id": "23d1355cd9385809"
  },
  {
   "cell_type": "markdown",
   "source": [
    "선형대수\n",
    "- 행렬의 곱셈, 분할, 행렬식, 정사각행렬 계산 같은 선형대수는 배열을 다루는 라이브러리에서 매우 중요한 부분이다.\n",
    "- 두 개의 2차원 배열을 * 연산자로 곱하면 행렬 곱셈이 아니라 대응하는 각각의 원소의 곱을 계산한다.\n",
    "    - 즉, 배열 메서드이자 넘파이 네임스페이스 안에 있는 함수인 dot 함수를 이용하여 행렬 곱셈을 계산해야 한다. "
   ],
   "metadata": {
    "collapsed": false
   },
   "id": "58a519e5908e0b6b"
  },
  {
   "cell_type": "code",
   "execution_count": 144,
   "outputs": [
    {
     "data": {
      "text/plain": "array([[1., 2., 3.],\n       [4., 5., 6.]])"
     },
     "execution_count": 144,
     "metadata": {},
     "output_type": "execute_result"
    }
   ],
   "source": [
    "x = np.array([[1., 2., 3.], [4., 5., 6.]])\n",
    "y = np.array([[6., 23.], [-1, 7], [8, 9]])\n",
    "x"
   ],
   "metadata": {
    "collapsed": false,
    "ExecuteTime": {
     "end_time": "2023-08-14T01:54:09.161553Z",
     "start_time": "2023-08-14T01:54:09.037189700Z"
    }
   },
   "id": "630de217c69da400"
  },
  {
   "cell_type": "code",
   "execution_count": 145,
   "outputs": [
    {
     "data": {
      "text/plain": "array([[ 6., 23.],\n       [-1.,  7.],\n       [ 8.,  9.]])"
     },
     "execution_count": 145,
     "metadata": {},
     "output_type": "execute_result"
    }
   ],
   "source": [
    "y"
   ],
   "metadata": {
    "collapsed": false,
    "ExecuteTime": {
     "end_time": "2023-08-14T01:54:10.534532300Z",
     "start_time": "2023-08-14T01:54:10.362268Z"
    }
   },
   "id": "d6c8fa106580e9af"
  },
  {
   "cell_type": "code",
   "execution_count": 146,
   "outputs": [
    {
     "data": {
      "text/plain": "array([[ 28.,  64.],\n       [ 67., 181.]])"
     },
     "execution_count": 146,
     "metadata": {},
     "output_type": "execute_result"
    }
   ],
   "source": [
    "x.dot(y)"
   ],
   "metadata": {
    "collapsed": false,
    "ExecuteTime": {
     "end_time": "2023-08-14T01:54:19.977014700Z",
     "start_time": "2023-08-14T01:54:19.851185100Z"
    }
   },
   "id": "4ce9219c2f803cb4"
  },
  {
   "cell_type": "markdown",
   "source": [
    "x.dot(y)는 np.dot(x, y)와 동일하다."
   ],
   "metadata": {
    "collapsed": false
   },
   "id": "eff8a0c05d68f7e"
  },
  {
   "cell_type": "code",
   "execution_count": 147,
   "outputs": [
    {
     "data": {
      "text/plain": "array([[ 28.,  64.],\n       [ 67., 181.]])"
     },
     "execution_count": 147,
     "metadata": {},
     "output_type": "execute_result"
    }
   ],
   "source": [
    "np.dot(x, y)"
   ],
   "metadata": {
    "collapsed": false,
    "ExecuteTime": {
     "end_time": "2023-08-14T01:55:07.649348800Z",
     "start_time": "2023-08-14T01:55:07.505847100Z"
    }
   },
   "id": "151f3695d7591099"
  },
  {
   "cell_type": "markdown",
   "source": [
    "2차원 배열과 곱셈이 가능한 크기의 1차원 배열 간의 행렬 곱셈의 결과는 1차원 배열이다."
   ],
   "metadata": {
    "collapsed": false
   },
   "id": "705b5edb39d235b4"
  },
  {
   "cell_type": "code",
   "execution_count": 148,
   "outputs": [
    {
     "data": {
      "text/plain": "array([ 6., 15.])"
     },
     "execution_count": 148,
     "metadata": {},
     "output_type": "execute_result"
    }
   ],
   "source": [
    "x @ np.ones(3)"
   ],
   "metadata": {
    "collapsed": false,
    "ExecuteTime": {
     "end_time": "2023-08-14T01:55:38.582875900Z",
     "start_time": "2023-08-14T01:55:38.457497900Z"
    }
   },
   "id": "54e02086df73dba0"
  },
  {
   "cell_type": "markdown",
   "source": [
    "numpy.linalg는 행렬의 분할과 역행렬, 행렬식과 같은 것을 포함한다."
   ],
   "metadata": {
    "collapsed": false
   },
   "id": "ce45bc90286576f7"
  },
  {
   "cell_type": "code",
   "execution_count": 149,
   "outputs": [
    {
     "data": {
      "text/plain": "array([[  3.49932285,   2.84436268,   3.59557002, -16.55376878,\n          4.47325573],\n       [  2.84436268,   2.56666253,   2.9001963 , -13.57742   ,\n          3.76776505],\n       [  3.59557002,   2.9001963 ,   4.48232906, -18.34525499,\n          4.70660032],\n       [-16.55376878, -13.57742   , -18.34525499,  84.01018808,\n        -22.04840478],\n       [  4.47325573,   3.76776505,   4.70660032, -22.04840478,\n          6.05251342]])"
     },
     "execution_count": 149,
     "metadata": {},
     "output_type": "execute_result"
    }
   ],
   "source": [
    "from numpy.linalg import inv, qr\n",
    "\n",
    "X = rng.standard_normal((5, 5))\n",
    "mat = X.T @ X\n",
    "\n",
    "inv(mat)"
   ],
   "metadata": {
    "collapsed": false,
    "ExecuteTime": {
     "end_time": "2023-08-14T01:57:56.866698800Z",
     "start_time": "2023-08-14T01:57:56.709966100Z"
    }
   },
   "id": "b096e79f468e1df7"
  },
  {
   "cell_type": "code",
   "execution_count": 150,
   "outputs": [
    {
     "data": {
      "text/plain": "array([[ 1.00000000e+00,  1.75067964e-15, -2.80207584e-15,\n         9.86737630e-16, -1.66652414e-15],\n       [ 1.65521536e-17,  1.00000000e+00,  6.05561798e-16,\n         4.15196154e-15, -2.52119478e-15],\n       [ 3.86407015e-16, -7.07260933e-16,  1.00000000e+00,\n        -6.75452839e-15, -1.18024337e-15],\n       [ 1.82488652e-16, -1.79488644e-17,  2.45759362e-16,\n         1.00000000e+00, -8.63545476e-16],\n       [ 3.45446591e-16, -1.23954858e-15,  2.22757702e-15,\n        -1.91689727e-14,  1.00000000e+00]])"
     },
     "execution_count": 150,
     "metadata": {},
     "output_type": "execute_result"
    }
   ],
   "source": [
    "mat @ inv(mat)"
   ],
   "metadata": {
    "collapsed": false,
    "ExecuteTime": {
     "end_time": "2023-08-14T01:58:03.440462Z",
     "start_time": "2023-08-14T01:58:03.236435900Z"
    }
   },
   "id": "4776f765248acb95"
  },
  {
   "cell_type": "markdown",
   "source": [
    "X.T.dot(X)는 X의 전치행렬(X.T)과 X의 곱을 계산한다."
   ],
   "metadata": {
    "collapsed": false
   },
   "id": "56368af9f555084f"
  },
  {
   "cell_type": "markdown",
   "source": [
    "자주 사용하는 선형대수 함수(numpy.linalg 함수)\n",
    "- diag\n",
    "    - 정사각 행렬의 대각/비대각 원소를 1차원 배열로 반환하거나, 1차원 배열을 대각선 원소로 하고 나머지는 0으로 채운 단위행렬을 반환한다. \n",
    "- dot\n",
    "    - 행렬 곱셈 \n",
    "- trace\n",
    "    - 행렬의 대각선 원소의 합을 계산한다. \n",
    "- det\n",
    "    - 행렬식을 계산한다. \n",
    "- eig\n",
    "    - 정사각 행렬의 고윳값과 고유 벡터를 계산한다. \n",
    "- inv\n",
    "    - 정사각 행렬의 역행렬을 계산한다. \n",
    "- pinv\n",
    "    - 정사각 행렬의 무어-펜로즈 유사역행렬을 구한다. \n",
    "- qr\n",
    "    - QR 분해를 계산한다. \n",
    "- svd\n",
    "    - 특잇값 분해(SVD)를 계산한다. \n",
    "- solve\n",
    "    - A가 정사각 행렬일 때 Ax = b를 만족하는 x를 구한다. \n",
    "- lstsq\n",
    "    - Ax = b를 만족하는 최소제곱해를 구한다. "
   ],
   "metadata": {
    "collapsed": false
   },
   "id": "2c0391c48b154679"
  },
  {
   "cell_type": "markdown",
   "source": [
    "계단 오르내리기 예제\n",
    "- 계단 오르내리기 예제는 배열 연산의 활용법을 보여주는 간단한 애플리케이션이다.\n",
    "- 계단의 중간에서 같은 확률로 한 칸을 올라가거나(+1) 내려간다고(-1) 가정한다.\n",
    "- 순수 파이썬으로 내장 random 모듈을 사용하여 계단 오르내리기를 1000번 수행하는 코드는 다음과 같이 작성한다."
   ],
   "metadata": {
    "collapsed": false
   },
   "id": "a2394e6c65265841"
  },
  {
   "cell_type": "code",
   "execution_count": 151,
   "outputs": [],
   "source": [
    "# 블록 시작\n",
    "import random\n",
    "position = 0\n",
    "walk = [position]\n",
    "nsteps = 1000\n",
    "for _ in range(nsteps):\n",
    "    step = 1 if random.randint(0, 1) else -1\n",
    "    position += step\n",
    "    walk.append(position)\n",
    "# 블록 끝"
   ],
   "metadata": {
    "collapsed": false,
    "ExecuteTime": {
     "end_time": "2023-08-14T02:05:07.215028700Z",
     "start_time": "2023-08-14T02:05:07.060417400Z"
    }
   },
   "id": "2cbf4889ea4e9d2f"
  },
  {
   "cell_type": "code",
   "execution_count": 152,
   "outputs": [
    {
     "data": {
      "text/plain": "[<matplotlib.lines.Line2D at 0x26dc2d9a190>]"
     },
     "execution_count": 152,
     "metadata": {},
     "output_type": "execute_result"
    },
    {
     "data": {
      "text/plain": "<Figure size 640x480 with 1 Axes>",
      "image/png": "[encoded data removed]"
     },
     "metadata": {},
     "output_type": "display_data"
    }
   ],
   "source": [
    "# 처음 100회 동안의 계단 오르내리기 현황을 그래프로 표현한다.\n",
    "plt.plot(walk[:100])"
   ],
   "metadata": {
    "collapsed": false,
    "ExecuteTime": {
     "end_time": "2023-08-14T02:05:27.909846400Z",
     "start_time": "2023-08-14T02:05:27.737054900Z"
    }
   },
   "id": "e4a27138ff50e1b9"
  },
  {
   "cell_type": "markdown",
   "source": [
    "walk는 계단을 오르거나(+1) 내려간(-1) 값의 누적 합이며, 배열 표현식으로 나타낼 수 있다.\n",
    "numpy.random 모듈을 사용하여 한 번에 1000번 수행한 결과를 저장하고, 누적 합을 계산한다."
   ],
   "metadata": {
    "collapsed": false
   },
   "id": "7cacd4dbe97601b9"
  },
  {
   "cell_type": "code",
   "execution_count": 153,
   "outputs": [],
   "source": [
    "nsteps = 1000\n",
    "\n",
    "rng = np.random.default_rng(seed = 12345) # 새로운 난수 생성기\n",
    "\n",
    "draws = rng.integers(0, 2, size=nsteps)\n",
    "\n",
    "steps = np.where(draws == 0, 1, -1)\n",
    "\n",
    "walk = steps.cumsum()"
   ],
   "metadata": {
    "collapsed": false,
    "ExecuteTime": {
     "end_time": "2023-08-14T02:09:16.736590900Z",
     "start_time": "2023-08-14T02:09:16.595496500Z"
    }
   },
   "id": "2b9366cf2ae8ba30"
  },
  {
   "cell_type": "markdown",
   "source": [
    "이 시점에서부터 계단을 오르내린 위치의 최솟값, 최댓값 같은 간단한 통계를 구할 수 있다."
   ],
   "metadata": {
    "collapsed": false
   },
   "id": "7bff83230cc0c264"
  },
  {
   "cell_type": "code",
   "execution_count": 154,
   "outputs": [
    {
     "data": {
      "text/plain": "-8"
     },
     "execution_count": 154,
     "metadata": {},
     "output_type": "execute_result"
    }
   ],
   "source": [
    "walk.min()"
   ],
   "metadata": {
    "collapsed": false,
    "ExecuteTime": {
     "end_time": "2023-08-14T02:09:40.873582100Z",
     "start_time": "2023-08-14T02:09:40.748131300Z"
    }
   },
   "id": "9d3274b58d4b8b93"
  },
  {
   "cell_type": "code",
   "execution_count": 155,
   "outputs": [
    {
     "data": {
      "text/plain": "50"
     },
     "execution_count": 155,
     "metadata": {},
     "output_type": "execute_result"
    }
   ],
   "source": [
    "walk.max()"
   ],
   "metadata": {
    "collapsed": false,
    "ExecuteTime": {
     "end_time": "2023-08-14T02:09:46.214500200Z",
     "start_time": "2023-08-14T02:09:46.088074800Z"
    }
   },
   "id": "f46a210c9ad40c94"
  },
  {
   "cell_type": "markdown",
   "source": [
    "계단에서 특정 위치에 도달하기까지의 시간과 같은 좀 더 복잡한 통계도 구할 수 있다.\n",
    "- 계단의 처음 위치에서 최초로 10칸 떨어지기까지 얼마나 걸렸는지 확인한다.\n",
    "    - np.abs(walk) >= 10을 통해 처음 위치에서 10칸 이상 떨어진 시점을 알려주는 불리언 배열을 얻을 수 있다.\n",
    "        - 하지만, 최초의 10 혹은 -10인 시점을 구해야 하므로, 불리언 배열에서 최댓값의 첫 번째 색인을 반홚나는 argmax를 사용한다.(True가 최댓값이다.) "
   ],
   "metadata": {
    "collapsed": false
   },
   "id": "6b0de9912eebc182"
  },
  {
   "cell_type": "code",
   "execution_count": 156,
   "outputs": [
    {
     "data": {
      "text/plain": "155"
     },
     "execution_count": 156,
     "metadata": {},
     "output_type": "execute_result"
    }
   ],
   "source": [
    "(np.abs(walk) >= 10).argmax() # argmax는 배열 전체를 모두 확인하기에 효과적인 방법은 아니다."
   ],
   "metadata": {
    "collapsed": false,
    "ExecuteTime": {
     "end_time": "2023-08-14T02:11:27.889396700Z",
     "start_time": "2023-08-14T02:11:27.747752200Z"
    }
   },
   "id": "84590ddc86f17621"
  },
  {
   "cell_type": "markdown",
   "source": [
    "한 번에 많이 시뮬레이션하기\n",
    "- 계단 오르내리기를 대략 5000회 정도 상당히 많은 횟수로 시뮬레이션해야 한다면, 앞선 코드를 조금만 수정해서 해결할 수 있다.\n",
    "- numpy.random 함수에 크기가 2인 튜플을 넘기면 2차원 배열이 생성되고, 각 열에서 누적 합을 구해서 5000회의 시뮬레이션을 한 번에 처리할 수 있다."
   ],
   "metadata": {
    "collapsed": false
   },
   "id": "664b388647195c0"
  },
  {
   "cell_type": "code",
   "execution_count": 157,
   "outputs": [
    {
     "data": {
      "text/plain": "array([[  1,   2,   3, ...,  22,  23,  22],\n       [  1,   0,  -1, ..., -50, -49, -48],\n       [  1,   2,   3, ...,  50,  49,  48],\n       ...,\n       [ -1,  -2,  -1, ..., -10,  -9, -10],\n       [ -1,  -2,  -3, ...,   8,   9,   8],\n       [ -1,   0,   1, ...,  -4,  -3,  -2]])"
     },
     "execution_count": 157,
     "metadata": {},
     "output_type": "execute_result"
    }
   ],
   "source": [
    "nwalks = 5000\n",
    "nsteps = 1000\n",
    "draws = rng.integers(0, 2, size=(nwalks, nsteps)) # 0 또는 1\n",
    "steps = np.where(draws > 0, 1, -1)\n",
    "walks = steps.cumsum(axis=1)\n",
    "walks"
   ],
   "metadata": {
    "collapsed": false,
    "ExecuteTime": {
     "end_time": "2023-08-14T02:16:41.261011400Z",
     "start_time": "2023-08-14T02:16:41.073029Z"
    }
   },
   "id": "886f5d0eec636270"
  },
  {
   "cell_type": "code",
   "execution_count": 158,
   "outputs": [
    {
     "data": {
      "text/plain": "114"
     },
     "execution_count": 158,
     "metadata": {},
     "output_type": "execute_result"
    }
   ],
   "source": [
    "walks.max()"
   ],
   "metadata": {
    "collapsed": false,
    "ExecuteTime": {
     "end_time": "2023-08-14T02:16:48.431440400Z",
     "start_time": "2023-08-14T02:16:48.211797100Z"
    }
   },
   "id": "1b82b0cd42f0a0c0"
  },
  {
   "cell_type": "code",
   "execution_count": 159,
   "outputs": [
    {
     "data": {
      "text/plain": "-120"
     },
     "execution_count": 159,
     "metadata": {},
     "output_type": "execute_result"
    }
   ],
   "source": [
    "walks.min()"
   ],
   "metadata": {
    "collapsed": false,
    "ExecuteTime": {
     "end_time": "2023-08-14T02:16:51.509579300Z",
     "start_time": "2023-08-14T02:16:51.321188900Z"
    }
   },
   "id": "9f80f4636e5dd324"
  },
  {
   "cell_type": "markdown",
   "source": [
    "이 데이터에서 누적 합이 30 혹은 -30이 되는 최소 시점을 계산한다.\n",
    "- 5000회의 시뮬레이션 중 모든 경우가 30에 도달하지 않기 때문에 약간 까다롭지만, any 메서드를 이용해서 해결할 수 있다."
   ],
   "metadata": {
    "collapsed": false
   },
   "id": "e7815255636ec27f"
  },
  {
   "cell_type": "code",
   "execution_count": 160,
   "outputs": [
    {
     "data": {
      "text/plain": "array([False,  True,  True, ...,  True, False,  True])"
     },
     "execution_count": 160,
     "metadata": {},
     "output_type": "execute_result"
    }
   ],
   "source": [
    "hits30 = (np.abs(walks) >= 30).any(axis=1)\n",
    "hits30"
   ],
   "metadata": {
    "collapsed": false,
    "ExecuteTime": {
     "end_time": "2023-08-14T02:18:08.666546900Z",
     "start_time": "2023-08-14T02:18:08.539780200Z"
    }
   },
   "id": "165e82e3bec57c02"
  },
  {
   "cell_type": "code",
   "execution_count": 161,
   "outputs": [
    {
     "data": {
      "text/plain": "3395"
     },
     "execution_count": 161,
     "metadata": {},
     "output_type": "execute_result"
    }
   ],
   "source": [
    "hits30.sum() # 누적 합이 30 혹은 -30이 되는 횟수"
   ],
   "metadata": {
    "collapsed": false,
    "ExecuteTime": {
     "end_time": "2023-08-14T02:18:21.571419800Z",
     "start_time": "2023-08-14T02:18:21.414178800Z"
    }
   },
   "id": "71b184cff841d64e"
  },
  {
   "cell_type": "markdown",
   "source": [
    "불리언 배열을 사용해서, walks에서 행을 선택하고 절댓값이 30이 넘는 경우에 대해 축 1의 argmax 값을 구하면 처음 위치에서 30칸 이상 멀어지는 최소 횟수를 구할 수 있다."
   ],
   "metadata": {
    "collapsed": false
   },
   "id": "442eb275f5daf7fb"
  },
  {
   "cell_type": "code",
   "execution_count": 162,
   "outputs": [
    {
     "data": {
      "text/plain": "array([201, 491, 283, ..., 219, 259, 541], dtype=int64)"
     },
     "execution_count": 162,
     "metadata": {},
     "output_type": "execute_result"
    }
   ],
   "source": [
    "crossing_times = (np.abs(walks[hits30]) >= 30).argmax(axis = 1)\n",
    "crossing_times"
   ],
   "metadata": {
    "collapsed": false,
    "ExecuteTime": {
     "end_time": "2023-08-14T02:20:30.981499300Z",
     "start_time": "2023-08-14T02:20:30.853143Z"
    }
   },
   "id": "31ff026dba67fb8b"
  },
  {
   "cell_type": "markdown",
   "source": [
    "평균 최소 누적 합을 계산한다."
   ],
   "metadata": {
    "collapsed": false
   },
   "id": "958bca25374ecb1b"
  },
  {
   "cell_type": "code",
   "execution_count": 163,
   "outputs": [
    {
     "data": {
      "text/plain": "500.5699558173785"
     },
     "execution_count": 163,
     "metadata": {},
     "output_type": "execute_result"
    }
   ],
   "source": [
    "crossing_times.mean()"
   ],
   "metadata": {
    "collapsed": false,
    "ExecuteTime": {
     "end_time": "2023-08-14T02:20:53.895672200Z",
     "start_time": "2023-08-14T02:20:53.739041900Z"
    }
   },
   "id": "a91a7c21d15bd8c0"
  },
  {
   "cell_type": "markdown",
   "source": [
    "다른 분포를 사용해서 여러 가지 시도를 할 수 있다.\n",
    "- standard_normal 함수에 표준편차와 평균값을 넣어 정규분포에서 표본을 추출하는 것처럼 다른 난수 생성 함수를 사용하기만 하면 된다."
   ],
   "metadata": {
    "collapsed": false
   },
   "id": "d50adcbbed66863e"
  },
  {
   "cell_type": "code",
   "execution_count": 164,
   "outputs": [],
   "source": [
    "draws = 0.25 * rng.standard_normal((nwalks, nsteps))"
   ],
   "metadata": {
    "collapsed": false,
    "ExecuteTime": {
     "end_time": "2023-08-14T02:21:56.400218Z",
     "start_time": "2023-08-14T02:21:56.165736800Z"
    }
   },
   "id": "42bf63038d0dd184"
  },
  {
   "cell_type": "code",
   "execution_count": 165,
   "outputs": [
    {
     "data": {
      "text/plain": "array([[-0.04049737, -0.72203015, -0.25774138, ...,  0.42355751,\n        -0.67303006, -0.41968018],\n       [-0.04384188, -0.35375729,  0.27860676, ...,  0.01100176,\n        -0.00527772, -0.08297507],\n       [ 0.35227417, -0.35383118,  0.09818312, ..., -0.02725589,\n        -0.04007853, -0.09849703],\n       ...,\n       [ 0.22455202, -0.12520673, -0.02435565, ..., -0.19437209,\n        -0.20666754,  0.16508676],\n       [-0.04544783,  0.2540093 , -0.298138  , ...,  0.467853  ,\n         0.03529931, -0.18926481],\n       [-0.10790612, -0.11282332, -0.05788132, ...,  0.11783678,\n        -0.03052947,  0.18259634]])"
     },
     "execution_count": 165,
     "metadata": {},
     "output_type": "execute_result"
    }
   ],
   "source": [
    "draws"
   ],
   "metadata": {
    "collapsed": false,
    "ExecuteTime": {
     "end_time": "2023-08-14T02:21:59.884088300Z",
     "start_time": "2023-08-14T02:21:59.711273200Z"
    }
   },
   "id": "ec94428a4817d8a8"
  },
  {
   "cell_type": "markdown",
   "source": [
    "이런 벡터화 접근은 nwalks * nsteps 원소가 있는 배열을 만들어야 하고, 대량의 시뮬레이션을 수행하기 위해 메모리가 많이 필요할 수 있다.\n",
    "만일 메모리가 제한적이라면 다른 접근법이 필요하다."
   ],
   "metadata": {
    "collapsed": false
   },
   "id": "3a286f02b52eb580"
  },
  {
   "cell_type": "code",
   "execution_count": null,
   "outputs": [],
   "source": [],
   "metadata": {
    "collapsed": false
   },
   "id": "ad08fe9b07da99"
  }
 ],
 "metadata": {
  "kernelspec": {
   "display_name": "Python 3",
   "language": "python",
   "name": "python3"
  },
  "language_info": {
   "codemirror_mode": {
    "name": "ipython",
    "version": 2
   },
   "file_extension": ".py",
   "mimetype": "text/x-python",
   "name": "python",
   "nbconvert_exporter": "python",
   "pygments_lexer": "ipython2",
   "version": "2.7.6"
  }
 },
 "nbformat": 4,
 "nbformat_minor": 5
}

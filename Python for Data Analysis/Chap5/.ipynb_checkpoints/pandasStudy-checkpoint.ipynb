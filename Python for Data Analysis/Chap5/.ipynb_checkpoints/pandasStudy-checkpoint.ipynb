{
 "cells": [
  {
   "cell_type": "code",
   "execution_count": 2,
   "id": "initial_id",
   "metadata": {
    "ExecuteTime": {
     "end_time": "2023-08-14T04:52:15.512084300Z",
     "start_time": "2023-08-14T04:52:15.480814200Z"
    },
    "collapsed": true
   },
   "outputs": [],
   "source": [
    "import numpy as np\n",
    "import pandas as pd\n",
    "\n",
    "from pandas import Series, DataFrame"
   ]
  },
  {
   "cell_type": "markdown",
   "id": "18d4cfd6ed41d971",
   "metadata": {},
   "source": [
    "Series\n",
    "- 일련의 객체를 담을 수 있는 1차원 배열 같은 자료구조이다.\n",
    "    - 어떤 넘파이 자료형이라도 담을 수 있다. \n",
    "- 그리고, 색인(index)이라고 하는 배열의 데이터와 연관된 이름을 갖는다.\n",
    "- 가장 간단한 Series 객체는 배열 데이터로부터 생성할 수 있다."
   ]
  },
  {
   "cell_type": "code",
   "execution_count": null,
   "id": "48eae6c10a29ed50",
   "metadata": {},
   "outputs": [],
   "source": []
  }
 ],
 "metadata": {
  "kernelspec": {
   "display_name": "Python 3 (ipykernel)",
   "language": "python",
   "name": "python3"
  },
  "language_info": {
   "codemirror_mode": {
    "name": "ipython",
    "version": 3
   },
   "file_extension": ".py",
   "mimetype": "text/x-python",
   "name": "python",
   "nbconvert_exporter": "python",
   "pygments_lexer": "ipython3",
   "version": "3.9.13"
  }
 },
 "nbformat": 4,
 "nbformat_minor": 5
}

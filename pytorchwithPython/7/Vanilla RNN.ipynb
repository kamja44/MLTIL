{
 "cells": [
  {
   "cell_type": "code",
   "execution_count": null,
   "metadata": {},
   "outputs": [],
   "source": [
    "# 주가 데이터를 이용하여 실습한다.\n",
    "# 데이터는 일자, 시작가, 고가, 저가, 종가, 보정된 종가, 거래량으로 구성된 csv 파일이다.\n",
    "import numpy as np\n",
    "import pandas as pd\n",
    "from sklearn.preprocessing import MinMaxScaler\n",
    "import torch\n",
    "import torch.nn as nn\n",
    "import torch.optim as optim\n",
    "import matplotlib.pyplot as plt\n",
    "\n",
    "df = pd.read_csv(\"../../../Pytorch_sample/data/kospi.csv\")\n",
    "scaler = MinMaxScaler()\n",
    "df[[\"Open\", \"High\", \"Low\", \"Close\", \"Volume\"]] = scaler.fit_transform(df[[\"Open\", \"High\", \"Low\", \"Close\", \"Volume\"]])"
   ]
  },
  {
   "cell_type": "code",
   "execution_count": null,
   "metadata": {},
   "outputs": [],
   "source": [
    "df.head()"
   ]
  },
  {
   "cell_type": "code",
   "execution_count": null,
   "metadata": {},
   "outputs": [],
   "source": [
    "# 텐서 데이터 만들기\n",
    "device = torch.device(\"cuda:0\" if torch.cuda.is_available() else \"cpu\")\n",
    "X = df[[\"Open\", \"High\", \"Low\", \"Volume\"]].values\n",
    "y = df[\"Close\"].values\n",
    "# 데이터프레임에서는 values를 이용하여 넘파이 배열로 만들 수 있다."
   ]
  },
  {
   "cell_type": "code",
   "execution_count": null,
   "metadata": {},
   "outputs": [],
   "source": [
    "def seq_data(x, y, sequence_length):\n",
    "    x_seq = []\n",
    "    y_seq = []\n",
    "    for i in range(len(x) - sequence_length):\n",
    "        x_seq.append(x[i:i+sequence_length]) # a[2:6] -> 2, 3, 4, 5\n",
    "        y_seq.append(y[i+sequence_length])\n",
    "    \n",
    "    return torch.FloatTensor(x_seq).to(device), torch.FloatTensor(y_seq).to(device).view(-1, 1)\n",
    "# view(-1, 1)을 사용하여 2차원으로 바꿔주는 이유는 MSE Loss가 기본적으로 2차원 타깃 데이터를 받기 때문이다."
   ]
  },
  {
   "cell_type": "code",
   "execution_count": null,
   "metadata": {},
   "outputs": [],
   "source": [
    "split = 200\n",
    "sequence_length = 5 # sequence_length를 5로 설정하여 431-5 즉, 426개의 길이를 갖는 시퀀스 데이터를 만든다.\n",
    "x_seq, y_seq = seq_data(X, y, sequence_length)\n",
    "x_train_seq = x_seq[:split]\n",
    "y_train_seq = y_seq[:split]\n",
    "x_test_seq = x_seq[split:]\n",
    "y_test_seq = y_seq[split:]\n",
    "print(x_train_seq.size(), y_train_seq.size())\n",
    "print(x_test_seq.size(), y_test_seq.size())"
   ]
  },
  {
   "cell_type": "code",
   "execution_count": null,
   "metadata": {},
   "outputs": [],
   "source": [
    "train = torch.utils.data.TensorDataset(x_train_seq, y_train_seq)\n",
    "test = torch.utils.data.TensorDataset(x_test_seq, y_test_seq)\n",
    "batch_size = 20\n",
    "train_loader = torch.utils.data.DataLoader(dataset=train, batch_size=batch_size, shuffle=True)\n",
    "test_loader = torch.utils.data.DataLoader(dataset=test, batch_size=batch_size)"
   ]
  },
  {
   "cell_type": "code",
   "execution_count": null,
   "metadata": {},
   "outputs": [],
   "source": [
    "# RNN 구축에 필요한 하이퍼 파라미터 정의하기\n",
    "input_size = x_seq.size(2) # 입력 변수의 개수\n",
    "num_layers = 2 # 은닉 층의 개수\n",
    "hidden_size = 8 # 은닉 상태를 저장하는 벡터의 크기"
   ]
  },
  {
   "cell_type": "code",
   "execution_count": null,
   "metadata": {},
   "outputs": [],
   "source": [
    "# RNN 구축하기\n",
    "class VanillaRNN(nn.Module):\n",
    "    def __init__(self, input_size, hidden_size, sequence_length, num_layers, device):\n",
    "        super(VanillaRNN, self).__init__()\n",
    "        self.device = device\n",
    "        self.hidden_size = hidden_size\n",
    "        self.num_layers = num_layers\n",
    "        self.rnn = nn.RNN(input_size, hidden_size, num_layers, batch_first = True)\n",
    "        self.fc = nn.Sequential(nn.Linear(hidden_size*sequence_length, 1), nn.Sigmoid())\n",
    "\n",
    "    def forward(self, x):\n",
    "        h0 = torch.zeros(self.num_layers, x.size()[0], self.hidden_size).to(self.device)\n",
    "        out, _ = self.rnn(x, h0)\n",
    "        out = out.reshape(out.shape[0], -1)\n",
    "        out = self.fc(out)\n",
    "        return out"
   ]
  },
  {
   "cell_type": "code",
   "execution_count": null,
   "metadata": {},
   "outputs": [],
   "source": [
    "# RNN 모델 불러오기\n",
    "model = VanillaRNN(input_size=input_size,\n",
    "                   hidden_size=hidden_size,\n",
    "                   sequence_length=sequence_length,\n",
    "                   num_layers=num_layers,\n",
    "                   device=device\n",
    "                   ).to(device)\n"
   ]
  },
  {
   "cell_type": "code",
   "execution_count": null,
   "metadata": {},
   "outputs": [],
   "source": [
    "# 손실 함수 및 최적화 방법 정의\n",
    "# 회귀문제이기에, MSE 손실 함수를 사용한다.\n",
    "# 학습은 301회, 최적화 방법은 Adam을 사용한다.\n",
    "criterion = nn.MSELoss()\n",
    "num_epochs = 301\n",
    "optimizer = optim.Adam(model.parameters(), lr=1e-3)"
   ]
  },
  {
   "cell_type": "code",
   "execution_count": null,
   "metadata": {},
   "outputs": [],
   "source": [
    "# 모델 학습하기\n",
    "loss_graph = []\n",
    "n = len(train_loader)\n",
    "\n",
    "for epoch in range(num_epochs):\n",
    "    running_loss = 0.0\n",
    "\n",
    "    for data in  train_loader:\n",
    "\n",
    "        seq, target = data # 배치 데이터\n",
    "        out = model(seq) # 출력값 산출\n",
    "        loss = criterion(out, target) # 손실 함수 계산\n",
    "\n",
    "        optimizer.zero_grad()\n",
    "        loss.backward()\n",
    "        optimizer.step() # 최적화\n",
    "        running_loss += loss.item()\n",
    "\n",
    "    loss_graph.append(running_loss / n)\n",
    "    if epoch % 100 == 0:\n",
    "        print(\"[epoch:%d] loss:%.4f\" %(epoch, running_loss/n))"
   ]
  },
  {
   "cell_type": "code",
   "execution_count": null,
   "metadata": {},
   "outputs": [],
   "source": [
    "# 학습 손실 함수값 그리기\n",
    "plt.figure(figsize=(20, 10))\n",
    "plt.plot(loss_graph)\n",
    "plt.show()"
   ]
  },
  {
   "cell_type": "code",
   "execution_count": null,
   "metadata": {},
   "outputs": [],
   "source": [
    "# 주가 그리기\n",
    "concatdata = torch.utils.data.ConcatDataset([train, test])\n",
    "data_loader = torch.utils.data.DataLoader(dataset=concatdata, batch_size=100)\n",
    "with torch.no_grad():\n",
    "    pred = []\n",
    "    model.eval()\n",
    "    for data in data_loader:\n",
    "        seq, target = data\n",
    "        out = model(seq)\n",
    "        pred += out.cpu().tolist()\n",
    "\n",
    "plt.figure(figsize=(20, 10))\n",
    "plt.plot(np.ones(100) * len(train), np.linspace(0, 1, 100), \"--\", linewidth = 0.6)\n",
    "plt.plot(df[\"Close\"][sequence_length:].values,\"--\")\n",
    "plt.plot(pred, \"b\", linewidth = 0.6)\n",
    "plt.legend([\"train boundary\", \"actual\", \"prediction\"])\n",
    "plt.show()"
   ]
  },
  {
   "cell_type": "code",
   "execution_count": null,
   "metadata": {},
   "outputs": [],
   "source": [
    "class LSTM(nn.Module):\n",
    "    def __init__(self, input_size, hidden_size, sequence_length, num_layers, device):\n",
    "        super(LSTM, self).__init__()\n",
    "        self.device = device\n",
    "        self.hidden_size = hidden_size\n",
    "        self.num_layers=  num_layers\n",
    "        self.lstm = nn.LSTM(input_size, hidden_size, num_layers, batch_first = True)\n",
    "        self.fc = nn.Linear(hidden_size*sequence_length, 1)\n",
    "\n",
    "    def forward(self, x):\n",
    "        h0 = torch.zeros(self.num_layers, x.size()[0], self.hidden_size).to(self.device)\n",
    "        c0 = torch.zeros(self.num_layers, x.size()[0], self.hidden_size).to(self.device)\n",
    "        out, _ = self.lstm(x, (h0, c0))\n",
    "        out = out.reshape(out.shape[0], -1)\n",
    "        out = self.fc(out)\n",
    "        return out"
   ]
  },
  {
   "cell_type": "code",
   "execution_count": null,
   "metadata": {},
   "outputs": [],
   "source": [
    "# LSTM 모델 불러오기\n",
    "model = LSTM(input_size=input_size,\n",
    "                   hidden_size=hidden_size,\n",
    "                   sequence_length=sequence_length,\n",
    "                   num_layers=num_layers,\n",
    "                   device=device\n",
    "                   ).to(device)"
   ]
  },
  {
   "cell_type": "code",
   "execution_count": null,
   "metadata": {},
   "outputs": [],
   "source": [
    "# 손실 함수 및 최적화 방법 정의\n",
    "# 회귀문제이기에, MSE 손실 함수를 사용한다.\n",
    "# 학습은 301회, 최적화 방법은 Adam을 사용한다.\n",
    "criterion = nn.MSELoss()\n",
    "num_epochs = 301\n",
    "optimizer = optim.Adam(model.parameters(), lr=1e-3)"
   ]
  },
  {
   "cell_type": "code",
   "execution_count": null,
   "metadata": {},
   "outputs": [],
   "source": [
    "# 모델 학습하기\n",
    "loss_graph = []\n",
    "n = len(train_loader)\n",
    "\n",
    "for epoch in range(num_epochs):\n",
    "    running_loss = 0.0\n",
    "\n",
    "    for data in  train_loader:\n",
    "\n",
    "        seq, target = data # 배치 데이터\n",
    "        out = model(seq) # 출력값 산출\n",
    "        loss = criterion(out, target) # 손실 함수 계산\n",
    "\n",
    "        optimizer.zero_grad()\n",
    "        loss.backward()\n",
    "        optimizer.step() # 최적화\n",
    "        running_loss += loss.item()\n",
    "\n",
    "    loss_graph.append(running_loss / n)\n",
    "    if epoch % 100 == 0:\n",
    "        print(\"[epoch:%d] loss:%.4f\" %(epoch, running_loss/n))"
   ]
  },
  {
   "cell_type": "code",
   "execution_count": null,
   "metadata": {},
   "outputs": [],
   "source": [
    "# 주가 그리기\n",
    "concatdata = torch.utils.data.ConcatDataset([train, test])\n",
    "data_loader = torch.utils.data.DataLoader(dataset=concatdata, batch_size=100)\n",
    "with torch.no_grad():\n",
    "    pred = []\n",
    "    model.eval()\n",
    "    for data in data_loader:\n",
    "        seq, target = data\n",
    "        out = model(seq)\n",
    "        pred += out.cpu().tolist()\n",
    "\n",
    "plt.figure(figsize=(20, 10))\n",
    "plt.plot(np.ones(100) * len(train), np.linspace(0, 1, 100), \"--\", linewidth = 0.6)\n",
    "plt.plot(df[\"Close\"][sequence_length:].values,\"--\")\n",
    "plt.plot(pred, \"b\", linewidth = 0.6)\n",
    "plt.legend([\"train boundary\", \"actual\", \"prediction\"])\n",
    "plt.show()"
   ]
  },
  {
   "cell_type": "code",
   "execution_count": null,
   "metadata": {},
   "outputs": [],
   "source": [
    "# GRU 모델 구축\n",
    "class GRU(nn.Module):\n",
    "    def __init__(self, input_size, hidden_size, sequence_length, num_layers, device):\n",
    "        super(GRU, self).__init__()\n",
    "        self.device = device\n",
    "        self.hidden_size = hidden_size\n",
    "        self.num_layers = num_layers\n",
    "        self.gru = nn.GRU(input_size, hidden_size, num_layers, batch_first = True)\n",
    "        self.fc = nn.Linear(hidden_size * sequence_length, 1)\n",
    "\n",
    "    def forward(self, x):\n",
    "        h0 = torch.zeros(self.num_layers, x.size(0), self.hidden_size).to(self.device)\n",
    "        out, _ = self.gru(x, h0)\n",
    "        out = out.reshape(out.shape[0], -1)\n",
    "        out = self.fc(out)\n",
    "        return out"
   ]
  },
  {
   "cell_type": "code",
   "execution_count": null,
   "metadata": {},
   "outputs": [],
   "source": [
    "# GRU 모델 불러오기\n",
    "model = GRU(input_size=input_size,\n",
    "                   hidden_size=hidden_size,\n",
    "                   sequence_length=sequence_length,\n",
    "                   num_layers=num_layers,\n",
    "                   device=device\n",
    "                   ).to(device)"
   ]
  },
  {
   "cell_type": "code",
   "execution_count": null,
   "metadata": {},
   "outputs": [],
   "source": [
    "# 손실 함수 및 최적화 방법 정의\n",
    "# 회귀문제이기에, MSE 손실 함수를 사용한다.\n",
    "# 학습은 301회, 최적화 방법은 Adam을 사용한다.\n",
    "criterion = nn.MSELoss()\n",
    "num_epochs = 301\n",
    "optimizer = optim.Adam(model.parameters(), lr=1e-3)"
   ]
  },
  {
   "cell_type": "code",
   "execution_count": null,
   "metadata": {},
   "outputs": [],
   "source": [
    "# 모델 학습하기\n",
    "loss_graph = []\n",
    "n = len(train_loader)\n",
    "\n",
    "for epoch in range(num_epochs):\n",
    "    running_loss = 0.0\n",
    "\n",
    "    for data in  train_loader:\n",
    "\n",
    "        seq, target = data # 배치 데이터\n",
    "        out = model(seq) # 출력값 산출\n",
    "        loss = criterion(out, target) # 손실 함수 계산\n",
    "\n",
    "        optimizer.zero_grad()\n",
    "        loss.backward()\n",
    "        optimizer.step() # 최적화\n",
    "        running_loss += loss.item()\n",
    "\n",
    "    loss_graph.append(running_loss / n)\n",
    "    if epoch % 100 == 0:\n",
    "        print(\"[epoch:%d] loss:%.4f\" %(epoch, running_loss/n))"
   ]
  },
  {
   "cell_type": "code",
   "execution_count": null,
   "metadata": {},
   "outputs": [],
   "source": [
    "# 주가 그리기\n",
    "concatdata = torch.utils.data.ConcatDataset([train, test])\n",
    "data_loader = torch.utils.data.DataLoader(dataset=concatdata, batch_size=100)\n",
    "with torch.no_grad():\n",
    "    pred = []\n",
    "    model.eval()\n",
    "    for data in data_loader:\n",
    "        seq, target = data\n",
    "        out = model(seq)\n",
    "        pred += out.cpu().tolist()\n",
    "\n",
    "plt.figure(figsize=(20, 10))\n",
    "plt.plot(np.ones(100) * len(train), np.linspace(0, 1, 100), \"--\", linewidth = 0.6)\n",
    "plt.plot(df[\"Close\"][sequence_length:].values,\"--\")\n",
    "plt.plot(pred, \"b\", linewidth = 0.6)\n",
    "plt.legend([\"train boundary\", \"actual\", \"prediction\"])\n",
    "plt.show()"
   ]
  },
  {
   "cell_type": "code",
   "execution_count": null,
   "metadata": {},
   "outputs": [],
   "source": []
  }
 ],
 "metadata": {
  "kernelspec": {
   "display_name": "study",
   "language": "python",
   "name": "python3"
  },
  "language_info": {
   "codemirror_mode": {
    "name": "ipython",
    "version": 3
   },
   "file_extension": ".py",
   "mimetype": "text/x-python",
   "name": "python",
   "nbconvert_exporter": "python",
   "pygments_lexer": "ipython3",
   "version": "3.11.5"
  }
 },
 "nbformat": 4,
 "nbformat_minor": 2
}

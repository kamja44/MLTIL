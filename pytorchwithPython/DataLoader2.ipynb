{
 "cells": [
  {
   "cell_type": "code",
   "execution_count": null,
   "metadata": {},
   "outputs": [],
   "source": [
    "import torch\n",
    "import torchvision\n",
    "import torchvision.transforms as tr\n",
    "from torch.utils.data import DataLoader, Dataset\n",
    "import numpy as np\n",
    "import matplotlib.pyplot as plt"
   ]
  },
  {
   "cell_type": "code",
   "execution_count": null,
   "metadata": {},
   "outputs": [],
   "source": [
    "class ToTensor:\n",
    "    def __call__(self, sample):\n",
    "        inputs, labels=sample\n",
    "        inputs = torch.FloatTensor(inputs)\n",
    "        inputs = inputs.permute(2, 0, 1)\n",
    "        return inputs, torch.LongTensor(labels)\n"
   ]
  },
  {
   "cell_type": "code",
   "execution_count": null,
   "metadata": {},
   "outputs": [],
   "source": [
    "class CutOut:\n",
    "    def __init__(self, ratio=.5):\n",
    "        self.ratio = int(1/ratio)\n",
    "\n",
    "    def __call__(self, inputs):\n",
    "        active = int(np.random.randint(0, self.ratio, 1))\n",
    "\n",
    "        if active == 0:\n",
    "            _, w, h = inputs.size()\n",
    "            min_len = min(w, h)\n",
    "            box_size = int(min_len // 4)\n",
    "            idx = int(np.random.randint(0, min_len - box_size, 1))\n",
    "            inputs[:, idx:idx + box_size, idx : idx + box_size] = 0\n",
    "\n",
    "        return inputs\n",
    "    \n",
    "transf = tr.Compose([tr.Resize(128), tr.ToTensor(), CutOut()])\n",
    "trainset = torchvision.datasets.CIFAR10(root=\"./data\", train=True, download=True, transform = transf)"
   ]
  },
  {
   "cell_type": "code",
   "execution_count": null,
   "metadata": {},
   "outputs": [],
   "source": [
    "class MyDatasets(Dataset):\n",
    "    def __init__(self, x_data, y_data, transform=None):\n",
    "        self.x_data = x_data\n",
    "        self.y_data = y_data\n",
    "        self.transform = transform\n",
    "        self.len = len(y_data)\n",
    "        self.tensor = ToTensor()\n",
    "    \n",
    "    def __getitem__(self, index):\n",
    "        sample = self.x_data[index], self.y_data[index]\n",
    "\n",
    "        if self.transform:\n",
    "            sample = self.transform(sample)\n",
    "        else:\n",
    "            sample = self.tensor(sample)\n",
    "        return sample\n",
    "    def __len__(self):\n",
    "        return self.len"
   ]
  },
  {
   "cell_type": "code",
   "execution_count": null,
   "metadata": {},
   "outputs": [],
   "source": [
    "train_images = np.random.randint(256, size=(100, 32, 32, 3)) / 255\n",
    "train_labels = np.random.randint(2, size=(100, 1))\n",
    "\n",
    "\n",
    "trans = tr.Compose([ToTensor(), CutOut()])\n",
    "dataset1 = MyDatasets(train_images, train_labels, transform=trans)\n",
    "train_loader1 = DataLoader(dataset1, batch_size=10, shuffle = True)"
   ]
  },
  {
   "cell_type": "code",
   "execution_count": null,
   "metadata": {},
   "outputs": [],
   "source": [
    "import torchvision\n",
    "images1, labels1 = next(iter(train_loader1))\n",
    "\n",
    "def imshow(img):\n",
    "    plt.figure(figsize=(10, 100))\n",
    "    plt.imshow(img.permute(1, 2, 0).nunmpy())\n",
    "    plt.show()\n",
    "\n",
    "imshow(torchvision.utils.make_grid(images1, nrow=10))"
   ]
  },
  {
   "cell_type": "code",
   "execution_count": null,
   "metadata": {},
   "outputs": [],
   "source": [
    "class MyTransform:\n",
    "    def __call__(self, sample):\n",
    "        inputs, labels = sample\n",
    "        inputs = torch.FloatTensor(inputs)\n",
    "        inputs = inputs.permute(2, 0, 1)\n",
    "        labels = torch.FloatTensor(labels)\n",
    "\n",
    "        transf =  tr.Compose([tr.ToPILImage(), tr.Resize(128), tr.ToTensor()])\n",
    "        final_output = transf(inputs)\n",
    "\n",
    "        return final_output, labels"
   ]
  },
  {
   "cell_type": "code",
   "execution_count": null,
   "metadata": {},
   "outputs": [],
   "source": [
    "dataset2 = MyDatasets(train_images, train_labels, transform = MyTransform())\n",
    "train_loader2 = DataLoader(dataset2, batch_size=10, shuffle = True)"
   ]
  },
  {
   "cell_type": "code",
   "execution_count": null,
   "metadata": {},
   "outputs": [],
   "source": [
    "class CutOut:\n",
    "    def __init__(self, ratio=.5):\n",
    "        self.ratio = int(1/ratio)\n",
    "\n",
    "    def __call__(self, inputs):\n",
    "        active = int(np.random.randint(0, self.ratio, 1))\n",
    "\n",
    "        if active == 0:\n",
    "            _, w, h = inputs.size()\n",
    "            min_len = min(w, h)\n",
    "            box_size = int(min_len // 4)\n",
    "            idx = int(np.random.randint(0, min_len - box_size, 1))\n",
    "            inputs[:, idx:idx + box_size, idx : idx + box_size] = 0\n",
    "\n",
    "        return inputs\n",
    "    \n",
    "transf = tr.Compose([tr.Resize(128), tr.ToTensor(), CutOut()])\n",
    "trainset = torchvision.datasets.CIFAR10(root=\"./data\", train=True, download=True, transform = transf)"
   ]
  },
  {
   "cell_type": "code",
   "execution_count": null,
   "metadata": {},
   "outputs": [],
   "source": [
    "trainloader = DataLoader(trainset, batch_size = 10, shuffle = True)\n",
    "images, labels = next(iter(trainloader))\n",
    "imshow(torchvision.utils.make_grid(images, nrow=10))\n",
    "print(images.size())"
   ]
  },
  {
   "cell_type": "code",
   "execution_count": null,
   "metadata": {},
   "outputs": [],
   "source": []
  }
 ],
 "metadata": {
  "kernelspec": {
   "display_name": "study",
   "language": "python",
   "name": "python3"
  },
  "language_info": {
   "codemirror_mode": {
    "name": "ipython",
    "version": 3
   },
   "file_extension": ".py",
   "mimetype": "text/x-python",
   "name": "python",
   "nbconvert_exporter": "python",
   "pygments_lexer": "ipython3",
   "version": "3.11.5"
  }
 },
 "nbformat": 4,
 "nbformat_minor": 2
}

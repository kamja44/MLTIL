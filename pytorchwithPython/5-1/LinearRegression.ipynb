{
 "cells": [
  {
   "cell_type": "code",
   "execution_count": null,
   "metadata": {},
   "outputs": [],
   "source": [
    "import torch\n",
    "import torch.nn as nn\n",
    "from matplotlib import pyplot as plt"
   ]
  },
  {
   "cell_type": "code",
   "execution_count": null,
   "metadata": {},
   "outputs": [],
   "source": [
    "x = torch.FloatTensor(range(5)).unsqueeze(1) # 2차원 데이터로 표현하기 위해 unsqueeze(1)를 사용한다.\n",
    "y = 2*x + torch.rand(5, 1)"
   ]
  },
  {
   "cell_type": "code",
   "execution_count": null,
   "metadata": {},
   "outputs": [],
   "source": [
    "class LinearRegressor(nn.Module):\n",
    "    def __init__(self):\n",
    "        super().__init__()\n",
    "        self.fc = nn.Linear(1, 1, bias = True) # y = wx + b를 nn.Linear(N, M, bias=True)으로 표현할 수 있다.\n",
    "        # N은 입력 변수의 개수이고, M은 출력 변수의 개수이다. bias의 기본값은 True이기에, 별도로 명시하지 않아도 된다.\n",
    "\n",
    "    '''\n",
    "    forward 함수는 실제 입력값이 들어와 연산이 진행되는 순서와 방법을 정한다.\n",
    "    즉, self.fc로 위에서 정의된 선형식을 사용하여 x 값을 받아 y값을 반환한다.\n",
    "    '''\n",
    "    def forward(self, x):\n",
    "        y = self.fc(x)\n",
    "\n",
    "        return y"
   ]
  },
  {
   "cell_type": "code",
   "execution_count": null,
   "metadata": {},
   "outputs": [],
   "source": [
    "model = LinearRegressor()\n",
    "learning_rate = 1e-3\n",
    "criterion = nn.MSELoss() # MSE를 손실함수로 사용한다.\n",
    "optimizer = torch.optim.SGD(model.parameters(), lr = learning_rate) # 최적화 방법에 따라 모델 파라미터를 넣어 줄 때는 model.parameters()라고 입력한다."
   ]
  },
  {
   "cell_type": "code",
   "execution_count": null,
   "metadata": {},
   "outputs": [],
   "source": [
    "loss_stack = []\n",
    "for epoch in range(1001):\n",
    "    optimizer.zero_grad()\n",
    "\n",
    "    y_hat = model(x)\n",
    "    loss = criterion(y_hat, y)\n",
    "\n",
    "    loss.backward()\n",
    "    optimizer.step()\n",
    "    loss_stack.append(loss.item())\n",
    "\n",
    "    if epoch % 100 == 0:\n",
    "        print(f\"Epoch {epoch} : {loss.item()}\")"
   ]
  },
  {
   "cell_type": "code",
   "execution_count": null,
   "metadata": {},
   "outputs": [],
   "source": [
    "with torch.no_grad():\n",
    "    y_hat = model(x)"
   ]
  },
  {
   "cell_type": "code",
   "execution_count": null,
   "metadata": {},
   "outputs": [],
   "source": [
    "plt.figure(figsize=(10, 5))\n",
    "plt.subplot(121)\n",
    "plt.plot(loss_stack)\n",
    "plt.title(\"Loss\")\n",
    "plt.subplot(122)\n",
    "plt.plot(x, y, \".b\")\n",
    "plt.plot(x, y_hat, \"r-\")\n",
    "plt.legend([\"ground truth\", \"prediction\"])\n",
    "plt.title(\"Prediction\")\n",
    "plt.show()"
   ]
  },
  {
   "cell_type": "code",
   "execution_count": null,
   "metadata": {},
   "outputs": [],
   "source": []
  }
 ],
 "metadata": {
  "kernelspec": {
   "display_name": "study",
   "language": "python",
   "name": "python3"
  },
  "language_info": {
   "codemirror_mode": {
    "name": "ipython",
    "version": 3
   },
   "file_extension": ".py",
   "mimetype": "text/x-python",
   "name": "python",
   "nbconvert_exporter": "python",
   "pygments_lexer": "ipython3",
   "version": "3.11.5"
  }
 },
 "nbformat": 4,
 "nbformat_minor": 2
}

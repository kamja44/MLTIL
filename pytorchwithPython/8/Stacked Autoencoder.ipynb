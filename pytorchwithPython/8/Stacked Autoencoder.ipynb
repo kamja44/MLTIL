{
 "cells": [
  {
   "cell_type": "code",
   "execution_count": null,
   "metadata": {},
   "outputs": [],
   "source": [
    "import torch\n",
    "import torchvision\n",
    "from torchvision import transforms\n",
    "import torch.nn.functional as F\n",
    "import torch.nn as nn\n",
    "import torch.optim as optim\n",
    "import numpy as np\n",
    "import matplotlib.pyplot as plt"
   ]
  },
  {
   "cell_type": "code",
   "execution_count": null,
   "metadata": {},
   "outputs": [],
   "source": [
    "# GPU 연산 정의 및 MNIST 데이터 셋 불러오기\n",
    "device = torch.device(\"cuda:0\" if torch.cuda.is_available() else \"cpu\")\n",
    "dataset = torchvision.datasets.MNIST(\"../data/\", download=True, train=True, transform=transforms.ToTensor())\n",
    "trainloader = torch.utils.data.DataLoader(dataset, batch_size=50, shuffle=True)"
   ]
  },
  {
   "cell_type": "code",
   "execution_count": null,
   "metadata": {},
   "outputs": [],
   "source": [
    "# 모델 구축\n",
    "# 기본 오토인코더 모델은 층을 여러 개 쌓았다고 해서 스택 오토인코더라고도 불린다.\n",
    "class Autoencoder(nn.Module):\n",
    "    def __init__(self):\n",
    "        super(Autoencoder, self).__init__()\n",
    "        self.encoder = nn.Sequential(\n",
    "            nn.Linear(784, 128),\n",
    "            nn.ReLU(),\n",
    "            nn.Linear(128, 32),\n",
    "            nn.ReLU(),\n",
    "            nn.Linear(32, 10),\n",
    "            nn.ReLU()\n",
    "        )\n",
    "        self.decoder = nn.Sequential(\n",
    "            nn.Linear(10, 32),\n",
    "            nn.ReLU(),\n",
    "            nn.Linear(32, 128),\n",
    "            nn.ReLU(),\n",
    "            nn.Linear(128, 28*28),\n",
    "            nn.Sigmoid()\n",
    "        )\n",
    "\n",
    "    def forward(self, x):\n",
    "        encoded = self.encoder(x)\n",
    "        decoded = self.decoder(encoded)\n",
    "        return decoded\n"
   ]
  },
  {
   "cell_type": "code",
   "execution_count": null,
   "metadata": {},
   "outputs": [],
   "source": [
    "# 모델, 손실 함수, 최적화 기법 정의하기\n",
    "model = Autoencoder().to(device)\n",
    "criterion = nn.MSELoss()\n",
    "optimizer = optim.Adam(model.parameters(), lr=1e-4)"
   ]
  },
  {
   "cell_type": "code",
   "execution_count": null,
   "metadata": {},
   "outputs": [],
   "source": [
    "# 학습하기\n",
    "for epoch in range(51):\n",
    "    running_loss = 0.0\n",
    "    for data in trainloader:\n",
    "        inputs = data[0].to(device)\n",
    "        optimizer.zero_grad()\n",
    "        outputs = model(inputs.view(-1, 28*28)) # 이미지를 일렬로 펴서 넣어주기 위해 inputs.view(-1, 28*28)을 입력값으로 사용한다.\n",
    "        outputs = outputs.view(-1, 1, 28, 28) # 벡터 형태로 나온 출력값을 다시 정사각형 이미지로 변환하기 위해 outputs.view(-1, 1, 28, 28)을 작성한다.\n",
    "        loss = criterion(inputs, outputs)\n",
    "        loss.backward()\n",
    "        optimizer.step()\n",
    "        running_loss += loss.item()\n",
    "    cost = running_loss / len(trainloader)\n",
    "    print(\"[%d] loss : %.3f\" %(epoch+1, cost))"
   ]
  },
  {
   "cell_type": "code",
   "execution_count": null,
   "metadata": {},
   "outputs": [],
   "source": [
    "# 디노이징 오토인코더\n",
    "# 디노이징 오토인코더는 스택 오토인코더(오토인코더)와 동일하며, 입력 이미지에 가우시안 노이즈만 주입해주면 된다.\n",
    "for epoch in range(101):\n",
    "    running_loss = 0.0\n",
    "    for data in trainloader:\n",
    "        inputs = data[0].to(device)\n",
    "        optimizer.zero_grad()\n",
    "        dirty_inputs = inputs + torch.normal(0, 0.5, size=inputs.size()).to(device)\n",
    "        outputs = model(dirty_inputs.view(-1, 28*28))\n",
    "        outputs = outputs.view(-1, 1, 28, 28)\n",
    "        loss = criterion(inputs, outputs)\n",
    "\n",
    "        loss.backward()\n",
    "        optimizer.step()\n",
    "        running_loss += loss.item()\n",
    "    cost = running_loss / len(trainloader)\n",
    "    print(\"[%d] loss:%.3f\" %(epoch+1, cost))"
   ]
  },
  {
   "cell_type": "code",
   "execution_count": null,
   "metadata": {},
   "outputs": [],
   "source": [
    "# 합성곱 오토인코더\n",
    "# nn.Linaer() 대신 합성곱 층 nn.Conv2d를 사용하는 구조이다.\n",
    "# 즉, 이미지 데이터가 일렬로 펴지지 않고 그대로 들어와 연산이 진행된다.\n",
    "\n",
    "# 피처맵 벡터화\n",
    "class Flatten(torch.nn.Module):\n",
    "    def forward(self, x):\n",
    "        batch_size = x.shape[0]\n",
    "        return x.view(batch_size, -1)"
   ]
  },
  {
   "cell_type": "code",
   "execution_count": null,
   "metadata": {},
   "outputs": [],
   "source": [
    "# 벡터를 사각형 피쳐맵으로 변환\n",
    "class Deflatten(nn.Module):\n",
    "    def __init__(self, k):\n",
    "        super(Deflatten, self).__init__()\n",
    "        self.k = k\n",
    "    \n",
    "    def forward(self, x):\n",
    "        s = x.size()\n",
    "        feature_size = int((s[1] // self.k)**.5)\n",
    "        return x.view(s[0], self.k, feature_size, feature_size)"
   ]
  },
  {
   "cell_type": "code",
   "execution_count": null,
   "metadata": {},
   "outputs": [],
   "source": [
    "# 모델 구축하기\n",
    "class Autoencoder(nn.Module):\n",
    "    def __init__(self):\n",
    "        super(Autoencoder, self).__init__()\n",
    "        k = 16\n",
    "        self.encoder = nn.Sequential(\n",
    "            nn.Conv2d(1, k, 3, stride=2), nn.ReLU(),\n",
    "            nn.Conv2d(k, 2*k, 3, stride=2), nn.ReLU(),\n",
    "            nn.Conv2d(2*k, 4*k, 3, stride=1), nn.ReLU(),\n",
    "            Flatten(), nn.Linear(1024, 10), nn.ReLU()\n",
    "        )\n",
    "\n",
    "        self.decoder = nn.Sequential(\n",
    "            nn.Linear(10, 1024), nn.ReLU(),\n",
    "            Deflatten(4*k),\n",
    "            nn.ConvTranspose2d(4*k, 2*k, 3, stride=1), nn.ReLU(),\n",
    "            nn.ConvTranspose2d(2*k, k, 3, stride=2), nn.ReLU(),\n",
    "            nn.ConvTranspose2d(k, 1, 3, stride=2, output_padding=1), nn.Sigmoid(),\n",
    "        )\n",
    "    \n",
    "    def forward(self, x):\n",
    "        encoded = self.encoder(x)\n",
    "        decoded = self.decoder(encoded)\n",
    "        return decoded"
   ]
  },
  {
   "cell_type": "code",
   "execution_count": null,
   "metadata": {},
   "outputs": [],
   "source": [
    "# 모델, 손실 함수, 최적화 기법 정의하기\n",
    "model = Autoencoder().to(device)\n",
    "criterion = nn.MSELoss()\n",
    "optimizer = optim.Adam(model.parameters(), lr=1e-3)"
   ]
  },
  {
   "cell_type": "code",
   "execution_count": null,
   "metadata": {},
   "outputs": [],
   "source": [
    "# 학습하기\n",
    "# 합성곱 오토인코더는 이미지 처리에 있어서 기본 신경망을 사용하는 오토인코더보다 성능이 뛰어나다.\n",
    "for epoch in range(51):\n",
    "    running_loss = 0.0\n",
    "    for data in trainloader:\n",
    "        inputs = data[0].to(device)\n",
    "        optimizer.zero_grad()\n",
    "        outputs = model(inputs)\n",
    "        loss = criterion(inputs, outputs)\n",
    "        loss.backward()\n",
    "        optimizer.step()\n",
    "        running_loss += loss.item()\n",
    "    \n",
    "    cost = running_loss / len(trainloader)\n",
    "    if epoch % 10 == 0:\n",
    "        print(\"[%d] loss : %.3f\"%(epoch+1, cost))"
   ]
  },
  {
   "cell_type": "code",
   "execution_count": null,
   "metadata": {},
   "outputs": [],
   "source": []
  }
 ],
 "metadata": {
  "kernelspec": {
   "display_name": "study",
   "language": "python",
   "name": "python3"
  },
  "language_info": {
   "codemirror_mode": {
    "name": "ipython",
    "version": 3
   },
   "file_extension": ".py",
   "mimetype": "text/x-python",
   "name": "python",
   "nbconvert_exporter": "python",
   "pygments_lexer": "ipython3",
   "version": "3.11.5"
  }
 },
 "nbformat": 4,
 "nbformat_minor": 2
}

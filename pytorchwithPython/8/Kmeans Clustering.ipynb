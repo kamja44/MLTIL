{
 "cells": [
  {
   "cell_type": "code",
   "execution_count": null,
   "metadata": {},
   "outputs": [],
   "source": [
    "import torch\n",
    "import numpy as np\n",
    "import matplotlib.pyplot as plt\n",
    "from sklearn.datasets import make_circles\n",
    "x, y = make_circles(n_samples=500, noise=0.1)\n",
    "plt.figure(figsize=(9,6))\n",
    "plt.scatter(x[:,0], x[:,1], c=y)\n",
    "plt.show()"
   ]
  },
  {
   "cell_type": "code",
   "execution_count": null,
   "metadata": {},
   "outputs": [],
   "source": [
    "# 텐서 데이터 변환하기\n",
    "x = torch.FloatTensor(x)"
   ]
  },
  {
   "cell_type": "code",
   "execution_count": null,
   "metadata": {},
   "outputs": [],
   "source": [
    "# k-평균 알고리즘\n",
    "def l2distance(a, b): # 거리함수를 정의한다. L2 거리 함수로 두 점들의 거리를 측정한다.\n",
    "    return torch.argmin(torch.sum((a-b)**2, dim=1), dim=0)\n",
    "\n",
    "def kmeans(x, num_clusters=2, max_iteration=5):\n",
    "    device = torch.device(\"cuda:0\" if torch.cuda.is_available() else \"cpu\")\n",
    "    x = x.to(device)\n",
    "    centroids = torch.rand(num_clusters, x.size(1)).to(device)\n",
    "    for update in range(max_iteration):\n",
    "        y_assign = []\n",
    "        for m in range(x.size(0)):\n",
    "            h = x[m].expand(num_clusters, -1)\n",
    "            assign = l2distance(h, centroids)\n",
    "            y_assign.append(assign.item())\n",
    "\n",
    "        y_assign = np.array(y_assign)\n",
    "        if update != max_iteration-1:\n",
    "            for i in range(num_clusters):\n",
    "                idx = np.where(y_assign == i)[0]\n",
    "                centroids[i] = torch.mean(x[idx], dim=0)\n",
    "    return y_assign, centroids"
   ]
  },
  {
   "cell_type": "code",
   "execution_count": null,
   "metadata": {},
   "outputs": [],
   "source": [
    "# 알고리즘 실행 및 그래프 그리기\n",
    "y_pred, centroids = kmeans(x, 2)\n",
    "plt.figure(figsize=(9,6))\n",
    "plt.scatter(x[:,0], x[:,1], c=y_pred)\n",
    "plt.plot(centroids[:, 0], centroids[:,1], \"*\", markersize=30)\n",
    "plt.show()"
   ]
  },
  {
   "cell_type": "code",
   "execution_count": null,
   "metadata": {},
   "outputs": [],
   "source": []
  }
 ],
 "metadata": {
  "kernelspec": {
   "display_name": "study",
   "language": "python",
   "name": "python3"
  },
  "language_info": {
   "codemirror_mode": {
    "name": "ipython",
    "version": 3
   },
   "file_extension": ".py",
   "mimetype": "text/x-python",
   "name": "python",
   "nbconvert_exporter": "python",
   "pygments_lexer": "ipython3",
   "version": "3.11.5"
  }
 },
 "nbformat": 4,
 "nbformat_minor": 2
}

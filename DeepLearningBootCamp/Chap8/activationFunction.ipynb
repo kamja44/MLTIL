{
 "cells": [
  {
   "cell_type": "code",
   "execution_count": null,
   "metadata": {},
   "outputs": [],
   "source": [
    "# 시그모이드(Sigmoid)와 하이퍼볼릭 탄젠트(Hyperbolic Tangent)는 대표적인 활성화 함수(activation Function)이다.\n",
    "# 시그모이드(sigmoid)는 음의 무한대에 가까울수록 0에 근접하는 값을 가지며, 양의 무한대에 가까울수록 1에 근접하는 값을 갖는다.\n",
    "# 즉, 시그모이드 함수의 출력값의 범위는 0에서 1사이로 정해져 있다.\n",
    "# 하이퍼볼릭 탄젠트(탄에이치)는 음의 무한대에 가까울수록 -1에 근접하는 값을 가지며, 양의 무한대에 가까울수록 1에 근접하는 값을 갖는다.\n",
    "# 즉, 탄에이치 함수의 출력값의 범위는 -1에서 1사이이다.\n",
    "# 두 함수 모두 양 극단의 기울기는 0에 근접하는 것을 특징으로 한다."
   ]
  },
  {
   "cell_type": "markdown",
   "metadata": {},
   "source": [
    "시그모이드 수식\n",
    "$$\n",
    "\\sigma(x)=\\frac{1}{1+e^{-x}}\n",
    "$$\n",
    "\n",
    "하이퍼볼릭 탄젠트 수식\n",
    "$$\n",
    "\\text{tanh}(x)=\\frac{e^x-e^{-x}}{e^x+e^{-x}}\n",
    "$$"
   ]
  },
  {
   "cell_type": "code",
   "execution_count": null,
   "metadata": {},
   "outputs": [],
   "source": [
    "# 선형 회귀의 경우, 키와 몸무게 같은 선형 데이터의 관계를 학습하는 문제이다.\n",
    "# 즉, n차원의 실수 벡터를 입력으로 받아 선형 관계의 m차원의 실수 벡터를 반환하도록 학습하는 문제이다."
   ]
  }
 ],
 "metadata": {
  "kernelspec": {
   "display_name": "study",
   "language": "python",
   "name": "python3"
  },
  "language_info": {
   "name": "python",
   "version": "3.9.17"
  },
  "orig_nbformat": 4
 },
 "nbformat": 4,
 "nbformat_minor": 2
}

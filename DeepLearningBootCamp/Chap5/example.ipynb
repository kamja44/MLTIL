{
 "cells": [
  {
   "cell_type": "code",
   "execution_count": 1,
   "metadata": {},
   "outputs": [],
   "source": [
    "import torch"
   ]
  },
  {
   "cell_type": "markdown",
   "metadata": {},
   "source": [
    "손실 함수 수식\n",
    "\\text{MSE}(\\hat{x}_{1:N}, x_{1:N})=\\frac{1}{N\\times{n}}\\sum_{i=1}^{N}{||x_i-\\hat{x}_i||_2^2}"
   ]
  },
  {
   "cell_type": "code",
   "execution_count": 2,
   "metadata": {},
   "outputs": [
    {
     "name": "stdout",
     "output_type": "stream",
     "text": [
      "tensor(2.5000)\n"
     ]
    }
   ],
   "source": [
    "# MSE 구현\n",
    "def mse(x_hat, x):\n",
    "    # |x_hat| = (batch_size, dim)\n",
    "    # |x| = (batch_size, dim)\n",
    "    y = ((x - x_hat) ** 2).mean()\n",
    "\n",
    "    return y\n",
    "\n",
    "# 실제 두 텐서 사이의 MSE 손실 값을 구한다.\n",
    "x = torch.FloatTensor([[1, 1], [2, 2]])\n",
    "x_hat = torch.FloatTensor([[0, 0], [0, 0]])\n",
    "print(mse(x_hat, x)) # tensor(2.5000)"
   ]
  },
  {
   "cell_type": "code",
   "execution_count": 4,
   "metadata": {},
   "outputs": [
    {
     "name": "stdout",
     "output_type": "stream",
     "text": [
      "tensor(10.)\n",
      "tensor([[1., 1.],\n",
      "        [4., 4.]])\n"
     ]
    }
   ],
   "source": [
    "# 파이토치 내장 MSE 손실 함수는 다음과 같이 활용할 수 있다.\n",
    "import torch.nn.functional as F\n",
    "F.mse_loss(x_hat, x) # tensor(2.5000)\n",
    "\n",
    "# 해당 함수는 reduction이라는 인자를 통해 MSE 손실 값을 구할 때 차원 감소 연산에 대한 설정을 할 수 있다.\n",
    "# sum과 none등을 선택하여, 원하는 대로 MSE 손실 함수의 출력값을 얻을 수 있다.\n",
    "print(F.mse_loss(x_hat, x, reduction=\"sum\")) # tensor(10.)\n",
    "print(F.mse_loss(x_hat, x, reduction=\"none\")) # tensor([[1., 1.],[4., 4.]])"
   ]
  },
  {
   "cell_type": "code",
   "execution_count": 5,
   "metadata": {},
   "outputs": [
    {
     "data": {
      "text/plain": [
       "tensor(2.5000)"
      ]
     },
     "execution_count": 5,
     "metadata": {},
     "output_type": "execute_result"
    }
   ],
   "source": [
    "# torch.nn.functional 이외에도 torch.nn을 사용할 수 있다.\n",
    "import torch.nn as nn\n",
    "mse_loss = nn.MSELoss()\n",
    "mse_loss(x_hat, x) # tensor(2.5000)\n",
    "\n",
    "# torch.nn.functional과 torch.nn 두 방법의 차이는 거의 없지만, torhc.nn을 사용하게 되면 nn.Module의 하위 클래스 내부에 선언하기 때문에 계층(layer)의 하나처럼 취급할 수 있다."
   ]
  },
  {
   "cell_type": "code",
   "execution_count": null,
   "metadata": {},
   "outputs": [],
   "source": []
  }
 ],
 "metadata": {
  "kernelspec": {
   "display_name": "base",
   "language": "python",
   "name": "python3"
  },
  "language_info": {
   "codemirror_mode": {
    "name": "ipython",
    "version": 3
   },
   "file_extension": ".py",
   "mimetype": "text/x-python",
   "name": "python",
   "nbconvert_exporter": "python",
   "pygments_lexer": "ipython3",
   "version": "3.9.13"
  },
  "orig_nbformat": 4
 },
 "nbformat": 4,
 "nbformat_minor": 2
}

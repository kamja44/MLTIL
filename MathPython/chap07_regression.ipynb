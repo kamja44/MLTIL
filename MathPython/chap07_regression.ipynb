{
 "cells": [
  {
   "cell_type": "code",
   "execution_count": null,
   "metadata": {},
   "outputs": [],
   "source": [
    "import pandas as pd\n",
    "df = pd.read_csv(\"../Dataset/BostonHousing.csv\")"
   ]
  },
  {
   "cell_type": "code",
   "execution_count": null,
   "metadata": {},
   "outputs": [],
   "source": [
    "df.head()"
   ]
  },
  {
   "cell_type": "code",
   "execution_count": null,
   "metadata": {},
   "outputs": [],
   "source": [
    "df.describe()"
   ]
  },
  {
   "cell_type": "code",
   "execution_count": null,
   "metadata": {},
   "outputs": [],
   "source": [
    "import matplotlib.pyplot as plt\n",
    "\n",
    "boston = df\n",
    "x_org = df.drop(\"medv\", axis=1).values\n",
    "yt = df[\"medv\"].values"
   ]
  },
  {
   "cell_type": "code",
   "execution_count": null,
   "metadata": {},
   "outputs": [],
   "source": [
    "# feature_names 속성을 생성하고 데이터프레임의 열 이름을 할당\n",
    "feature_names = boston.columns[:-1] # 마지막 열(medv 또는 price)를 제외한 모든 열 이름\n",
    "print(\"원본 데이터\", x_org.shape, yt.shape)\n",
    "print(\"항목 이름: \", feature_names)"
   ]
  },
  {
   "cell_type": "code",
   "execution_count": null,
   "metadata": {},
   "outputs": [],
   "source": [
    "# RM 데이터\n",
    "x_data = x_org[:, feature_names==\"rm\"]\n",
    "print(\"rm 데이터\", x_data.shape)"
   ]
  },
  {
   "cell_type": "code",
   "execution_count": null,
   "metadata": {},
   "outputs": [],
   "source": [
    "# 더미 변수 추가\n",
    "import numpy as np\n",
    "x = np.insert(x_data, 0, 1.0, axis=1)\n",
    "print(\"더미 변수 추가 후의 rm 데이터\", x.shape)"
   ]
  },
  {
   "cell_type": "code",
   "execution_count": null,
   "metadata": {},
   "outputs": [],
   "source": [
    "# 입력 데이터 x를 표시(더미 변수 포함)\n",
    "print(x.shape)\n",
    "print(x[:5, :])"
   ]
  },
  {
   "cell_type": "code",
   "execution_count": null,
   "metadata": {},
   "outputs": [],
   "source": [
    "# 정답값 yt 표시\n",
    "print(yt[:5])"
   ]
  },
  {
   "cell_type": "code",
   "execution_count": null,
   "metadata": {},
   "outputs": [],
   "source": [
    "# 예측함수 (1, x)의 값에서 예측값 yp를 계산 => 경사하강법에서 사용할 예측함수 정의\n",
    "def pred(x, w):\n",
    "    x = np.nan_to_num(x) # nan이 있다면 0으로\n",
    "    w = np.nan_to_num(w) # nan이 있다면 0으로\n",
    "\n",
    "    result = x @ w\n",
    "    return np.nan_to_num(result) # @ = 행렬 곱셈 연산자 즉, 내적을 의미한다."
   ]
  },
  {
   "cell_type": "code",
   "execution_count": null,
   "metadata": {},
   "outputs": [],
   "source": [
    "# 초기화 처리\n",
    "\n",
    "# 데이터 전체 건수\n",
    "M = x.shape[0]\n",
    "\n",
    "# 입력 데이터의 차수 (더미 변수 포함)\n",
    "D = x.shape[1]\n",
    "\n",
    "# 반복 횟수\n",
    "iters = 50000\n",
    "\n",
    "# 학습률\n",
    "alpha = 0.01\n",
    "\n",
    "# 가중치 벡터의 초깃값 (모든 값을 1로 한다)\n",
    "w = np.ones(D)\n",
    "print(w)\n",
    "\n",
    "# 평가 결과 기록 (손실함수의 값만 기록)\n",
    "history = np.zeros((0,2))"
   ]
  },
  {
   "cell_type": "code",
   "execution_count": null,
   "metadata": {},
   "outputs": [],
   "source": [
    "# 반복 루프\n",
    "for k in range(iters):\n",
    "    \n",
    "    # 예측값 계산 (7.8.1)\n",
    "    yp = pred(x, w)\n",
    "    \n",
    "    # 오차 계산 (7.8.2)\n",
    "    yd = yp - yt\n",
    "    \n",
    "    # 경사하강법 적용 (7.8.4)\n",
    "    w = w - alpha * (x.T @ yd) / M\n",
    "    \n",
    "    # 학습 곡선을 그리기 위한 데이터 계산 및 저장\n",
    "    if (k % 100 == 0):\n",
    "        # 손실함숫값의 계산 (7.6.1)\n",
    "        loss = np.mean(yd ** 2) / 2\n",
    "        # 계산 결과의 기록\n",
    "        history = np.vstack((history, np.array([k, loss])))\n",
    "        # 화면 표시\n",
    "        print( \"iter = %d loss = %f\" % (k, loss))"
   ]
  },
  {
   "cell_type": "code",
   "execution_count": null,
   "metadata": {},
   "outputs": [],
   "source": [
    "# 최종 손실함수 초기값, 최종값\n",
    "print(f\"손실함수 초기값 : {history[0, 1]}\")\n",
    "print(f\"손실함수 최종값 : {history[-1, 1]}\")"
   ]
  },
  {
   "cell_type": "code",
   "execution_count": null,
   "metadata": {},
   "outputs": [],
   "source": [
    "# 다음 직선을 그리기 위한 좌표값 계산\n",
    "xall = x[:, 1].ravel()\n",
    "xl = np.array([[1, xall.min()], [1, xall.max()]])\n",
    "yl = pred(xl, w)"
   ]
  },
  {
   "cell_type": "code",
   "execution_count": null,
   "metadata": {},
   "outputs": [],
   "source": [
    "# 산점도와 회귀 직선 그리기\n",
    "plt.figure(figsize=(6, 6))\n",
    "plt.scatter(x[:, 1], yt, s=10, c=\"b\")\n",
    "plt.xlabel(\"rm\", fontsize=14)\n",
    "plt.ylabel(\"medv\", fontsize=14)\n",
    "plt.plot(xl[:,1], yl, c='k')\n",
    "plt.show()"
   ]
  },
  {
   "cell_type": "code",
   "execution_count": null,
   "metadata": {},
   "outputs": [],
   "source": [
    "# 학습 곡선의 표시(처음 1개분 제외)\n",
    "plt.plot(history[1:, 0], history[1:, 1])\n",
    "plt.show()"
   ]
  },
  {
   "cell_type": "code",
   "execution_count": null,
   "metadata": {},
   "outputs": [],
   "source": [
    "# 다중 회귀 알고리즘\n",
    "\n",
    "# 입력ㄷ ㅔ이터 항목 추가\n",
    "\n",
    "# 열(LSTAT: 저소득층 비율) 추가\n",
    "x_add = x_org[:, feature_names == \"lstat\"]\n",
    "x2 = np.hstack((x, x_add))\n",
    "print(x2.shape)"
   ]
  },
  {
   "cell_type": "code",
   "execution_count": null,
   "metadata": {},
   "outputs": [],
   "source": [
    "# 입력 데이터 x 표시(더미 데이터 포함)\n",
    "print(x2[:5, :])"
   ]
  },
  {
   "cell_type": "code",
   "execution_count": null,
   "metadata": {},
   "outputs": [],
   "source": [
    "# 초기화 처리\n",
    "# 원래의 반복 계산 로직과 동일하지만 x를 x2로 변경한다.\n",
    "# 학습률을 0.01로 설정하면, 학습률이 너무 커서 오버플로우 에러 발생 0.001로 변경\n",
    "\n",
    "# 데이터 전체 건수\n",
    "M = x2.shape[0]\n",
    "D = x2.shape[1]\n",
    "\n",
    "# 반복 횟수\n",
    "iters = 50000\n",
    "\n",
    "# 학습률\n",
    "alpha = 0.001\n",
    "\n",
    "# 가중치 벡터의 초기값(모든 값을 1로 한다.)\n",
    "w = np.ones(D)\n",
    "\n",
    "# 평가 결과 기록(손실함수값만 기록)\n",
    "history = np.zeros((0, 2))\n",
    "\n",
    "# 반복 루프\n",
    "for k in range(iters):\n",
    "\n",
    "    # 예측값 계산(7.8.1)\n",
    "    yp = pred(x2, w)\n",
    "\n",
    "    # 오차 계산(7.8.2)\n",
    "    yd = yp - yt\n",
    "\n",
    "    # 경사하강법 적용(7.8.4)\n",
    "    w = w - alpha*(x2.T @ yd) / M\n",
    "\n",
    "    # 학습 곡선 그리기용 데이터의 계산과 저장\n",
    "    if(k % 100 == 0):\n",
    "\n",
    "        # 손실함수값의 계산(7.6.1)\n",
    "        loss = np.mean(yd ** 2) / 2\n",
    "\n",
    "        # 계산 결과의 기록\n",
    "        history = np.vstack((history, np.array([k, loss])))\n",
    "\n",
    "        # 화면 표시\n",
    "        print(\"iter = %d loss = %f\" %(k, loss))\n"
   ]
  },
  {
   "cell_type": "code",
   "execution_count": null,
   "metadata": {},
   "outputs": [],
   "source": [
    "# 최종 손실함수 초기값과 최종값\n",
    "print(\"손실함수 초기값 : %f\" %history[0, 1])\n",
    "print(\"손실함수 최종값 : %f\" % history[-1, 1])"
   ]
  },
  {
   "cell_type": "code",
   "execution_count": null,
   "metadata": {},
   "outputs": [],
   "source": [
    "# 학습 곡선의 표시(처음 10개분 제외)\n",
    "plt.plot(history[:, 0], history[:, 1])\n",
    "plt.show()"
   ]
  },
  {
   "cell_type": "code",
   "execution_count": null,
   "metadata": {},
   "outputs": [],
   "source": []
  }
 ],
 "metadata": {
  "kernelspec": {
   "display_name": "study",
   "language": "python",
   "name": "python3"
  },
  "language_info": {
   "codemirror_mode": {
    "name": "ipython",
    "version": 3
   },
   "file_extension": ".py",
   "mimetype": "text/x-python",
   "name": "python",
   "nbconvert_exporter": "python",
   "pygments_lexer": "ipython3",
   "version": "3.11.5"
  }
 },
 "nbformat": 4,
 "nbformat_minor": 2
}

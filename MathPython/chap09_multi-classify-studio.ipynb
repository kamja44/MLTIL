{
 "cells": [
  {
   "cell_type": "code",
   "execution_count": null,
   "metadata": {},
   "outputs": [],
   "source": [
    "import numpy as np\n",
    "import matplotlib.pyplot as plt\n",
    "\n",
    "from sklearn.datasets import load_iris\n",
    "iris = load_iris()\n",
    "x_org, y_org = iris.data, iris.target"
   ]
  },
  {
   "cell_type": "code",
   "execution_count": null,
   "metadata": {},
   "outputs": [],
   "source": [
    "# 입력 데이터에 관해서는 sepal length(0)와 petal length(2)만을 추출한다.\n",
    "x_select = x_org[:, [0, 2]]\n",
    "print(\"원래 데이터\", x_select.shape, y_org.shape)"
   ]
  },
  {
   "cell_type": "code",
   "execution_count": null,
   "metadata": {},
   "outputs": [],
   "source": [
    "# 학습 데이터 산점도 표시\n",
    "x_t0 = x_select[y_org == 0]\n",
    "x_t1 = x_select[y_org == 1]\n",
    "x_t2 = x_select[y_org == 2]\n",
    "plt.figure(figsize=(6,6))\n",
    "plt.scatter(x_t0[:,0], x_t0[:,1], marker='x', c='k', s=50, label='0 (setosa)')\n",
    "plt.scatter(x_t1[:,0], x_t1[:,1], marker='o', c='b', s=50, label='1 (versicolour)')\n",
    "plt.scatter(x_t2[:,0], x_t2[:,1], marker='+', c='k', s=50, label='2 (virginica)')\n",
    "plt.xlabel('sepal_length', fontsize=14)\n",
    "plt.ylabel('petal_length', fontsize=14)\n",
    "plt.xticks(size=14)\n",
    "plt.yticks(size=14)\n",
    "plt.legend(fontsize=14)\n",
    "plt.show()"
   ]
  },
  {
   "cell_type": "markdown",
   "metadata": {},
   "source": [
    "데이터 전처리"
   ]
  },
  {
   "cell_type": "code",
   "execution_count": null,
   "metadata": {},
   "outputs": [],
   "source": [
    "# 더미 변수 추가\n",
    "x_all = np.insert(x_select, 0, 1.0, axis=1)"
   ]
  },
  {
   "cell_type": "code",
   "execution_count": null,
   "metadata": {},
   "outputs": [],
   "source": [
    "# y를 One-hot-Vector\n",
    "from sklearn.preprocessing import OneHotEncoder\n",
    "# one = OneHotEncoder(sparse=False, categories=\"auto\")\n",
    "ohe = OneHotEncoder(sparse=False)\n",
    "y_work = np.c_[y_org]\n",
    "y_all_one = ohe.fit_transform(y_work)\n",
    "print(\"오리지널\", y_org.shape)\n",
    "print(\"2차 원화\", y_work.shape)\n",
    "print(\"원핫 인코딩\", y_all_one.shape)"
   ]
  },
  {
   "cell_type": "code",
   "execution_count": null,
   "metadata": {},
   "outputs": [],
   "source": [
    "# 학습 데이터와 검증 데이터를 분할\n",
    "from sklearn.model_selection import train_test_split\n",
    "\n",
    "x_train, x_test, y_train, y_test, y_train_one, y_test_one = train_test_split(\n",
    "    x_all, y_org, y_all_one, train_size=75, test_size=75, random_state=123\n",
    ")\n",
    "print(x_train.shape, x_test.shape, y_train.shape, y_test.shape, y_train_one.shape, y_test_one.shape)"
   ]
  },
  {
   "cell_type": "code",
   "execution_count": null,
   "metadata": {},
   "outputs": [],
   "source": [
    "print(\"입력 데이터(x)\")\n",
    "print(x_train[:5, :])"
   ]
  },
  {
   "cell_type": "code",
   "execution_count": null,
   "metadata": {},
   "outputs": [],
   "source": [
    "print(\"정답 데이터(y)\")\n",
    "print(y_train[:5])"
   ]
  },
  {
   "cell_type": "code",
   "execution_count": null,
   "metadata": {},
   "outputs": [],
   "source": [
    "print(\"정답 데이터 (원핫 인코딩)\")\n",
    "print(y_train_one[:5, :])"
   ]
  },
  {
   "cell_type": "markdown",
   "metadata": {},
   "source": [
    "학습용 변수 설정"
   ]
  },
  {
   "cell_type": "code",
   "execution_count": null,
   "metadata": {},
   "outputs": [],
   "source": [
    "# 학습 대상의 선택\n",
    "x, yt = x_train, y_train_one"
   ]
  },
  {
   "cell_type": "markdown",
   "metadata": {},
   "source": [
    "예측 함수"
   ]
  },
  {
   "cell_type": "code",
   "execution_count": null,
   "metadata": {},
   "outputs": [],
   "source": [
    "# 소프트맥스 함수 (9.7.3)\n",
    "def softmax(x):\n",
    "    x= x.T\n",
    "    x_max = x.max(axis=0)\n",
    "    # 입력값이 너무 크면 오버플로우가 발생할 수 있다.\n",
    "    # exp(지수함수) 호출 전 오버플로우 발생을 방지하기 위해 입력 데이터의 최대값을 뺀다.\n",
    "    x = x - x_max\n",
    "    w = np.exp(x)\n",
    "    return (w / w.sum(axis=0)).T"
   ]
  },
  {
   "cell_type": "code",
   "execution_count": null,
   "metadata": {},
   "outputs": [],
   "source": [
    "# 예측값 게산 (9.7.1), (9.7.2)\n",
    "def pred(x, W):\n",
    "    return softmax(x @ W)"
   ]
  },
  {
   "cell_type": "markdown",
   "metadata": {},
   "source": [
    "평가"
   ]
  },
  {
   "cell_type": "code",
   "execution_count": null,
   "metadata": {},
   "outputs": [],
   "source": [
    "# 교차 엔트로피 함수 (9.5.1)\n",
    "def cross_entropy(yt, yp):\n",
    "    return -np.mean(np.sum(yt * np.log(yp), axis=1))"
   ]
  },
  {
   "cell_type": "code",
   "execution_count": null,
   "metadata": {},
   "outputs": [],
   "source": [
    "# 모델을 평가하는 함수\n",
    "from sklearn.metrics import accuracy_score\n",
    "\n",
    "def evaluate(x_test, y_test, y_test_one, W):\n",
    "\n",
    "    # 예측값 계산(확률값)\n",
    "    yp_test_one = pred(x_test, W)\n",
    "\n",
    "    # 확률값에서 예측 클래스(0, 1, 2)를 도출\n",
    "    yp_test = np.argmax(yp_test_one, axis=1)\n",
    "\n",
    "    # 손실함수 값 계산\n",
    "    loss = cross_entropy(y_test_one, yp_test_one)\n",
    "\n",
    "    # 정확도 산출\n",
    "    score = accuracy_score(y_test, yp_test)\n",
    "    return loss, score"
   ]
  },
  {
   "cell_type": "markdown",
   "metadata": {},
   "source": [
    "초기화 처리"
   ]
  },
  {
   "cell_type": "code",
   "execution_count": null,
   "metadata": {},
   "outputs": [],
   "source": [
    "# 표본 수\n",
    "M = x.shape[0]\n",
    "\n",
    "# 입력 차원 수(더미 변수 포함)\n",
    "D = x.shape[1]\n",
    "\n",
    "# 분류 대상 클래스 수\n",
    "N = yt.shape[1]\n",
    "\n",
    "# 반복 횟수\n",
    "iters = 10000\n",
    "\n",
    "# 학습률\n",
    "alpha = 0.01\n",
    "\n",
    "# 가중치 행렬의 초기 설정(모두가 1)\n",
    "W = np.ones((D, N))\n",
    "\n",
    "# 평가 결과 기록\n",
    "history = np.zeros((0, 3))"
   ]
  },
  {
   "cell_type": "markdown",
   "metadata": {},
   "source": [
    "주요 처리"
   ]
  },
  {
   "cell_type": "code",
   "execution_count": null,
   "metadata": {},
   "outputs": [],
   "source": [
    "for k in range(iters):\n",
    "\n",
    "    # 예측값 계산 (9.7.1), (9.7.2)\n",
    "    yp = pred(x, W)\n",
    "\n",
    "    # 오차 계산 (9.7.4)\n",
    "    yd = yp - yt\n",
    "\n",
    "    # 가중치 업데이트 (9.7.5)\n",
    "    W = W - alpha * (x.T @ yd) / M\n",
    "\n",
    "    if (k % 10 == 0):\n",
    "        loss, score = evaluate(x_test, y_test, y_test_one, W)\n",
    "        history = np.vstack((history, np.array([k, loss, score])))\n",
    "        print(\"epoch = %d loss = %f score = %f\" % (k, loss, score))"
   ]
  },
  {
   "cell_type": "markdown",
   "metadata": {},
   "source": [
    "정확도 확인"
   ]
  },
  {
   "cell_type": "code",
   "execution_count": null,
   "metadata": {},
   "outputs": [],
   "source": [
    "# 손실함수의 값과 정확도 점검\n",
    "print(\"[초기 상태] 손실함수: %f, 정확도 : %f\" %(history[0, 1], history[0, 2]))\n",
    "print(\"[최종 상태] 손실함수: %f, 정확도 : %f\" %(history[-1, 1], history[-1, 2]))"
   ]
  },
  {
   "cell_type": "code",
   "execution_count": null,
   "metadata": {},
   "outputs": [],
   "source": [
    "# 학습 곡선 표시 (손실 함수)\n",
    "plt.plot(history[:,0], history[:,1])\n",
    "plt.grid()\n",
    "plt.ylim(0,1.2)\n",
    "plt.xlabel('iter', fontsize=14)\n",
    "plt.ylabel('loss', fontsize=14)\n",
    "plt.title('iter vs loss', fontsize=14)\n",
    "plt.show()"
   ]
  },
  {
   "cell_type": "code",
   "execution_count": null,
   "metadata": {},
   "outputs": [],
   "source": [
    "# 학습 곡선 표시 (정밀도)\n",
    "plt.plot(history[:,0], history[:,2])\n",
    "plt.ylim(0,1)\n",
    "plt.grid()\n",
    "plt.xlabel('iter', fontsize=14)\n",
    "plt.ylabel('accuracy', fontsize=14)\n",
    "plt.title('iter vs accuracy', fontsize=14)\n",
    "plt.show()"
   ]
  },
  {
   "cell_type": "code",
   "execution_count": null,
   "metadata": {},
   "outputs": [],
   "source": [
    "# 3차원 표시\n",
    "from mpl_toolkits.mplot3d import Axes3D\n",
    "x1 = np.linspace(4, 8.5, 100)\n",
    "x2 = np.linspace(0.5, 7.5, 100)\n",
    "xx1, xx2 = np.meshgrid(x1, x2)\n",
    "xxx = np.array([np.ones(xx1.ravel().shape), \n",
    "    xx1.ravel(), xx2.ravel()]).T\n",
    "pp = pred(xxx, W)\n",
    "c0 = pp[:,0].reshape(xx1.shape)\n",
    "c1 = pp[:,1].reshape(xx1.shape)\n",
    "c2 = pp[:,2].reshape(xx1.shape)\n",
    "plt.figure(figsize=(8,8))\n",
    "ax = plt.subplot(1, 1, 1, projection='3d')\n",
    "ax.plot_surface(xx1, xx2, c0, color='lightblue', \n",
    "    edgecolor='black', rstride=10, cstride=10, alpha=0.7)\n",
    "ax.plot_surface(xx1, xx2, c1, color='blue', \n",
    "    edgecolor='black', rstride=10, cstride=10, alpha=0.7)\n",
    "ax.plot_surface(xx1, xx2, c2, color='lightgrey', \n",
    "    edgecolor='black', rstride=10, cstride=10, alpha=0.7)\n",
    "ax.scatter(x_t0[:,0], x_t0[:,1], 1, s=50, alpha=1, marker='+', c='k')\n",
    "ax.scatter(x_t1[:,0], x_t1[:,1], 1, s=30, alpha=1, marker='o', c='k')\n",
    "ax.scatter(x_t2[:,0], x_t2[:,1], 1, s=50, alpha=1, marker='x', c='k')\n",
    "ax.set_xlim(4,8.5)\n",
    "ax.set_ylim(0.5,7.5)\n",
    "ax.view_init(elev=40, azim=70)"
   ]
  },
  {
   "cell_type": "markdown",
   "metadata": {},
   "source": [
    "입력 변수를 4차원으로 변경"
   ]
  },
  {
   "cell_type": "code",
   "execution_count": null,
   "metadata": {},
   "outputs": [],
   "source": [
    "# 더미 변수 추가\n",
    "x_all2 = np.insert(x_org, 0, 1.0, axis=1)"
   ]
  },
  {
   "cell_type": "code",
   "execution_count": null,
   "metadata": {},
   "outputs": [],
   "source": [
    "# 학습 데이터와 검증 데이터로 분할\n",
    "from sklearn.model_selection import train_test_split\n",
    "\n",
    "x_train2, x_test2, y_train, y_test, \\\n",
    "y_train_one, y_test_one = train_test_split(\n",
    "    x_all2, y_org, y_all_one, train_size = 75, test_size = 75, random_state=123\n",
    ")\n",
    "print(x_train2.shape, x_test2.shape, y_train.shape, y_test.shape, y_train_one.shape, y_test_one.shape)"
   ]
  },
  {
   "cell_type": "code",
   "execution_count": null,
   "metadata": {},
   "outputs": [],
   "source": [
    "print(\"입력 데이터(x)\")\n",
    "print(x_train2[:5, :])"
   ]
  },
  {
   "cell_type": "code",
   "execution_count": null,
   "metadata": {},
   "outputs": [],
   "source": [
    "# 학습 대상의 선택\n",
    "x, yt, x_test = x_train2, y_train_one, x_test2"
   ]
  },
  {
   "cell_type": "code",
   "execution_count": null,
   "metadata": {},
   "outputs": [],
   "source": [
    "# 초기화 처리\n",
    "\n",
    "# 표본 수\n",
    "M = x.shape[0]\n",
    "# 입력 차원 수(더미 변수를 포함)\n",
    "D = x.shape[1]\n",
    "# 분류 대상 클래스 수\n",
    "N = yt.shape[1]\n",
    "\n",
    "# 반복 횟수\n",
    "iters = 10000\n",
    "\n",
    "# 학습률\n",
    "alpha = 0.01\n",
    "\n",
    "# 가중치 행렬의 초기 설정(모두가 1)\n",
    "W = np.ones((D, N)) \n",
    "\n",
    "# 평가 결과 기록\n",
    "history = np.zeros((0, 3))"
   ]
  },
  {
   "cell_type": "code",
   "execution_count": null,
   "metadata": {},
   "outputs": [],
   "source": [
    "# 주요처리(4차원 버전)\n",
    "for k in range(iters):\n",
    "\n",
    "    # 예측값 계산 (9.7.1) (9.7.2)\n",
    "    yp = pred(x, W)\n",
    "\n",
    "    # 오차 계산 (9.7.4)\n",
    "    yd = yp - yt\n",
    "\n",
    "    # 가중치 업데이트 (9.7.5)\n",
    "    W = W - alpha * (x.T @ yd) / M\n",
    "\n",
    "    if(k % 10 == 0):\n",
    "        loss, score = evaluate(x_test, y_test, y_test_one, W)\n",
    "        history = np.vstack((history, np.array([k, loss, score])))\n",
    "        print(\"epoch = %d loss = %f score = %f\" %(k, loss, score))"
   ]
  },
  {
   "cell_type": "code",
   "execution_count": null,
   "metadata": {},
   "outputs": [],
   "source": [
    "print(history.shape)"
   ]
  },
  {
   "cell_type": "code",
   "execution_count": null,
   "metadata": {},
   "outputs": [],
   "source": [
    "# 손실함수의 값과 정확도 점검\n",
    "print ( '[초기 상태] 손실함수: %f, 정확도: %f'\n",
    "    % (history[0,1], history[0,2]))\n",
    "print( '[최종 상태] 손실함수: %f, 정확도: %f'\n",
    "    % (history[-1,1], history[-1,2]))"
   ]
  },
  {
   "cell_type": "code",
   "execution_count": null,
   "metadata": {},
   "outputs": [],
   "source": [
    "# 학습 곡선 표시 (손실 함수)\n",
    "plt.plot(history[:,0], history[:,1])\n",
    "plt.ylim(0,1.2)\n",
    "plt.grid()\n",
    "plt.xlabel('iter', fontsize=14)\n",
    "plt.ylabel('loss', fontsize=14)\n",
    "plt.title('iter vs loss', fontsize=14)\n",
    "plt.show()"
   ]
  },
  {
   "cell_type": "code",
   "execution_count": null,
   "metadata": {},
   "outputs": [],
   "source": [
    "# 학습 곡선 표시 (정밀도)\n",
    "plt.plot(history[:,0], history[:,2])\n",
    "plt.ylim(0,1)\n",
    "plt.grid()\n",
    "plt.xlabel('iter', fontsize=14)\n",
    "plt.ylabel('accuracy', fontsize=14)\n",
    "plt.title('iter vs accuracy', fontsize=14)\n",
    "plt.show()"
   ]
  },
  {
   "cell_type": "code",
   "execution_count": null,
   "metadata": {},
   "outputs": [],
   "source": []
  }
 ],
 "metadata": {
  "kernelspec": {
   "display_name": "study",
   "language": "python",
   "name": "python3"
  },
  "language_info": {
   "codemirror_mode": {
    "name": "ipython",
    "version": 3
   },
   "file_extension": ".py",
   "mimetype": "text/x-python",
   "name": "python",
   "nbconvert_exporter": "python",
   "pygments_lexer": "ipython3",
   "version": "3.11.5"
  }
 },
 "nbformat": 4,
 "nbformat_minor": 2
}
